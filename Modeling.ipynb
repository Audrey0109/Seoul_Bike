{
  "cells": [
    {
      "cell_type": "markdown",
      "metadata": {
        "id": "view-in-github",
        "colab_type": "text"
      },
      "source": [
        "<a href=\"https://colab.research.google.com/github/Audrey0109/Seoul_Bike/blob/main/Modeling.ipynb\" target=\"_parent\"><img src=\"https://colab.research.google.com/assets/colab-badge.svg\" alt=\"Open In Colab\"/></a>"
      ]
    },
    {
      "cell_type": "markdown",
      "metadata": {
        "id": "bdEUMG7z-Iga"
      },
      "source": [
        "# Modeling"
      ]
    },
    {
      "cell_type": "code",
      "execution_count": null,
      "metadata": {
        "id": "KmFhapUN-Igd"
      },
      "outputs": [],
      "source": [
        "# We first import all the libraries that we will need\n",
        "import pandas as pd\n",
        "import matplotlib.pyplot as plt\n",
        "%matplotlib inline\n",
        "import seaborn as sns\n",
        "import numpy as np\n",
        "import datetime as dt\n",
        "#import calmap\n",
        "\n",
        "# MACHINE LEARNING\n",
        "import sklearn as sk\n",
        "from sklearn import decomposition\n",
        "from sklearn import preprocessing\n",
        "from sklearn.preprocessing import StandardScaler \n",
        "from sklearn.model_selection import train_test_split\n",
        "from sklearn.linear_model import LinearRegression\n",
        "from sklearn import linear_model\n",
        "from sklearn.model_selection import GridSearchCV\n",
        "from sklearn.linear_model import LassoCV\n",
        "from sklearn.neural_network import MLPRegressor\n",
        "from sklearn.datasets import make_regression\n",
        "from sklearn.tree import DecisionTreeRegressor\n",
        "from sklearn.ensemble import RandomForestRegressor\n",
        "from sklearn.model_selection import RandomizedSearchCV\n",
        "from sklearn.neighbors import KNeighborsRegressor\n",
        "from sklearn.svm import SVR\n",
        "from sklearn.datasets import make_regression\n",
        "from sklearn.ensemble import GradientBoostingRegressor\n",
        "\n",
        "# Keras specific\n",
        "import keras\n",
        "from keras.models import Sequential\n",
        "from keras.layers import Dense\n",
        "\n",
        "from sklearn.metrics import r2_score, mean_squared_error, accuracy_score, precision_score, recall_score, confusion_matrix\n",
        "\n",
        "from sklearn.ensemble import GradientBoostingClassifier, RandomForestClassifier\n",
        "from sklearn.svm import SVC\n",
        "from sklearn.cluster import KMeans\n",
        "from sklearn.neighbors import KNeighborsClassifier\n",
        "\n",
        "\n"
      ]
    },
    {
      "cell_type": "code",
      "execution_count": null,
      "metadata": {
        "id": "vs-Qw2dd-Igg"
      },
      "outputs": [],
      "source": [
        "df=pd.read_csv(\"https://archive.ics.uci.edu/ml/machine-learning-databases/00560/SeoulBikeData.csv\", encoding=\"latin1\")"
      ]
    },
    {
      "cell_type": "code",
      "execution_count": null,
      "metadata": {
        "colab": {
          "base_uri": "https://localhost:8080/",
          "height": 679
        },
        "id": "egOt30sm-Igh",
        "outputId": "e8aad8f3-fd94-4662-8837-d16a16bb471d"
      },
      "outputs": [
        {
          "output_type": "execute_result",
          "data": {
            "text/html": [
              "\n",
              "  <div id=\"df-10f770fa-8f2d-4c97-bc7e-aadc583fe16f\">\n",
              "    <div class=\"colab-df-container\">\n",
              "      <div>\n",
              "<style scoped>\n",
              "    .dataframe tbody tr th:only-of-type {\n",
              "        vertical-align: middle;\n",
              "    }\n",
              "\n",
              "    .dataframe tbody tr th {\n",
              "        vertical-align: top;\n",
              "    }\n",
              "\n",
              "    .dataframe thead th {\n",
              "        text-align: right;\n",
              "    }\n",
              "</style>\n",
              "<table border=\"1\" class=\"dataframe\">\n",
              "  <thead>\n",
              "    <tr style=\"text-align: right;\">\n",
              "      <th></th>\n",
              "      <th>Date</th>\n",
              "      <th>Bike_Count</th>\n",
              "      <th>Hour</th>\n",
              "      <th>Temp</th>\n",
              "      <th>Hum</th>\n",
              "      <th>Wind</th>\n",
              "      <th>Vis</th>\n",
              "      <th>Dew</th>\n",
              "      <th>Solar</th>\n",
              "      <th>Rain</th>\n",
              "      <th>Snow</th>\n",
              "      <th>Seasons</th>\n",
              "      <th>Holiday</th>\n",
              "      <th>Functioning Day</th>\n",
              "    </tr>\n",
              "  </thead>\n",
              "  <tbody>\n",
              "    <tr>\n",
              "      <th>0</th>\n",
              "      <td>01/12/2017</td>\n",
              "      <td>254</td>\n",
              "      <td>0</td>\n",
              "      <td>-5.2</td>\n",
              "      <td>37</td>\n",
              "      <td>2.2</td>\n",
              "      <td>2000</td>\n",
              "      <td>-17.6</td>\n",
              "      <td>0.0</td>\n",
              "      <td>0.0</td>\n",
              "      <td>0.0</td>\n",
              "      <td>Winter</td>\n",
              "      <td>No Holiday</td>\n",
              "      <td>Yes</td>\n",
              "    </tr>\n",
              "    <tr>\n",
              "      <th>1</th>\n",
              "      <td>01/12/2017</td>\n",
              "      <td>204</td>\n",
              "      <td>1</td>\n",
              "      <td>-5.5</td>\n",
              "      <td>38</td>\n",
              "      <td>0.8</td>\n",
              "      <td>2000</td>\n",
              "      <td>-17.6</td>\n",
              "      <td>0.0</td>\n",
              "      <td>0.0</td>\n",
              "      <td>0.0</td>\n",
              "      <td>Winter</td>\n",
              "      <td>No Holiday</td>\n",
              "      <td>Yes</td>\n",
              "    </tr>\n",
              "    <tr>\n",
              "      <th>2</th>\n",
              "      <td>01/12/2017</td>\n",
              "      <td>173</td>\n",
              "      <td>2</td>\n",
              "      <td>-6.0</td>\n",
              "      <td>39</td>\n",
              "      <td>1.0</td>\n",
              "      <td>2000</td>\n",
              "      <td>-17.7</td>\n",
              "      <td>0.0</td>\n",
              "      <td>0.0</td>\n",
              "      <td>0.0</td>\n",
              "      <td>Winter</td>\n",
              "      <td>No Holiday</td>\n",
              "      <td>Yes</td>\n",
              "    </tr>\n",
              "    <tr>\n",
              "      <th>3</th>\n",
              "      <td>01/12/2017</td>\n",
              "      <td>107</td>\n",
              "      <td>3</td>\n",
              "      <td>-6.2</td>\n",
              "      <td>40</td>\n",
              "      <td>0.9</td>\n",
              "      <td>2000</td>\n",
              "      <td>-17.6</td>\n",
              "      <td>0.0</td>\n",
              "      <td>0.0</td>\n",
              "      <td>0.0</td>\n",
              "      <td>Winter</td>\n",
              "      <td>No Holiday</td>\n",
              "      <td>Yes</td>\n",
              "    </tr>\n",
              "    <tr>\n",
              "      <th>4</th>\n",
              "      <td>01/12/2017</td>\n",
              "      <td>78</td>\n",
              "      <td>4</td>\n",
              "      <td>-6.0</td>\n",
              "      <td>36</td>\n",
              "      <td>2.3</td>\n",
              "      <td>2000</td>\n",
              "      <td>-18.6</td>\n",
              "      <td>0.0</td>\n",
              "      <td>0.0</td>\n",
              "      <td>0.0</td>\n",
              "      <td>Winter</td>\n",
              "      <td>No Holiday</td>\n",
              "      <td>Yes</td>\n",
              "    </tr>\n",
              "    <tr>\n",
              "      <th>...</th>\n",
              "      <td>...</td>\n",
              "      <td>...</td>\n",
              "      <td>...</td>\n",
              "      <td>...</td>\n",
              "      <td>...</td>\n",
              "      <td>...</td>\n",
              "      <td>...</td>\n",
              "      <td>...</td>\n",
              "      <td>...</td>\n",
              "      <td>...</td>\n",
              "      <td>...</td>\n",
              "      <td>...</td>\n",
              "      <td>...</td>\n",
              "      <td>...</td>\n",
              "    </tr>\n",
              "    <tr>\n",
              "      <th>8755</th>\n",
              "      <td>30/11/2018</td>\n",
              "      <td>1003</td>\n",
              "      <td>19</td>\n",
              "      <td>4.2</td>\n",
              "      <td>34</td>\n",
              "      <td>2.6</td>\n",
              "      <td>1894</td>\n",
              "      <td>-10.3</td>\n",
              "      <td>0.0</td>\n",
              "      <td>0.0</td>\n",
              "      <td>0.0</td>\n",
              "      <td>Autumn</td>\n",
              "      <td>No Holiday</td>\n",
              "      <td>Yes</td>\n",
              "    </tr>\n",
              "    <tr>\n",
              "      <th>8756</th>\n",
              "      <td>30/11/2018</td>\n",
              "      <td>764</td>\n",
              "      <td>20</td>\n",
              "      <td>3.4</td>\n",
              "      <td>37</td>\n",
              "      <td>2.3</td>\n",
              "      <td>2000</td>\n",
              "      <td>-9.9</td>\n",
              "      <td>0.0</td>\n",
              "      <td>0.0</td>\n",
              "      <td>0.0</td>\n",
              "      <td>Autumn</td>\n",
              "      <td>No Holiday</td>\n",
              "      <td>Yes</td>\n",
              "    </tr>\n",
              "    <tr>\n",
              "      <th>8757</th>\n",
              "      <td>30/11/2018</td>\n",
              "      <td>694</td>\n",
              "      <td>21</td>\n",
              "      <td>2.6</td>\n",
              "      <td>39</td>\n",
              "      <td>0.3</td>\n",
              "      <td>1968</td>\n",
              "      <td>-9.9</td>\n",
              "      <td>0.0</td>\n",
              "      <td>0.0</td>\n",
              "      <td>0.0</td>\n",
              "      <td>Autumn</td>\n",
              "      <td>No Holiday</td>\n",
              "      <td>Yes</td>\n",
              "    </tr>\n",
              "    <tr>\n",
              "      <th>8758</th>\n",
              "      <td>30/11/2018</td>\n",
              "      <td>712</td>\n",
              "      <td>22</td>\n",
              "      <td>2.1</td>\n",
              "      <td>41</td>\n",
              "      <td>1.0</td>\n",
              "      <td>1859</td>\n",
              "      <td>-9.8</td>\n",
              "      <td>0.0</td>\n",
              "      <td>0.0</td>\n",
              "      <td>0.0</td>\n",
              "      <td>Autumn</td>\n",
              "      <td>No Holiday</td>\n",
              "      <td>Yes</td>\n",
              "    </tr>\n",
              "    <tr>\n",
              "      <th>8759</th>\n",
              "      <td>30/11/2018</td>\n",
              "      <td>584</td>\n",
              "      <td>23</td>\n",
              "      <td>1.9</td>\n",
              "      <td>43</td>\n",
              "      <td>1.3</td>\n",
              "      <td>1909</td>\n",
              "      <td>-9.3</td>\n",
              "      <td>0.0</td>\n",
              "      <td>0.0</td>\n",
              "      <td>0.0</td>\n",
              "      <td>Autumn</td>\n",
              "      <td>No Holiday</td>\n",
              "      <td>Yes</td>\n",
              "    </tr>\n",
              "  </tbody>\n",
              "</table>\n",
              "<p>8760 rows × 14 columns</p>\n",
              "</div>\n",
              "      <button class=\"colab-df-convert\" onclick=\"convertToInteractive('df-10f770fa-8f2d-4c97-bc7e-aadc583fe16f')\"\n",
              "              title=\"Convert this dataframe to an interactive table.\"\n",
              "              style=\"display:none;\">\n",
              "        \n",
              "  <svg xmlns=\"http://www.w3.org/2000/svg\" height=\"24px\"viewBox=\"0 0 24 24\"\n",
              "       width=\"24px\">\n",
              "    <path d=\"M0 0h24v24H0V0z\" fill=\"none\"/>\n",
              "    <path d=\"M18.56 5.44l.94 2.06.94-2.06 2.06-.94-2.06-.94-.94-2.06-.94 2.06-2.06.94zm-11 1L8.5 8.5l.94-2.06 2.06-.94-2.06-.94L8.5 2.5l-.94 2.06-2.06.94zm10 10l.94 2.06.94-2.06 2.06-.94-2.06-.94-.94-2.06-.94 2.06-2.06.94z\"/><path d=\"M17.41 7.96l-1.37-1.37c-.4-.4-.92-.59-1.43-.59-.52 0-1.04.2-1.43.59L10.3 9.45l-7.72 7.72c-.78.78-.78 2.05 0 2.83L4 21.41c.39.39.9.59 1.41.59.51 0 1.02-.2 1.41-.59l7.78-7.78 2.81-2.81c.8-.78.8-2.07 0-2.86zM5.41 20L4 18.59l7.72-7.72 1.47 1.35L5.41 20z\"/>\n",
              "  </svg>\n",
              "      </button>\n",
              "      \n",
              "  <style>\n",
              "    .colab-df-container {\n",
              "      display:flex;\n",
              "      flex-wrap:wrap;\n",
              "      gap: 12px;\n",
              "    }\n",
              "\n",
              "    .colab-df-convert {\n",
              "      background-color: #E8F0FE;\n",
              "      border: none;\n",
              "      border-radius: 50%;\n",
              "      cursor: pointer;\n",
              "      display: none;\n",
              "      fill: #1967D2;\n",
              "      height: 32px;\n",
              "      padding: 0 0 0 0;\n",
              "      width: 32px;\n",
              "    }\n",
              "\n",
              "    .colab-df-convert:hover {\n",
              "      background-color: #E2EBFA;\n",
              "      box-shadow: 0px 1px 2px rgba(60, 64, 67, 0.3), 0px 1px 3px 1px rgba(60, 64, 67, 0.15);\n",
              "      fill: #174EA6;\n",
              "    }\n",
              "\n",
              "    [theme=dark] .colab-df-convert {\n",
              "      background-color: #3B4455;\n",
              "      fill: #D2E3FC;\n",
              "    }\n",
              "\n",
              "    [theme=dark] .colab-df-convert:hover {\n",
              "      background-color: #434B5C;\n",
              "      box-shadow: 0px 1px 3px 1px rgba(0, 0, 0, 0.15);\n",
              "      filter: drop-shadow(0px 1px 2px rgba(0, 0, 0, 0.3));\n",
              "      fill: #FFFFFF;\n",
              "    }\n",
              "  </style>\n",
              "\n",
              "      <script>\n",
              "        const buttonEl =\n",
              "          document.querySelector('#df-10f770fa-8f2d-4c97-bc7e-aadc583fe16f button.colab-df-convert');\n",
              "        buttonEl.style.display =\n",
              "          google.colab.kernel.accessAllowed ? 'block' : 'none';\n",
              "\n",
              "        async function convertToInteractive(key) {\n",
              "          const element = document.querySelector('#df-10f770fa-8f2d-4c97-bc7e-aadc583fe16f');\n",
              "          const dataTable =\n",
              "            await google.colab.kernel.invokeFunction('convertToInteractive',\n",
              "                                                     [key], {});\n",
              "          if (!dataTable) return;\n",
              "\n",
              "          const docLinkHtml = 'Like what you see? Visit the ' +\n",
              "            '<a target=\"_blank\" href=https://colab.research.google.com/notebooks/data_table.ipynb>data table notebook</a>'\n",
              "            + ' to learn more about interactive tables.';\n",
              "          element.innerHTML = '';\n",
              "          dataTable['output_type'] = 'display_data';\n",
              "          await google.colab.output.renderOutput(dataTable, element);\n",
              "          const docLink = document.createElement('div');\n",
              "          docLink.innerHTML = docLinkHtml;\n",
              "          element.appendChild(docLink);\n",
              "        }\n",
              "      </script>\n",
              "    </div>\n",
              "  </div>\n",
              "  "
            ],
            "text/plain": [
              "            Date  Bike_Count  Hour  ...  Seasons     Holiday  Functioning Day\n",
              "0     01/12/2017         254     0  ...   Winter  No Holiday              Yes\n",
              "1     01/12/2017         204     1  ...   Winter  No Holiday              Yes\n",
              "2     01/12/2017         173     2  ...   Winter  No Holiday              Yes\n",
              "3     01/12/2017         107     3  ...   Winter  No Holiday              Yes\n",
              "4     01/12/2017          78     4  ...   Winter  No Holiday              Yes\n",
              "...          ...         ...   ...  ...      ...         ...              ...\n",
              "8755  30/11/2018        1003    19  ...   Autumn  No Holiday              Yes\n",
              "8756  30/11/2018         764    20  ...   Autumn  No Holiday              Yes\n",
              "8757  30/11/2018         694    21  ...   Autumn  No Holiday              Yes\n",
              "8758  30/11/2018         712    22  ...   Autumn  No Holiday              Yes\n",
              "8759  30/11/2018         584    23  ...   Autumn  No Holiday              Yes\n",
              "\n",
              "[8760 rows x 14 columns]"
            ]
          },
          "metadata": {},
          "execution_count": 4
        }
      ],
      "source": [
        "df=df.rename(columns = {'Temperature(°C)': 'Temp', 'Rented Bike Count':'Bike_Count','Humidity(%)': 'Hum',\n",
        "                     'Wind speed (m/s)':'Wind','Visibility (10m)':'Vis','Dew point temperature(°C)':'Dew',\n",
        "                    'Solar Radiation (MJ/m2)':'Solar','Rainfall(mm)':'Rain','Snowfall (cm)':'Snow'}) \n",
        "df"
      ]
    },
    {
      "cell_type": "code",
      "execution_count": null,
      "metadata": {
        "id": "Q4sIe1aU-Igi"
      },
      "outputs": [],
      "source": [
        "def part_of_the_day(hour):\n",
        "    if(hour < 6):\n",
        "        return \"Night\"\n",
        "    elif (hour < 12):\n",
        "        return \"Morning\"\n",
        "    elif (hour < 18):\n",
        "        return \"Afternoon\"\n",
        "    else :\n",
        "          return \"Evening\""
      ]
    },
    {
      "cell_type": "code",
      "execution_count": null,
      "metadata": {
        "id": "bWS3nN4n-Igj"
      },
      "outputs": [],
      "source": [
        "# Function to get the number of a month\n",
        "def number_month(month):\n",
        "    if month == \"January\":\n",
        "        return 1\n",
        "    elif month == \"February\":\n",
        "        return 2\n",
        "    elif month == \"March\":\n",
        "        return 3\n",
        "    elif month == \"April\":\n",
        "        return 4\n",
        "    elif month == \"May\":\n",
        "        return 5\n",
        "    elif month == \"June\":\n",
        "        return 6\n",
        "    elif month == \"July\":\n",
        "        return 7\n",
        "    elif month == \"August\":\n",
        "        return 8\n",
        "    elif month == \"September\":\n",
        "        return 9\n",
        "    elif month == \"October\":\n",
        "        return 10\n",
        "    elif month == \"November\":\n",
        "        return 11\n",
        "    else :\n",
        "        return 12"
      ]
    },
    {
      "cell_type": "code",
      "execution_count": null,
      "metadata": {
        "colab": {
          "base_uri": "https://localhost:8080/",
          "height": 288
        },
        "id": "18IBv54C-Igk",
        "outputId": "dde3d120-158a-4988-a351-4d2bebf24b9c"
      },
      "outputs": [
        {
          "output_type": "execute_result",
          "data": {
            "text/html": [
              "\n",
              "  <div id=\"df-05622084-f151-4ccf-9713-7a62091472d5\">\n",
              "    <div class=\"colab-df-container\">\n",
              "      <div>\n",
              "<style scoped>\n",
              "    .dataframe tbody tr th:only-of-type {\n",
              "        vertical-align: middle;\n",
              "    }\n",
              "\n",
              "    .dataframe tbody tr th {\n",
              "        vertical-align: top;\n",
              "    }\n",
              "\n",
              "    .dataframe thead th {\n",
              "        text-align: right;\n",
              "    }\n",
              "</style>\n",
              "<table border=\"1\" class=\"dataframe\">\n",
              "  <thead>\n",
              "    <tr style=\"text-align: right;\">\n",
              "      <th></th>\n",
              "      <th>Date</th>\n",
              "      <th>Bike_Count</th>\n",
              "      <th>Hour</th>\n",
              "      <th>Temp</th>\n",
              "      <th>Hum</th>\n",
              "      <th>Wind</th>\n",
              "      <th>Vis</th>\n",
              "      <th>Dew</th>\n",
              "      <th>Solar</th>\n",
              "      <th>Rain</th>\n",
              "      <th>Snow</th>\n",
              "      <th>Holiday</th>\n",
              "      <th>Functioning Day</th>\n",
              "      <th>Month</th>\n",
              "      <th>Seasons_Autumn</th>\n",
              "      <th>Seasons_Spring</th>\n",
              "      <th>Seasons_Summer</th>\n",
              "      <th>Seasons_Winter</th>\n",
              "      <th>Day_week_Friday</th>\n",
              "      <th>Day_week_Monday</th>\n",
              "      <th>Day_week_Saturday</th>\n",
              "      <th>Day_week_Sunday</th>\n",
              "      <th>Day_week_Thursday</th>\n",
              "      <th>Day_week_Tuesday</th>\n",
              "      <th>Day_week_Wednesday</th>\n",
              "      <th>Part_of_the_day_Afternoon</th>\n",
              "      <th>Part_of_the_day_Evening</th>\n",
              "      <th>Part_of_the_day_Morning</th>\n",
              "      <th>Part_of_the_day_Night</th>\n",
              "      <th>Week_end_day_no</th>\n",
              "      <th>Week_end_day_yes</th>\n",
              "    </tr>\n",
              "  </thead>\n",
              "  <tbody>\n",
              "    <tr>\n",
              "      <th>0</th>\n",
              "      <td>1512086400000000000</td>\n",
              "      <td>254</td>\n",
              "      <td>0</td>\n",
              "      <td>-5.2</td>\n",
              "      <td>37</td>\n",
              "      <td>2.2</td>\n",
              "      <td>2000</td>\n",
              "      <td>-17.6</td>\n",
              "      <td>0.0</td>\n",
              "      <td>0.0</td>\n",
              "      <td>0.0</td>\n",
              "      <td>0</td>\n",
              "      <td>1</td>\n",
              "      <td>12</td>\n",
              "      <td>0</td>\n",
              "      <td>0</td>\n",
              "      <td>0</td>\n",
              "      <td>1</td>\n",
              "      <td>1</td>\n",
              "      <td>0</td>\n",
              "      <td>0</td>\n",
              "      <td>0</td>\n",
              "      <td>0</td>\n",
              "      <td>0</td>\n",
              "      <td>0</td>\n",
              "      <td>0</td>\n",
              "      <td>0</td>\n",
              "      <td>0</td>\n",
              "      <td>1</td>\n",
              "      <td>1</td>\n",
              "      <td>0</td>\n",
              "    </tr>\n",
              "    <tr>\n",
              "      <th>1</th>\n",
              "      <td>1512086400000000000</td>\n",
              "      <td>204</td>\n",
              "      <td>1</td>\n",
              "      <td>-5.5</td>\n",
              "      <td>38</td>\n",
              "      <td>0.8</td>\n",
              "      <td>2000</td>\n",
              "      <td>-17.6</td>\n",
              "      <td>0.0</td>\n",
              "      <td>0.0</td>\n",
              "      <td>0.0</td>\n",
              "      <td>0</td>\n",
              "      <td>1</td>\n",
              "      <td>12</td>\n",
              "      <td>0</td>\n",
              "      <td>0</td>\n",
              "      <td>0</td>\n",
              "      <td>1</td>\n",
              "      <td>1</td>\n",
              "      <td>0</td>\n",
              "      <td>0</td>\n",
              "      <td>0</td>\n",
              "      <td>0</td>\n",
              "      <td>0</td>\n",
              "      <td>0</td>\n",
              "      <td>0</td>\n",
              "      <td>0</td>\n",
              "      <td>0</td>\n",
              "      <td>1</td>\n",
              "      <td>1</td>\n",
              "      <td>0</td>\n",
              "    </tr>\n",
              "    <tr>\n",
              "      <th>2</th>\n",
              "      <td>1512086400000000000</td>\n",
              "      <td>173</td>\n",
              "      <td>2</td>\n",
              "      <td>-6.0</td>\n",
              "      <td>39</td>\n",
              "      <td>1.0</td>\n",
              "      <td>2000</td>\n",
              "      <td>-17.7</td>\n",
              "      <td>0.0</td>\n",
              "      <td>0.0</td>\n",
              "      <td>0.0</td>\n",
              "      <td>0</td>\n",
              "      <td>1</td>\n",
              "      <td>12</td>\n",
              "      <td>0</td>\n",
              "      <td>0</td>\n",
              "      <td>0</td>\n",
              "      <td>1</td>\n",
              "      <td>1</td>\n",
              "      <td>0</td>\n",
              "      <td>0</td>\n",
              "      <td>0</td>\n",
              "      <td>0</td>\n",
              "      <td>0</td>\n",
              "      <td>0</td>\n",
              "      <td>0</td>\n",
              "      <td>0</td>\n",
              "      <td>0</td>\n",
              "      <td>1</td>\n",
              "      <td>1</td>\n",
              "      <td>0</td>\n",
              "    </tr>\n",
              "    <tr>\n",
              "      <th>3</th>\n",
              "      <td>1512086400000000000</td>\n",
              "      <td>107</td>\n",
              "      <td>3</td>\n",
              "      <td>-6.2</td>\n",
              "      <td>40</td>\n",
              "      <td>0.9</td>\n",
              "      <td>2000</td>\n",
              "      <td>-17.6</td>\n",
              "      <td>0.0</td>\n",
              "      <td>0.0</td>\n",
              "      <td>0.0</td>\n",
              "      <td>0</td>\n",
              "      <td>1</td>\n",
              "      <td>12</td>\n",
              "      <td>0</td>\n",
              "      <td>0</td>\n",
              "      <td>0</td>\n",
              "      <td>1</td>\n",
              "      <td>1</td>\n",
              "      <td>0</td>\n",
              "      <td>0</td>\n",
              "      <td>0</td>\n",
              "      <td>0</td>\n",
              "      <td>0</td>\n",
              "      <td>0</td>\n",
              "      <td>0</td>\n",
              "      <td>0</td>\n",
              "      <td>0</td>\n",
              "      <td>1</td>\n",
              "      <td>1</td>\n",
              "      <td>0</td>\n",
              "    </tr>\n",
              "    <tr>\n",
              "      <th>4</th>\n",
              "      <td>1512086400000000000</td>\n",
              "      <td>78</td>\n",
              "      <td>4</td>\n",
              "      <td>-6.0</td>\n",
              "      <td>36</td>\n",
              "      <td>2.3</td>\n",
              "      <td>2000</td>\n",
              "      <td>-18.6</td>\n",
              "      <td>0.0</td>\n",
              "      <td>0.0</td>\n",
              "      <td>0.0</td>\n",
              "      <td>0</td>\n",
              "      <td>1</td>\n",
              "      <td>12</td>\n",
              "      <td>0</td>\n",
              "      <td>0</td>\n",
              "      <td>0</td>\n",
              "      <td>1</td>\n",
              "      <td>1</td>\n",
              "      <td>0</td>\n",
              "      <td>0</td>\n",
              "      <td>0</td>\n",
              "      <td>0</td>\n",
              "      <td>0</td>\n",
              "      <td>0</td>\n",
              "      <td>0</td>\n",
              "      <td>0</td>\n",
              "      <td>0</td>\n",
              "      <td>1</td>\n",
              "      <td>1</td>\n",
              "      <td>0</td>\n",
              "    </tr>\n",
              "  </tbody>\n",
              "</table>\n",
              "</div>\n",
              "      <button class=\"colab-df-convert\" onclick=\"convertToInteractive('df-05622084-f151-4ccf-9713-7a62091472d5')\"\n",
              "              title=\"Convert this dataframe to an interactive table.\"\n",
              "              style=\"display:none;\">\n",
              "        \n",
              "  <svg xmlns=\"http://www.w3.org/2000/svg\" height=\"24px\"viewBox=\"0 0 24 24\"\n",
              "       width=\"24px\">\n",
              "    <path d=\"M0 0h24v24H0V0z\" fill=\"none\"/>\n",
              "    <path d=\"M18.56 5.44l.94 2.06.94-2.06 2.06-.94-2.06-.94-.94-2.06-.94 2.06-2.06.94zm-11 1L8.5 8.5l.94-2.06 2.06-.94-2.06-.94L8.5 2.5l-.94 2.06-2.06.94zm10 10l.94 2.06.94-2.06 2.06-.94-2.06-.94-.94-2.06-.94 2.06-2.06.94z\"/><path d=\"M17.41 7.96l-1.37-1.37c-.4-.4-.92-.59-1.43-.59-.52 0-1.04.2-1.43.59L10.3 9.45l-7.72 7.72c-.78.78-.78 2.05 0 2.83L4 21.41c.39.39.9.59 1.41.59.51 0 1.02-.2 1.41-.59l7.78-7.78 2.81-2.81c.8-.78.8-2.07 0-2.86zM5.41 20L4 18.59l7.72-7.72 1.47 1.35L5.41 20z\"/>\n",
              "  </svg>\n",
              "      </button>\n",
              "      \n",
              "  <style>\n",
              "    .colab-df-container {\n",
              "      display:flex;\n",
              "      flex-wrap:wrap;\n",
              "      gap: 12px;\n",
              "    }\n",
              "\n",
              "    .colab-df-convert {\n",
              "      background-color: #E8F0FE;\n",
              "      border: none;\n",
              "      border-radius: 50%;\n",
              "      cursor: pointer;\n",
              "      display: none;\n",
              "      fill: #1967D2;\n",
              "      height: 32px;\n",
              "      padding: 0 0 0 0;\n",
              "      width: 32px;\n",
              "    }\n",
              "\n",
              "    .colab-df-convert:hover {\n",
              "      background-color: #E2EBFA;\n",
              "      box-shadow: 0px 1px 2px rgba(60, 64, 67, 0.3), 0px 1px 3px 1px rgba(60, 64, 67, 0.15);\n",
              "      fill: #174EA6;\n",
              "    }\n",
              "\n",
              "    [theme=dark] .colab-df-convert {\n",
              "      background-color: #3B4455;\n",
              "      fill: #D2E3FC;\n",
              "    }\n",
              "\n",
              "    [theme=dark] .colab-df-convert:hover {\n",
              "      background-color: #434B5C;\n",
              "      box-shadow: 0px 1px 3px 1px rgba(0, 0, 0, 0.15);\n",
              "      filter: drop-shadow(0px 1px 2px rgba(0, 0, 0, 0.3));\n",
              "      fill: #FFFFFF;\n",
              "    }\n",
              "  </style>\n",
              "\n",
              "      <script>\n",
              "        const buttonEl =\n",
              "          document.querySelector('#df-05622084-f151-4ccf-9713-7a62091472d5 button.colab-df-convert');\n",
              "        buttonEl.style.display =\n",
              "          google.colab.kernel.accessAllowed ? 'block' : 'none';\n",
              "\n",
              "        async function convertToInteractive(key) {\n",
              "          const element = document.querySelector('#df-05622084-f151-4ccf-9713-7a62091472d5');\n",
              "          const dataTable =\n",
              "            await google.colab.kernel.invokeFunction('convertToInteractive',\n",
              "                                                     [key], {});\n",
              "          if (!dataTable) return;\n",
              "\n",
              "          const docLinkHtml = 'Like what you see? Visit the ' +\n",
              "            '<a target=\"_blank\" href=https://colab.research.google.com/notebooks/data_table.ipynb>data table notebook</a>'\n",
              "            + ' to learn more about interactive tables.';\n",
              "          element.innerHTML = '';\n",
              "          dataTable['output_type'] = 'display_data';\n",
              "          await google.colab.output.renderOutput(dataTable, element);\n",
              "          const docLink = document.createElement('div');\n",
              "          docLink.innerHTML = docLinkHtml;\n",
              "          element.appendChild(docLink);\n",
              "        }\n",
              "      </script>\n",
              "    </div>\n",
              "  </div>\n",
              "  "
            ],
            "text/plain": [
              "                  Date  Bike_Count  ...  Week_end_day_no  Week_end_day_yes\n",
              "0  1512086400000000000         254  ...                1                 0\n",
              "1  1512086400000000000         204  ...                1                 0\n",
              "2  1512086400000000000         173  ...                1                 0\n",
              "3  1512086400000000000         107  ...                1                 0\n",
              "4  1512086400000000000          78  ...                1                 0\n",
              "\n",
              "[5 rows x 31 columns]"
            ]
          },
          "metadata": {},
          "execution_count": 7
        }
      ],
      "source": [
        "# We change the format of the \"Date\" column \n",
        "from datetime import datetime\n",
        "df['Date'] =  pd.to_datetime(df['Date'], format='%d/%m/%Y')\n",
        "\n",
        "# We create a column \"Day\" and \"Month\" (number of the month: 1 to 12)\n",
        "df['Day_week'] = df['Date'].dt.day_name()\n",
        "df['Month'] = df['Date'].dt.month_name()\n",
        "df[\"Month\"] = df[\"Month\"].apply(lambda x : number_month(x))\n",
        "\n",
        "# We create a new column in the dataframe to precise the part of the day\n",
        "df[\"Part_of_the_day\"] = df[\"Hour\"].apply(lambda x : part_of_the_day(int(x)))\n",
        "\n",
        "# We create a new column in the dataframe to precise if the day is a week-end day or not\n",
        "df[\"Week_end_day\"] = [\"yes\" if df.iloc[i][\"Day_week\"] in (\"Saturday\", \"Sunday\") else 'no' for i in range(len(df))]\n",
        "\n",
        "# Binary values for the columns \"Holiday\" and \"Functioning Day\"\n",
        "df['Holiday'] = [1 if x=='Holiday' else 0 for x in df['Holiday'] ]\n",
        "df['Functioning Day'] = [1 if x=='Yes' else 0 for x in df['Functioning Day'] ]\n",
        "\n",
        "# We convert categorical features into numerical values using the get_dummies function from pandas\n",
        "dummies = ['Seasons','Day_week','Part_of_the_day','Week_end_day']\n",
        "dummy_data= pd.get_dummies(df[dummies])\n",
        "dummy_data.shape\n",
        "df = pd.concat([df, dummy_data], axis = 1)\n",
        "df.drop(dummies, axis=1, inplace=True)\n",
        "\n",
        "# To avoid raising an error with the DateTime format, we convert this datatype column in numeric\n",
        "df['Date'] = pd.to_numeric(pd.to_datetime(df['Date']))\n",
        "\n",
        "df.head()"
      ]
    },
    {
      "cell_type": "code",
      "execution_count": null,
      "metadata": {
        "colab": {
          "base_uri": "https://localhost:8080/"
        },
        "id": "88xPjyxY-Igl",
        "outputId": "4eaae1b9-1fc6-4626-8ae6-ca2c0d2dbc1b"
      },
      "outputs": [
        {
          "output_type": "execute_result",
          "data": {
            "text/plain": [
              "Date                         True\n",
              "Bike_Count                   True\n",
              "Hour                         True\n",
              "Temp                         True\n",
              "Hum                          True\n",
              "Wind                         True\n",
              "Vis                          True\n",
              "Dew                          True\n",
              "Solar                        True\n",
              "Rain                         True\n",
              "Snow                         True\n",
              "Holiday                      True\n",
              "Functioning Day              True\n",
              "Month                        True\n",
              "Seasons_Autumn               True\n",
              "Seasons_Spring               True\n",
              "Seasons_Summer               True\n",
              "Seasons_Winter               True\n",
              "Day_week_Friday              True\n",
              "Day_week_Monday              True\n",
              "Day_week_Saturday            True\n",
              "Day_week_Sunday              True\n",
              "Day_week_Thursday            True\n",
              "Day_week_Tuesday             True\n",
              "Day_week_Wednesday           True\n",
              "Part_of_the_day_Afternoon    True\n",
              "Part_of_the_day_Evening      True\n",
              "Part_of_the_day_Morning      True\n",
              "Part_of_the_day_Night        True\n",
              "Week_end_day_no              True\n",
              "Week_end_day_yes             True\n",
              "dtype: bool"
            ]
          },
          "metadata": {},
          "execution_count": 8
        }
      ],
      "source": [
        "#let's check if all the values are numeric \n",
        "df.apply(lambda s: pd.to_numeric(s, errors='coerce').notnull().all())"
      ]
    },
    {
      "cell_type": "markdown",
      "metadata": {
        "id": "-xg-83Ud-Igm"
      },
      "source": [
        "### Split the data into a train and a test set"
      ]
    },
    {
      "cell_type": "code",
      "execution_count": null,
      "metadata": {
        "id": "7S0d7Sh--Ign"
      },
      "outputs": [],
      "source": [
        "x, y = df.loc[:,df.columns != 'Bike_Count'], df.loc[:,'Bike_Count']\n",
        "x_train, x_test, y_train, y_test = train_test_split(x, y, test_size = 0.33, random_state = 1)"
      ]
    },
    {
      "cell_type": "markdown",
      "metadata": {
        "id": "2cKqRUsu-Igo"
      },
      "source": [
        "### Scaling the data"
      ]
    },
    {
      "cell_type": "code",
      "execution_count": null,
      "metadata": {
        "id": "JTwQf3ed-Igo"
      },
      "outputs": [],
      "source": [
        "sc = StandardScaler()\n",
        "x_train = sc.fit_transform(x_train)\n",
        "x_test = sc.transform(x_test)"
      ]
    },
    {
      "cell_type": "markdown",
      "metadata": {
        "id": "48PYFwb0-Igp"
      },
      "source": [
        "## Models "
      ]
    },
    {
      "cell_type": "markdown",
      "metadata": {
        "id": "PgLm3ejv-Igp"
      },
      "source": [
        "### Linear Regression "
      ]
    },
    {
      "cell_type": "code",
      "execution_count": null,
      "metadata": {
        "colab": {
          "base_uri": "https://localhost:8080/"
        },
        "id": "8SdjTuD9-Igp",
        "outputId": "df736080-e356-480a-b5c5-8705c3dc7369"
      },
      "outputs": [
        {
          "output_type": "stream",
          "name": "stdout",
          "text": [
            "R2 = 0.5955560366432335\n",
            "Mean squared error = 165006.97209929497\n",
            "Root mean squared error = 406.2105022021156\n"
          ]
        }
      ],
      "source": [
        "linear_reg = LinearRegression().fit(x_train, y_train)\n",
        "#print(linear_reg.coef_)\n",
        "\n",
        "# Prediction\n",
        "y_prediction_linear_reg = linear_reg.predict(x_test)\n",
        "\n",
        "# Score\n",
        "r2_linear_reg = r2_score(y_test, y_prediction_linear_reg)\n",
        "MSE_linear_reg = mean_squared_error(y_test, y_prediction_linear_reg)\n",
        "print(\"R2 =\", r2_linear_reg)\n",
        "print(\"Mean squared error =\", MSE_linear_reg)\n",
        "print(\"Root mean squared error =\", np.sqrt(mean_squared_error(y_test, y_prediction_linear_reg)))"
      ]
    },
    {
      "cell_type": "markdown",
      "metadata": {
        "id": "1a-tOAuQ-Igq"
      },
      "source": [
        "### Ridge Regression"
      ]
    },
    {
      "cell_type": "markdown",
      "metadata": {
        "id": "NVyY3mbt-Igq"
      },
      "source": [
        "#### Cross-Validation"
      ]
    },
    {
      "cell_type": "code",
      "execution_count": null,
      "metadata": {
        "colab": {
          "base_uri": "https://localhost:8080/"
        },
        "id": "A_KE7awg-Igr",
        "outputId": "145fa72a-aad3-4098-d808-ae5212f6d49a"
      },
      "outputs": [
        {
          "output_type": "execute_result",
          "data": {
            "text/plain": [
              "{'alpha': 10.0}"
            ]
          },
          "metadata": {},
          "execution_count": 26
        }
      ],
      "source": [
        "ridge_reg = linear_model.Ridge()\n",
        "parameters = {\"alpha\" : np.logspace(-6, 6, 13)}\n",
        "\n",
        "grid_search = GridSearchCV(estimator = ridge_reg,\n",
        "                          param_grid = parameters,\n",
        "                          cv = 10)\n",
        "\n",
        "grid_search.fit(x_train, y_train)\n",
        "grid_search.best_params_"
      ]
    },
    {
      "cell_type": "markdown",
      "metadata": {
        "id": "VGTyAFHA-Igs"
      },
      "source": [
        "#### Perform the model"
      ]
    },
    {
      "cell_type": "code",
      "execution_count": null,
      "metadata": {
        "colab": {
          "base_uri": "https://localhost:8080/"
        },
        "id": "xJ6WEVmR-Igs",
        "outputId": "5d03c7d1-2eeb-4302-b84b-fbe486d704aa"
      },
      "outputs": [
        {
          "output_type": "stream",
          "name": "stdout",
          "text": [
            "R2 = 0.595641667154553\n",
            "Mean squared error = 164972.03615594484\n",
            "Root mean squared error = 406.1674976606878\n"
          ]
        }
      ],
      "source": [
        "ridge_reg = linear_model.Ridge(alpha=10.0).fit(x_train, y_train)\n",
        "#print(ridge_reg.coef_)\n",
        "#print(ridge_reg.intercept_)\n",
        "\n",
        "# Prediction\n",
        "y_prediction_ridge_reg = ridge_reg.predict(x_test)\n",
        "\n",
        "# Score\n",
        "r2_ridge_reg = r2_score(y_test, y_prediction_ridge_reg)\n",
        "MSE_ridge_reg = mean_squared_error(y_test, y_prediction_ridge_reg)\n",
        "print(\"R2 =\", r2_ridge_reg)\n",
        "print(\"Mean squared error =\", MSE_ridge_reg)\n",
        "print(\"Root mean squared error =\", np.sqrt(mean_squared_error(y_test, y_prediction_ridge_reg)))"
      ]
    },
    {
      "cell_type": "markdown",
      "metadata": {
        "id": "Ft8Wn0YF-Igt"
      },
      "source": [
        "### Lasso Regression"
      ]
    },
    {
      "cell_type": "markdown",
      "metadata": {
        "id": "9tbtDEpu-Igt"
      },
      "source": [
        "#### Cross-Validation "
      ]
    },
    {
      "cell_type": "code",
      "execution_count": null,
      "metadata": {
        "colab": {
          "base_uri": "https://localhost:8080/"
        },
        "id": "6s1YzSOW-Igt",
        "outputId": "087bfb85-1d65-4295-cac1-e5842bef15a4"
      },
      "outputs": [
        {
          "output_type": "execute_result",
          "data": {
            "text/plain": [
              "{'alpha': 1.0}"
            ]
          },
          "metadata": {},
          "execution_count": 28
        }
      ],
      "source": [
        "lasso_reg = linear_model.Lasso()\n",
        "parameters = {\"alpha\" : np.array([0.001,0.01,0.02,0.025,0.05,0.1,0.25,0.5,0.8,1.0])}\n",
        "\n",
        "\n",
        "grid_search = GridSearchCV(estimator = ridge_reg,\n",
        "                          param_grid = parameters,\n",
        "                          cv = 10)\n",
        "\n",
        "grid_search.fit(x_train, y_train)\n",
        "grid_search.best_params_"
      ]
    },
    {
      "cell_type": "markdown",
      "metadata": {
        "id": "Z-RNEvoB-Igu"
      },
      "source": [
        "#### Perform the model"
      ]
    },
    {
      "cell_type": "code",
      "execution_count": null,
      "metadata": {
        "colab": {
          "base_uri": "https://localhost:8080/"
        },
        "id": "aqLLVE6T-Igu",
        "outputId": "4bc1e1d3-b4ea-4abe-cfa2-8d926d024fff"
      },
      "outputs": [
        {
          "output_type": "stream",
          "name": "stdout",
          "text": [
            "R2 = 0.5958873652072563\n",
            "Mean squared error = 164871.795095624\n",
            "Root mean squared error = 406.04408023713876\n"
          ]
        }
      ],
      "source": [
        "lasso_reg = linear_model.Lasso(alpha=1.0).fit(x_train, y_train)\n",
        "#print(lasso_reg.coef_)\n",
        "\n",
        "# Prediction\n",
        "y_prediction_lasso_reg = lasso_reg.predict(x_test)\n",
        "\n",
        "# Score\n",
        "r2_lasso_reg = r2_score(y_test, y_prediction_lasso_reg)\n",
        "MSE_lasso_reg = mean_squared_error(y_test, y_prediction_lasso_reg)\n",
        "print(\"R2 =\", r2_lasso_reg)\n",
        "print(\"Mean squared error =\", MSE_lasso_reg)\n",
        "print(\"Root mean squared error =\", np.sqrt(mean_squared_error(y_test, y_prediction_lasso_reg)))"
      ]
    },
    {
      "cell_type": "markdown",
      "metadata": {
        "id": "jevN9D0r-Igv"
      },
      "source": [
        "### SVR"
      ]
    },
    {
      "cell_type": "markdown",
      "metadata": {
        "id": "Xylnpc0Q-Igv"
      },
      "source": [
        "#### Cross-Validation"
      ]
    },
    {
      "cell_type": "code",
      "execution_count": null,
      "metadata": {
        "id": "72kXT_hC-Igv",
        "outputId": "982df646-fb5d-46d2-ca05-4bdf27f125df"
      },
      "outputs": [
        {
          "name": "stdout",
          "output_type": "stream",
          "text": [
            "Fitting 10 folds for each of 42 candidates, totalling 420 fits\n",
            "[CV] C=50, gamma=scale, kernel=poly ..................................\n"
          ]
        },
        {
          "name": "stderr",
          "output_type": "stream",
          "text": [
            "[Parallel(n_jobs=1)]: Using backend SequentialBackend with 1 concurrent workers.\n"
          ]
        },
        {
          "name": "stdout",
          "output_type": "stream",
          "text": [
            "[CV] ...... C=50, gamma=scale, kernel=poly, score=0.596, total=   1.4s\n",
            "[CV] C=50, gamma=scale, kernel=poly ..................................\n"
          ]
        },
        {
          "name": "stderr",
          "output_type": "stream",
          "text": [
            "[Parallel(n_jobs=1)]: Done   1 out of   1 | elapsed:    1.3s remaining:    0.0s\n"
          ]
        },
        {
          "name": "stdout",
          "output_type": "stream",
          "text": [
            "[CV] ...... C=50, gamma=scale, kernel=poly, score=0.613, total=   1.5s\n",
            "[CV] C=50, gamma=scale, kernel=poly ..................................\n"
          ]
        },
        {
          "name": "stderr",
          "output_type": "stream",
          "text": [
            "[Parallel(n_jobs=1)]: Done   2 out of   2 | elapsed:    2.8s remaining:    0.0s\n"
          ]
        },
        {
          "name": "stdout",
          "output_type": "stream",
          "text": [
            "[CV] ...... C=50, gamma=scale, kernel=poly, score=0.635, total=   1.5s\n",
            "[CV] C=50, gamma=scale, kernel=poly ..................................\n"
          ]
        },
        {
          "name": "stderr",
          "output_type": "stream",
          "text": [
            "[Parallel(n_jobs=1)]: Done   3 out of   3 | elapsed:    4.3s remaining:    0.0s\n"
          ]
        },
        {
          "name": "stdout",
          "output_type": "stream",
          "text": [
            "[CV] ...... C=50, gamma=scale, kernel=poly, score=0.655, total=   1.4s\n",
            "[CV] C=50, gamma=scale, kernel=poly ..................................\n",
            "[CV] ...... C=50, gamma=scale, kernel=poly, score=0.661, total=   1.5s\n",
            "[CV] C=50, gamma=scale, kernel=poly ..................................\n",
            "[CV] ...... C=50, gamma=scale, kernel=poly, score=0.489, total=   1.4s\n",
            "[CV] C=50, gamma=scale, kernel=poly ..................................\n",
            "[CV] ...... C=50, gamma=scale, kernel=poly, score=0.610, total=   1.4s\n",
            "[CV] C=50, gamma=scale, kernel=poly ..................................\n",
            "[CV] ...... C=50, gamma=scale, kernel=poly, score=0.617, total=   1.4s\n",
            "[CV] C=50, gamma=scale, kernel=poly ..................................\n",
            "[CV] ...... C=50, gamma=scale, kernel=poly, score=0.597, total=   1.5s\n",
            "[CV] C=50, gamma=scale, kernel=poly ..................................\n",
            "[CV] ...... C=50, gamma=scale, kernel=poly, score=0.634, total=   1.4s\n",
            "[CV] C=50, gamma=scale, kernel=rbf ...................................\n",
            "[CV] ....... C=50, gamma=scale, kernel=rbf, score=0.712, total=   1.6s\n",
            "[CV] C=50, gamma=scale, kernel=rbf ...................................\n",
            "[CV] ....... C=50, gamma=scale, kernel=rbf, score=0.742, total=   1.6s\n",
            "[CV] C=50, gamma=scale, kernel=rbf ...................................\n",
            "[CV] ....... C=50, gamma=scale, kernel=rbf, score=0.759, total=   1.6s\n",
            "[CV] C=50, gamma=scale, kernel=rbf ...................................\n",
            "[CV] ....... C=50, gamma=scale, kernel=rbf, score=0.778, total=   1.5s\n",
            "[CV] C=50, gamma=scale, kernel=rbf ...................................\n",
            "[CV] ....... C=50, gamma=scale, kernel=rbf, score=0.759, total=   1.6s\n",
            "[CV] C=50, gamma=scale, kernel=rbf ...................................\n",
            "[CV] ....... C=50, gamma=scale, kernel=rbf, score=0.722, total=   1.6s\n",
            "[CV] C=50, gamma=scale, kernel=rbf ...................................\n",
            "[CV] ....... C=50, gamma=scale, kernel=rbf, score=0.726, total=   1.6s\n",
            "[CV] C=50, gamma=scale, kernel=rbf ...................................\n",
            "[CV] ....... C=50, gamma=scale, kernel=rbf, score=0.733, total=   1.8s\n",
            "[CV] C=50, gamma=scale, kernel=rbf ...................................\n",
            "[CV] ....... C=50, gamma=scale, kernel=rbf, score=0.735, total=   1.6s\n",
            "[CV] C=50, gamma=scale, kernel=rbf ...................................\n",
            "[CV] ....... C=50, gamma=scale, kernel=rbf, score=0.735, total=   1.7s\n",
            "[CV] C=50, gamma=scale, kernel=sigmoid ...............................\n",
            "[CV] .. C=50, gamma=scale, kernel=sigmoid, score=-0.045, total=   2.2s\n",
            "[CV] C=50, gamma=scale, kernel=sigmoid ...............................\n",
            "[CV] ... C=50, gamma=scale, kernel=sigmoid, score=0.050, total=   2.1s\n",
            "[CV] C=50, gamma=scale, kernel=sigmoid ...............................\n",
            "[CV] ... C=50, gamma=scale, kernel=sigmoid, score=0.089, total=   1.8s\n",
            "[CV] C=50, gamma=scale, kernel=sigmoid ...............................\n",
            "[CV] .. C=50, gamma=scale, kernel=sigmoid, score=-0.068, total=   1.8s\n",
            "[CV] C=50, gamma=scale, kernel=sigmoid ...............................\n",
            "[CV] .. C=50, gamma=scale, kernel=sigmoid, score=-0.106, total=   1.8s\n",
            "[CV] C=50, gamma=scale, kernel=sigmoid ...............................\n",
            "[CV] .. C=50, gamma=scale, kernel=sigmoid, score=-0.048, total=   1.8s\n",
            "[CV] C=50, gamma=scale, kernel=sigmoid ...............................\n",
            "[CV] .. C=50, gamma=scale, kernel=sigmoid, score=-0.023, total=   2.1s\n",
            "[CV] C=50, gamma=scale, kernel=sigmoid ...............................\n",
            "[CV] ... C=50, gamma=scale, kernel=sigmoid, score=0.011, total=   1.9s\n",
            "[CV] C=50, gamma=scale, kernel=sigmoid ...............................\n",
            "[CV] ... C=50, gamma=scale, kernel=sigmoid, score=0.002, total=   1.8s\n",
            "[CV] C=50, gamma=scale, kernel=sigmoid ...............................\n",
            "[CV] .. C=50, gamma=scale, kernel=sigmoid, score=-0.074, total=   2.0s\n",
            "[CV] C=50, gamma=auto, kernel=poly ...................................\n",
            "[CV] ....... C=50, gamma=auto, kernel=poly, score=0.596, total=   1.5s\n",
            "[CV] C=50, gamma=auto, kernel=poly ...................................\n",
            "[CV] ....... C=50, gamma=auto, kernel=poly, score=0.612, total=   1.4s\n",
            "[CV] C=50, gamma=auto, kernel=poly ...................................\n",
            "[CV] ....... C=50, gamma=auto, kernel=poly, score=0.636, total=   1.4s\n",
            "[CV] C=50, gamma=auto, kernel=poly ...................................\n",
            "[CV] ....... C=50, gamma=auto, kernel=poly, score=0.654, total=   1.5s\n",
            "[CV] C=50, gamma=auto, kernel=poly ...................................\n",
            "[CV] ....... C=50, gamma=auto, kernel=poly, score=0.661, total=   1.5s\n",
            "[CV] C=50, gamma=auto, kernel=poly ...................................\n",
            "[CV] ....... C=50, gamma=auto, kernel=poly, score=0.489, total=   1.5s\n",
            "[CV] C=50, gamma=auto, kernel=poly ...................................\n",
            "[CV] ....... C=50, gamma=auto, kernel=poly, score=0.610, total=   1.4s\n",
            "[CV] C=50, gamma=auto, kernel=poly ...................................\n",
            "[CV] ....... C=50, gamma=auto, kernel=poly, score=0.616, total=   1.6s\n",
            "[CV] C=50, gamma=auto, kernel=poly ...................................\n",
            "[CV] ....... C=50, gamma=auto, kernel=poly, score=0.598, total=   1.4s\n",
            "[CV] C=50, gamma=auto, kernel=poly ...................................\n",
            "[CV] ....... C=50, gamma=auto, kernel=poly, score=0.634, total=   1.4s\n",
            "[CV] C=50, gamma=auto, kernel=rbf ....................................\n",
            "[CV] ........ C=50, gamma=auto, kernel=rbf, score=0.712, total=   1.5s\n",
            "[CV] C=50, gamma=auto, kernel=rbf ....................................\n",
            "[CV] ........ C=50, gamma=auto, kernel=rbf, score=0.742, total=   1.6s\n",
            "[CV] C=50, gamma=auto, kernel=rbf ....................................\n",
            "[CV] ........ C=50, gamma=auto, kernel=rbf, score=0.759, total=   1.5s\n",
            "[CV] C=50, gamma=auto, kernel=rbf ....................................\n",
            "[CV] ........ C=50, gamma=auto, kernel=rbf, score=0.777, total=   1.6s\n",
            "[CV] C=50, gamma=auto, kernel=rbf ....................................\n",
            "[CV] ........ C=50, gamma=auto, kernel=rbf, score=0.759, total=   1.6s\n",
            "[CV] C=50, gamma=auto, kernel=rbf ....................................\n",
            "[CV] ........ C=50, gamma=auto, kernel=rbf, score=0.722, total=   1.6s\n",
            "[CV] C=50, gamma=auto, kernel=rbf ....................................\n",
            "[CV] ........ C=50, gamma=auto, kernel=rbf, score=0.726, total=   1.7s\n",
            "[CV] C=50, gamma=auto, kernel=rbf ....................................\n",
            "[CV] ........ C=50, gamma=auto, kernel=rbf, score=0.733, total=   1.8s\n",
            "[CV] C=50, gamma=auto, kernel=rbf ....................................\n",
            "[CV] ........ C=50, gamma=auto, kernel=rbf, score=0.735, total=   1.9s\n",
            "[CV] C=50, gamma=auto, kernel=rbf ....................................\n",
            "[CV] ........ C=50, gamma=auto, kernel=rbf, score=0.735, total=   1.7s\n",
            "[CV] C=50, gamma=auto, kernel=sigmoid ................................\n",
            "[CV] ... C=50, gamma=auto, kernel=sigmoid, score=-0.052, total=   1.8s\n",
            "[CV] C=50, gamma=auto, kernel=sigmoid ................................\n",
            "[CV] .... C=50, gamma=auto, kernel=sigmoid, score=0.052, total=   1.8s\n",
            "[CV] C=50, gamma=auto, kernel=sigmoid ................................\n",
            "[CV] .... C=50, gamma=auto, kernel=sigmoid, score=0.080, total=   1.9s\n",
            "[CV] C=50, gamma=auto, kernel=sigmoid ................................\n",
            "[CV] ... C=50, gamma=auto, kernel=sigmoid, score=-0.062, total=   1.8s\n",
            "[CV] C=50, gamma=auto, kernel=sigmoid ................................\n",
            "[CV] ... C=50, gamma=auto, kernel=sigmoid, score=-0.100, total=   1.8s\n",
            "[CV] C=50, gamma=auto, kernel=sigmoid ................................\n",
            "[CV] ... C=50, gamma=auto, kernel=sigmoid, score=-0.047, total=   1.8s\n",
            "[CV] C=50, gamma=auto, kernel=sigmoid ................................\n",
            "[CV] ... C=50, gamma=auto, kernel=sigmoid, score=-0.023, total=   1.8s\n",
            "[CV] C=50, gamma=auto, kernel=sigmoid ................................\n",
            "[CV] .... C=50, gamma=auto, kernel=sigmoid, score=0.011, total=   1.9s\n",
            "[CV] C=50, gamma=auto, kernel=sigmoid ................................\n",
            "[CV] .... C=50, gamma=auto, kernel=sigmoid, score=0.008, total=   2.3s\n",
            "[CV] C=50, gamma=auto, kernel=sigmoid ................................\n",
            "[CV] ... C=50, gamma=auto, kernel=sigmoid, score=-0.080, total=   2.3s\n",
            "[CV] C=25, gamma=scale, kernel=poly ..................................\n",
            "[CV] ...... C=25, gamma=scale, kernel=poly, score=0.530, total=   1.7s\n",
            "[CV] C=25, gamma=scale, kernel=poly ..................................\n"
          ]
        },
        {
          "name": "stdout",
          "output_type": "stream",
          "text": [
            "[CV] ...... C=25, gamma=scale, kernel=poly, score=0.541, total=   1.6s\n",
            "[CV] C=25, gamma=scale, kernel=poly ..................................\n",
            "[CV] ...... C=25, gamma=scale, kernel=poly, score=0.561, total=   1.5s\n",
            "[CV] C=25, gamma=scale, kernel=poly ..................................\n",
            "[CV] ...... C=25, gamma=scale, kernel=poly, score=0.579, total=   1.5s\n",
            "[CV] C=25, gamma=scale, kernel=poly ..................................\n",
            "[CV] ...... C=25, gamma=scale, kernel=poly, score=0.607, total=   1.5s\n",
            "[CV] C=25, gamma=scale, kernel=poly ..................................\n",
            "[CV] ...... C=25, gamma=scale, kernel=poly, score=0.498, total=   1.6s\n",
            "[CV] C=25, gamma=scale, kernel=poly ..................................\n",
            "[CV] ...... C=25, gamma=scale, kernel=poly, score=0.546, total=   1.7s\n",
            "[CV] C=25, gamma=scale, kernel=poly ..................................\n",
            "[CV] ...... C=25, gamma=scale, kernel=poly, score=0.558, total=   1.5s\n",
            "[CV] C=25, gamma=scale, kernel=poly ..................................\n",
            "[CV] ...... C=25, gamma=scale, kernel=poly, score=0.522, total=   1.5s\n",
            "[CV] C=25, gamma=scale, kernel=poly ..................................\n",
            "[CV] ...... C=25, gamma=scale, kernel=poly, score=0.564, total=   1.5s\n",
            "[CV] C=25, gamma=scale, kernel=rbf ...................................\n",
            "[CV] ....... C=25, gamma=scale, kernel=rbf, score=0.669, total=   1.7s\n",
            "[CV] C=25, gamma=scale, kernel=rbf ...................................\n",
            "[CV] ....... C=25, gamma=scale, kernel=rbf, score=0.692, total=   1.7s\n",
            "[CV] C=25, gamma=scale, kernel=rbf ...................................\n",
            "[CV] ....... C=25, gamma=scale, kernel=rbf, score=0.712, total=   1.9s\n",
            "[CV] C=25, gamma=scale, kernel=rbf ...................................\n",
            "[CV] ....... C=25, gamma=scale, kernel=rbf, score=0.730, total=   1.8s\n",
            "[CV] C=25, gamma=scale, kernel=rbf ...................................\n",
            "[CV] ....... C=25, gamma=scale, kernel=rbf, score=0.722, total=   1.8s\n",
            "[CV] C=25, gamma=scale, kernel=rbf ...................................\n",
            "[CV] ....... C=25, gamma=scale, kernel=rbf, score=0.672, total=   1.9s\n",
            "[CV] C=25, gamma=scale, kernel=rbf ...................................\n",
            "[CV] ....... C=25, gamma=scale, kernel=rbf, score=0.680, total=   1.9s\n",
            "[CV] C=25, gamma=scale, kernel=rbf ...................................\n",
            "[CV] ....... C=25, gamma=scale, kernel=rbf, score=0.692, total=   1.8s\n",
            "[CV] C=25, gamma=scale, kernel=rbf ...................................\n",
            "[CV] ....... C=25, gamma=scale, kernel=rbf, score=0.683, total=   1.8s\n",
            "[CV] C=25, gamma=scale, kernel=rbf ...................................\n",
            "[CV] ....... C=25, gamma=scale, kernel=rbf, score=0.686, total=   1.8s\n",
            "[CV] C=25, gamma=scale, kernel=sigmoid ...............................\n",
            "[CV] ... C=25, gamma=scale, kernel=sigmoid, score=0.333, total=   1.9s\n",
            "[CV] C=25, gamma=scale, kernel=sigmoid ...............................\n",
            "[CV] ... C=25, gamma=scale, kernel=sigmoid, score=0.389, total=   2.0s\n",
            "[CV] C=25, gamma=scale, kernel=sigmoid ...............................\n",
            "[CV] ... C=25, gamma=scale, kernel=sigmoid, score=0.406, total=   1.9s\n",
            "[CV] C=25, gamma=scale, kernel=sigmoid ...............................\n",
            "[CV] ... C=25, gamma=scale, kernel=sigmoid, score=0.357, total=   1.9s\n",
            "[CV] C=25, gamma=scale, kernel=sigmoid ...............................\n",
            "[CV] ... C=25, gamma=scale, kernel=sigmoid, score=0.368, total=   2.1s\n",
            "[CV] C=25, gamma=scale, kernel=sigmoid ...............................\n",
            "[CV] ... C=25, gamma=scale, kernel=sigmoid, score=0.332, total=   2.0s\n",
            "[CV] C=25, gamma=scale, kernel=sigmoid ...............................\n",
            "[CV] ... C=25, gamma=scale, kernel=sigmoid, score=0.353, total=   1.9s\n",
            "[CV] C=25, gamma=scale, kernel=sigmoid ...............................\n",
            "[CV] ... C=25, gamma=scale, kernel=sigmoid, score=0.366, total=   2.0s\n",
            "[CV] C=25, gamma=scale, kernel=sigmoid ...............................\n",
            "[CV] ... C=25, gamma=scale, kernel=sigmoid, score=0.360, total=   1.9s\n",
            "[CV] C=25, gamma=scale, kernel=sigmoid ...............................\n",
            "[CV] ... C=25, gamma=scale, kernel=sigmoid, score=0.333, total=   2.0s\n",
            "[CV] C=25, gamma=auto, kernel=poly ...................................\n",
            "[CV] ....... C=25, gamma=auto, kernel=poly, score=0.531, total=   1.5s\n",
            "[CV] C=25, gamma=auto, kernel=poly ...................................\n",
            "[CV] ....... C=25, gamma=auto, kernel=poly, score=0.540, total=   1.5s\n",
            "[CV] C=25, gamma=auto, kernel=poly ...................................\n",
            "[CV] ....... C=25, gamma=auto, kernel=poly, score=0.562, total=   1.5s\n",
            "[CV] C=25, gamma=auto, kernel=poly ...................................\n",
            "[CV] ....... C=25, gamma=auto, kernel=poly, score=0.578, total=   1.4s\n",
            "[CV] C=25, gamma=auto, kernel=poly ...................................\n",
            "[CV] ....... C=25, gamma=auto, kernel=poly, score=0.607, total=   1.4s\n",
            "[CV] C=25, gamma=auto, kernel=poly ...................................\n",
            "[CV] ....... C=25, gamma=auto, kernel=poly, score=0.498, total=   1.5s\n",
            "[CV] C=25, gamma=auto, kernel=poly ...................................\n",
            "[CV] ....... C=25, gamma=auto, kernel=poly, score=0.547, total=   1.5s\n",
            "[CV] C=25, gamma=auto, kernel=poly ...................................\n",
            "[CV] ....... C=25, gamma=auto, kernel=poly, score=0.557, total=   1.8s\n",
            "[CV] C=25, gamma=auto, kernel=poly ...................................\n",
            "[CV] ....... C=25, gamma=auto, kernel=poly, score=0.522, total=   1.6s\n",
            "[CV] C=25, gamma=auto, kernel=poly ...................................\n",
            "[CV] ....... C=25, gamma=auto, kernel=poly, score=0.564, total=   1.4s\n",
            "[CV] C=25, gamma=auto, kernel=rbf ....................................\n",
            "[CV] ........ C=25, gamma=auto, kernel=rbf, score=0.669, total=   1.7s\n",
            "[CV] C=25, gamma=auto, kernel=rbf ....................................\n",
            "[CV] ........ C=25, gamma=auto, kernel=rbf, score=0.692, total=   1.7s\n",
            "[CV] C=25, gamma=auto, kernel=rbf ....................................\n",
            "[CV] ........ C=25, gamma=auto, kernel=rbf, score=0.712, total=   1.7s\n",
            "[CV] C=25, gamma=auto, kernel=rbf ....................................\n",
            "[CV] ........ C=25, gamma=auto, kernel=rbf, score=0.729, total=   1.7s\n",
            "[CV] C=25, gamma=auto, kernel=rbf ....................................\n",
            "[CV] ........ C=25, gamma=auto, kernel=rbf, score=0.722, total=   1.6s\n",
            "[CV] C=25, gamma=auto, kernel=rbf ....................................\n",
            "[CV] ........ C=25, gamma=auto, kernel=rbf, score=0.672, total=   1.6s\n",
            "[CV] C=25, gamma=auto, kernel=rbf ....................................\n",
            "[CV] ........ C=25, gamma=auto, kernel=rbf, score=0.680, total=   1.6s\n",
            "[CV] C=25, gamma=auto, kernel=rbf ....................................\n",
            "[CV] ........ C=25, gamma=auto, kernel=rbf, score=0.692, total=   1.7s\n",
            "[CV] C=25, gamma=auto, kernel=rbf ....................................\n",
            "[CV] ........ C=25, gamma=auto, kernel=rbf, score=0.683, total=   1.6s\n",
            "[CV] C=25, gamma=auto, kernel=rbf ....................................\n",
            "[CV] ........ C=25, gamma=auto, kernel=rbf, score=0.686, total=   1.7s\n",
            "[CV] C=25, gamma=auto, kernel=sigmoid ................................\n",
            "[CV] .... C=25, gamma=auto, kernel=sigmoid, score=0.331, total=   1.9s\n",
            "[CV] C=25, gamma=auto, kernel=sigmoid ................................\n",
            "[CV] .... C=25, gamma=auto, kernel=sigmoid, score=0.389, total=   2.2s\n",
            "[CV] C=25, gamma=auto, kernel=sigmoid ................................\n",
            "[CV] .... C=25, gamma=auto, kernel=sigmoid, score=0.406, total=   2.1s\n",
            "[CV] C=25, gamma=auto, kernel=sigmoid ................................\n",
            "[CV] .... C=25, gamma=auto, kernel=sigmoid, score=0.362, total=   2.4s\n",
            "[CV] C=25, gamma=auto, kernel=sigmoid ................................\n",
            "[CV] .... C=25, gamma=auto, kernel=sigmoid, score=0.371, total=   2.3s\n",
            "[CV] C=25, gamma=auto, kernel=sigmoid ................................\n",
            "[CV] .... C=25, gamma=auto, kernel=sigmoid, score=0.335, total=   2.0s\n",
            "[CV] C=25, gamma=auto, kernel=sigmoid ................................\n",
            "[CV] .... C=25, gamma=auto, kernel=sigmoid, score=0.354, total=   2.0s\n",
            "[CV] C=25, gamma=auto, kernel=sigmoid ................................\n",
            "[CV] .... C=25, gamma=auto, kernel=sigmoid, score=0.366, total=   1.9s\n",
            "[CV] C=25, gamma=auto, kernel=sigmoid ................................\n",
            "[CV] .... C=25, gamma=auto, kernel=sigmoid, score=0.359, total=   2.0s\n",
            "[CV] C=25, gamma=auto, kernel=sigmoid ................................\n"
          ]
        },
        {
          "name": "stdout",
          "output_type": "stream",
          "text": [
            "[CV] .... C=25, gamma=auto, kernel=sigmoid, score=0.331, total=   2.0s\n",
            "[CV] C=10, gamma=scale, kernel=poly ..................................\n",
            "[CV] ...... C=10, gamma=scale, kernel=poly, score=0.416, total=   1.6s\n",
            "[CV] C=10, gamma=scale, kernel=poly ..................................\n",
            "[CV] ...... C=10, gamma=scale, kernel=poly, score=0.418, total=   1.6s\n",
            "[CV] C=10, gamma=scale, kernel=poly ..................................\n",
            "[CV] ...... C=10, gamma=scale, kernel=poly, score=0.434, total=   1.6s\n",
            "[CV] C=10, gamma=scale, kernel=poly ..................................\n",
            "[CV] ...... C=10, gamma=scale, kernel=poly, score=0.448, total=   1.5s\n",
            "[CV] C=10, gamma=scale, kernel=poly ..................................\n",
            "[CV] ...... C=10, gamma=scale, kernel=poly, score=0.503, total=   1.6s\n",
            "[CV] C=10, gamma=scale, kernel=poly ..................................\n",
            "[CV] ...... C=10, gamma=scale, kernel=poly, score=0.390, total=   1.4s\n",
            "[CV] C=10, gamma=scale, kernel=poly ..................................\n",
            "[CV] ...... C=10, gamma=scale, kernel=poly, score=0.427, total=   1.5s\n",
            "[CV] C=10, gamma=scale, kernel=poly ..................................\n",
            "[CV] ...... C=10, gamma=scale, kernel=poly, score=0.457, total=   1.7s\n",
            "[CV] C=10, gamma=scale, kernel=poly ..................................\n",
            "[CV] ...... C=10, gamma=scale, kernel=poly, score=0.402, total=   1.6s\n",
            "[CV] C=10, gamma=scale, kernel=poly ..................................\n",
            "[CV] ...... C=10, gamma=scale, kernel=poly, score=0.439, total=   1.7s\n",
            "[CV] C=10, gamma=scale, kernel=rbf ...................................\n",
            "[CV] ....... C=10, gamma=scale, kernel=rbf, score=0.594, total=   1.8s\n",
            "[CV] C=10, gamma=scale, kernel=rbf ...................................\n",
            "[CV] ....... C=10, gamma=scale, kernel=rbf, score=0.610, total=   1.8s\n",
            "[CV] C=10, gamma=scale, kernel=rbf ...................................\n",
            "[CV] ....... C=10, gamma=scale, kernel=rbf, score=0.633, total=   1.8s\n",
            "[CV] C=10, gamma=scale, kernel=rbf ...................................\n",
            "[CV] ....... C=10, gamma=scale, kernel=rbf, score=0.640, total=   2.0s\n",
            "[CV] C=10, gamma=scale, kernel=rbf ...................................\n",
            "[CV] ....... C=10, gamma=scale, kernel=rbf, score=0.652, total=   2.0s\n",
            "[CV] C=10, gamma=scale, kernel=rbf ...................................\n",
            "[CV] ....... C=10, gamma=scale, kernel=rbf, score=0.591, total=   1.8s\n",
            "[CV] C=10, gamma=scale, kernel=rbf ...................................\n",
            "[CV] ....... C=10, gamma=scale, kernel=rbf, score=0.604, total=   1.7s\n",
            "[CV] C=10, gamma=scale, kernel=rbf ...................................\n",
            "[CV] ....... C=10, gamma=scale, kernel=rbf, score=0.623, total=   1.7s\n",
            "[CV] C=10, gamma=scale, kernel=rbf ...................................\n",
            "[CV] ....... C=10, gamma=scale, kernel=rbf, score=0.598, total=   1.7s\n",
            "[CV] C=10, gamma=scale, kernel=rbf ...................................\n",
            "[CV] ....... C=10, gamma=scale, kernel=rbf, score=0.606, total=   1.7s\n",
            "[CV] C=10, gamma=scale, kernel=sigmoid ...............................\n",
            "[CV] ... C=10, gamma=scale, kernel=sigmoid, score=0.428, total=   1.9s\n",
            "[CV] C=10, gamma=scale, kernel=sigmoid ...............................\n",
            "[CV] ... C=10, gamma=scale, kernel=sigmoid, score=0.452, total=   1.9s\n",
            "[CV] C=10, gamma=scale, kernel=sigmoid ...............................\n",
            "[CV] ... C=10, gamma=scale, kernel=sigmoid, score=0.478, total=   1.9s\n",
            "[CV] C=10, gamma=scale, kernel=sigmoid ...............................\n",
            "[CV] ... C=10, gamma=scale, kernel=sigmoid, score=0.465, total=   1.9s\n",
            "[CV] C=10, gamma=scale, kernel=sigmoid ...............................\n",
            "[CV] ... C=10, gamma=scale, kernel=sigmoid, score=0.490, total=   1.9s\n",
            "[CV] C=10, gamma=scale, kernel=sigmoid ...............................\n",
            "[CV] ... C=10, gamma=scale, kernel=sigmoid, score=0.422, total=   2.0s\n",
            "[CV] C=10, gamma=scale, kernel=sigmoid ...............................\n",
            "[CV] ... C=10, gamma=scale, kernel=sigmoid, score=0.444, total=   2.0s\n",
            "[CV] C=10, gamma=scale, kernel=sigmoid ...............................\n",
            "[CV] ... C=10, gamma=scale, kernel=sigmoid, score=0.460, total=   1.9s\n",
            "[CV] C=10, gamma=scale, kernel=sigmoid ...............................\n",
            "[CV] ... C=10, gamma=scale, kernel=sigmoid, score=0.440, total=   2.0s\n",
            "[CV] C=10, gamma=scale, kernel=sigmoid ...............................\n",
            "[CV] ... C=10, gamma=scale, kernel=sigmoid, score=0.441, total=   2.0s\n",
            "[CV] C=10, gamma=auto, kernel=poly ...................................\n",
            "[CV] ....... C=10, gamma=auto, kernel=poly, score=0.416, total=   1.5s\n",
            "[CV] C=10, gamma=auto, kernel=poly ...................................\n",
            "[CV] ....... C=10, gamma=auto, kernel=poly, score=0.418, total=   1.5s\n",
            "[CV] C=10, gamma=auto, kernel=poly ...................................\n",
            "[CV] ....... C=10, gamma=auto, kernel=poly, score=0.436, total=   1.4s\n",
            "[CV] C=10, gamma=auto, kernel=poly ...................................\n",
            "[CV] ....... C=10, gamma=auto, kernel=poly, score=0.447, total=   1.3s\n",
            "[CV] C=10, gamma=auto, kernel=poly ...................................\n",
            "[CV] ....... C=10, gamma=auto, kernel=poly, score=0.503, total=   1.3s\n",
            "[CV] C=10, gamma=auto, kernel=poly ...................................\n",
            "[CV] ....... C=10, gamma=auto, kernel=poly, score=0.389, total=   1.4s\n",
            "[CV] C=10, gamma=auto, kernel=poly ...................................\n",
            "[CV] ....... C=10, gamma=auto, kernel=poly, score=0.427, total=   1.4s\n",
            "[CV] C=10, gamma=auto, kernel=poly ...................................\n",
            "[CV] ....... C=10, gamma=auto, kernel=poly, score=0.456, total=   1.4s\n",
            "[CV] C=10, gamma=auto, kernel=poly ...................................\n",
            "[CV] ....... C=10, gamma=auto, kernel=poly, score=0.402, total=   1.4s\n",
            "[CV] C=10, gamma=auto, kernel=poly ...................................\n",
            "[CV] ....... C=10, gamma=auto, kernel=poly, score=0.440, total=   1.3s\n",
            "[CV] C=10, gamma=auto, kernel=rbf ....................................\n",
            "[CV] ........ C=10, gamma=auto, kernel=rbf, score=0.594, total=   1.6s\n",
            "[CV] C=10, gamma=auto, kernel=rbf ....................................\n",
            "[CV] ........ C=10, gamma=auto, kernel=rbf, score=0.610, total=   1.6s\n",
            "[CV] C=10, gamma=auto, kernel=rbf ....................................\n",
            "[CV] ........ C=10, gamma=auto, kernel=rbf, score=0.633, total=   1.6s\n",
            "[CV] C=10, gamma=auto, kernel=rbf ....................................\n",
            "[CV] ........ C=10, gamma=auto, kernel=rbf, score=0.640, total=   1.5s\n",
            "[CV] C=10, gamma=auto, kernel=rbf ....................................\n",
            "[CV] ........ C=10, gamma=auto, kernel=rbf, score=0.652, total=   1.6s\n",
            "[CV] C=10, gamma=auto, kernel=rbf ....................................\n",
            "[CV] ........ C=10, gamma=auto, kernel=rbf, score=0.591, total=   1.6s\n",
            "[CV] C=10, gamma=auto, kernel=rbf ....................................\n",
            "[CV] ........ C=10, gamma=auto, kernel=rbf, score=0.604, total=   1.6s\n",
            "[CV] C=10, gamma=auto, kernel=rbf ....................................\n",
            "[CV] ........ C=10, gamma=auto, kernel=rbf, score=0.623, total=   1.6s\n",
            "[CV] C=10, gamma=auto, kernel=rbf ....................................\n",
            "[CV] ........ C=10, gamma=auto, kernel=rbf, score=0.598, total=   1.6s\n",
            "[CV] C=10, gamma=auto, kernel=rbf ....................................\n",
            "[CV] ........ C=10, gamma=auto, kernel=rbf, score=0.606, total=   1.6s\n",
            "[CV] C=10, gamma=auto, kernel=sigmoid ................................\n",
            "[CV] .... C=10, gamma=auto, kernel=sigmoid, score=0.428, total=   1.8s\n",
            "[CV] C=10, gamma=auto, kernel=sigmoid ................................\n",
            "[CV] .... C=10, gamma=auto, kernel=sigmoid, score=0.452, total=   1.7s\n",
            "[CV] C=10, gamma=auto, kernel=sigmoid ................................\n",
            "[CV] .... C=10, gamma=auto, kernel=sigmoid, score=0.478, total=   1.9s\n",
            "[CV] C=10, gamma=auto, kernel=sigmoid ................................\n",
            "[CV] .... C=10, gamma=auto, kernel=sigmoid, score=0.466, total=   2.0s\n",
            "[CV] C=10, gamma=auto, kernel=sigmoid ................................\n",
            "[CV] .... C=10, gamma=auto, kernel=sigmoid, score=0.490, total=   1.8s\n",
            "[CV] C=10, gamma=auto, kernel=sigmoid ................................\n",
            "[CV] .... C=10, gamma=auto, kernel=sigmoid, score=0.422, total=   1.8s\n",
            "[CV] C=10, gamma=auto, kernel=sigmoid ................................\n",
            "[CV] .... C=10, gamma=auto, kernel=sigmoid, score=0.444, total=   1.8s\n",
            "[CV] C=10, gamma=auto, kernel=sigmoid ................................\n"
          ]
        },
        {
          "name": "stdout",
          "output_type": "stream",
          "text": [
            "[CV] .... C=10, gamma=auto, kernel=sigmoid, score=0.460, total=   1.8s\n",
            "[CV] C=10, gamma=auto, kernel=sigmoid ................................\n",
            "[CV] .... C=10, gamma=auto, kernel=sigmoid, score=0.440, total=   1.8s\n",
            "[CV] C=10, gamma=auto, kernel=sigmoid ................................\n",
            "[CV] .... C=10, gamma=auto, kernel=sigmoid, score=0.441, total=   1.7s\n",
            "[CV] C=5, gamma=scale, kernel=poly ...................................\n",
            "[CV] ....... C=5, gamma=scale, kernel=poly, score=0.297, total=   1.5s\n",
            "[CV] C=5, gamma=scale, kernel=poly ...................................\n",
            "[CV] ....... C=5, gamma=scale, kernel=poly, score=0.301, total=   1.4s\n",
            "[CV] C=5, gamma=scale, kernel=poly ...................................\n",
            "[CV] ....... C=5, gamma=scale, kernel=poly, score=0.314, total=   1.4s\n",
            "[CV] C=5, gamma=scale, kernel=poly ...................................\n",
            "[CV] ....... C=5, gamma=scale, kernel=poly, score=0.321, total=   1.4s\n",
            "[CV] C=5, gamma=scale, kernel=poly ...................................\n",
            "[CV] ....... C=5, gamma=scale, kernel=poly, score=0.383, total=   1.4s\n",
            "[CV] C=5, gamma=scale, kernel=poly ...................................\n",
            "[CV] ....... C=5, gamma=scale, kernel=poly, score=0.262, total=   1.4s\n",
            "[CV] C=5, gamma=scale, kernel=poly ...................................\n",
            "[CV] ....... C=5, gamma=scale, kernel=poly, score=0.317, total=   1.4s\n",
            "[CV] C=5, gamma=scale, kernel=poly ...................................\n",
            "[CV] ....... C=5, gamma=scale, kernel=poly, score=0.344, total=   1.4s\n",
            "[CV] C=5, gamma=scale, kernel=poly ...................................\n",
            "[CV] ....... C=5, gamma=scale, kernel=poly, score=0.284, total=   1.4s\n",
            "[CV] C=5, gamma=scale, kernel=poly ...................................\n",
            "[CV] ....... C=5, gamma=scale, kernel=poly, score=0.315, total=   1.4s\n",
            "[CV] C=5, gamma=scale, kernel=rbf ....................................\n",
            "[CV] ........ C=5, gamma=scale, kernel=rbf, score=0.495, total=   1.6s\n",
            "[CV] C=5, gamma=scale, kernel=rbf ....................................\n",
            "[CV] ........ C=5, gamma=scale, kernel=rbf, score=0.506, total=   1.6s\n",
            "[CV] C=5, gamma=scale, kernel=rbf ....................................\n",
            "[CV] ........ C=5, gamma=scale, kernel=rbf, score=0.525, total=   1.6s\n",
            "[CV] C=5, gamma=scale, kernel=rbf ....................................\n",
            "[CV] ........ C=5, gamma=scale, kernel=rbf, score=0.529, total=   1.7s\n",
            "[CV] C=5, gamma=scale, kernel=rbf ....................................\n",
            "[CV] ........ C=5, gamma=scale, kernel=rbf, score=0.554, total=   1.7s\n",
            "[CV] C=5, gamma=scale, kernel=rbf ....................................\n",
            "[CV] ........ C=5, gamma=scale, kernel=rbf, score=0.486, total=   1.7s\n",
            "[CV] C=5, gamma=scale, kernel=rbf ....................................\n",
            "[CV] ........ C=5, gamma=scale, kernel=rbf, score=0.506, total=   1.8s\n",
            "[CV] C=5, gamma=scale, kernel=rbf ....................................\n",
            "[CV] ........ C=5, gamma=scale, kernel=rbf, score=0.526, total=   1.8s\n",
            "[CV] C=5, gamma=scale, kernel=rbf ....................................\n",
            "[CV] ........ C=5, gamma=scale, kernel=rbf, score=0.488, total=   1.8s\n",
            "[CV] C=5, gamma=scale, kernel=rbf ....................................\n",
            "[CV] ........ C=5, gamma=scale, kernel=rbf, score=0.504, total=   1.8s\n",
            "[CV] C=5, gamma=scale, kernel=sigmoid ................................\n",
            "[CV] .... C=5, gamma=scale, kernel=sigmoid, score=0.423, total=   1.8s\n",
            "[CV] C=5, gamma=scale, kernel=sigmoid ................................\n",
            "[CV] .... C=5, gamma=scale, kernel=sigmoid, score=0.435, total=   1.8s\n",
            "[CV] C=5, gamma=scale, kernel=sigmoid ................................\n",
            "[CV] .... C=5, gamma=scale, kernel=sigmoid, score=0.459, total=   2.0s\n",
            "[CV] C=5, gamma=scale, kernel=sigmoid ................................\n",
            "[CV] .... C=5, gamma=scale, kernel=sigmoid, score=0.455, total=   2.0s\n",
            "[CV] C=5, gamma=scale, kernel=sigmoid ................................\n",
            "[CV] .... C=5, gamma=scale, kernel=sigmoid, score=0.488, total=   2.0s\n",
            "[CV] C=5, gamma=scale, kernel=sigmoid ................................\n",
            "[CV] .... C=5, gamma=scale, kernel=sigmoid, score=0.410, total=   1.9s\n",
            "[CV] C=5, gamma=scale, kernel=sigmoid ................................\n",
            "[CV] .... C=5, gamma=scale, kernel=sigmoid, score=0.430, total=   2.0s\n",
            "[CV] C=5, gamma=scale, kernel=sigmoid ................................\n",
            "[CV] .... C=5, gamma=scale, kernel=sigmoid, score=0.450, total=   2.0s\n",
            "[CV] C=5, gamma=scale, kernel=sigmoid ................................\n",
            "[CV] .... C=5, gamma=scale, kernel=sigmoid, score=0.426, total=   2.0s\n",
            "[CV] C=5, gamma=scale, kernel=sigmoid ................................\n",
            "[CV] .... C=5, gamma=scale, kernel=sigmoid, score=0.431, total=   1.9s\n",
            "[CV] C=5, gamma=auto, kernel=poly ....................................\n",
            "[CV] ........ C=5, gamma=auto, kernel=poly, score=0.298, total=   1.4s\n",
            "[CV] C=5, gamma=auto, kernel=poly ....................................\n",
            "[CV] ........ C=5, gamma=auto, kernel=poly, score=0.301, total=   1.5s\n",
            "[CV] C=5, gamma=auto, kernel=poly ....................................\n",
            "[CV] ........ C=5, gamma=auto, kernel=poly, score=0.316, total=   1.5s\n",
            "[CV] C=5, gamma=auto, kernel=poly ....................................\n",
            "[CV] ........ C=5, gamma=auto, kernel=poly, score=0.319, total=   1.4s\n",
            "[CV] C=5, gamma=auto, kernel=poly ....................................\n",
            "[CV] ........ C=5, gamma=auto, kernel=poly, score=0.382, total=   1.4s\n",
            "[CV] C=5, gamma=auto, kernel=poly ....................................\n",
            "[CV] ........ C=5, gamma=auto, kernel=poly, score=0.261, total=   1.3s\n",
            "[CV] C=5, gamma=auto, kernel=poly ....................................\n",
            "[CV] ........ C=5, gamma=auto, kernel=poly, score=0.317, total=   1.3s\n",
            "[CV] C=5, gamma=auto, kernel=poly ....................................\n",
            "[CV] ........ C=5, gamma=auto, kernel=poly, score=0.343, total=   1.4s\n",
            "[CV] C=5, gamma=auto, kernel=poly ....................................\n",
            "[CV] ........ C=5, gamma=auto, kernel=poly, score=0.284, total=   1.4s\n",
            "[CV] C=5, gamma=auto, kernel=poly ....................................\n",
            "[CV] ........ C=5, gamma=auto, kernel=poly, score=0.316, total=   1.4s\n",
            "[CV] C=5, gamma=auto, kernel=rbf .....................................\n",
            "[CV] ......... C=5, gamma=auto, kernel=rbf, score=0.495, total=   1.7s\n",
            "[CV] C=5, gamma=auto, kernel=rbf .....................................\n",
            "[CV] ......... C=5, gamma=auto, kernel=rbf, score=0.506, total=   1.7s\n",
            "[CV] C=5, gamma=auto, kernel=rbf .....................................\n",
            "[CV] ......... C=5, gamma=auto, kernel=rbf, score=0.525, total=   1.7s\n",
            "[CV] C=5, gamma=auto, kernel=rbf .....................................\n",
            "[CV] ......... C=5, gamma=auto, kernel=rbf, score=0.529, total=   1.6s\n",
            "[CV] C=5, gamma=auto, kernel=rbf .....................................\n",
            "[CV] ......... C=5, gamma=auto, kernel=rbf, score=0.554, total=   1.7s\n",
            "[CV] C=5, gamma=auto, kernel=rbf .....................................\n",
            "[CV] ......... C=5, gamma=auto, kernel=rbf, score=0.486, total=   1.7s\n",
            "[CV] C=5, gamma=auto, kernel=rbf .....................................\n",
            "[CV] ......... C=5, gamma=auto, kernel=rbf, score=0.506, total=   1.6s\n",
            "[CV] C=5, gamma=auto, kernel=rbf .....................................\n",
            "[CV] ......... C=5, gamma=auto, kernel=rbf, score=0.526, total=   1.6s\n",
            "[CV] C=5, gamma=auto, kernel=rbf .....................................\n",
            "[CV] ......... C=5, gamma=auto, kernel=rbf, score=0.488, total=   1.6s\n",
            "[CV] C=5, gamma=auto, kernel=rbf .....................................\n",
            "[CV] ......... C=5, gamma=auto, kernel=rbf, score=0.504, total=   1.6s\n",
            "[CV] C=5, gamma=auto, kernel=sigmoid .................................\n",
            "[CV] ..... C=5, gamma=auto, kernel=sigmoid, score=0.423, total=   1.8s\n",
            "[CV] C=5, gamma=auto, kernel=sigmoid .................................\n",
            "[CV] ..... C=5, gamma=auto, kernel=sigmoid, score=0.435, total=   1.9s\n",
            "[CV] C=5, gamma=auto, kernel=sigmoid .................................\n",
            "[CV] ..... C=5, gamma=auto, kernel=sigmoid, score=0.459, total=   1.8s\n",
            "[CV] C=5, gamma=auto, kernel=sigmoid .................................\n",
            "[CV] ..... C=5, gamma=auto, kernel=sigmoid, score=0.455, total=   2.0s\n",
            "[CV] C=5, gamma=auto, kernel=sigmoid .................................\n",
            "[CV] ..... C=5, gamma=auto, kernel=sigmoid, score=0.489, total=   1.9s\n",
            "[CV] C=5, gamma=auto, kernel=sigmoid .................................\n"
          ]
        },
        {
          "name": "stdout",
          "output_type": "stream",
          "text": [
            "[CV] ..... C=5, gamma=auto, kernel=sigmoid, score=0.410, total=   1.9s\n",
            "[CV] C=5, gamma=auto, kernel=sigmoid .................................\n",
            "[CV] ..... C=5, gamma=auto, kernel=sigmoid, score=0.430, total=   1.8s\n",
            "[CV] C=5, gamma=auto, kernel=sigmoid .................................\n",
            "[CV] ..... C=5, gamma=auto, kernel=sigmoid, score=0.450, total=   1.8s\n",
            "[CV] C=5, gamma=auto, kernel=sigmoid .................................\n",
            "[CV] ..... C=5, gamma=auto, kernel=sigmoid, score=0.426, total=   1.8s\n",
            "[CV] C=5, gamma=auto, kernel=sigmoid .................................\n",
            "[CV] ..... C=5, gamma=auto, kernel=sigmoid, score=0.431, total=   1.8s\n",
            "[CV] C=1.0, gamma=scale, kernel=poly .................................\n",
            "[CV] ..... C=1.0, gamma=scale, kernel=poly, score=0.039, total=   1.4s\n",
            "[CV] C=1.0, gamma=scale, kernel=poly .................................\n",
            "[CV] ..... C=1.0, gamma=scale, kernel=poly, score=0.043, total=   1.5s\n",
            "[CV] C=1.0, gamma=scale, kernel=poly .................................\n",
            "[CV] ..... C=1.0, gamma=scale, kernel=poly, score=0.050, total=   1.4s\n",
            "[CV] C=1.0, gamma=scale, kernel=poly .................................\n",
            "[CV] ..... C=1.0, gamma=scale, kernel=poly, score=0.038, total=   1.5s\n",
            "[CV] C=1.0, gamma=scale, kernel=poly .................................\n",
            "[CV] ..... C=1.0, gamma=scale, kernel=poly, score=0.098, total=   1.5s\n",
            "[CV] C=1.0, gamma=scale, kernel=poly .................................\n",
            "[CV] ..... C=1.0, gamma=scale, kernel=poly, score=0.007, total=   1.4s\n",
            "[CV] C=1.0, gamma=scale, kernel=poly .................................\n",
            "[CV] ..... C=1.0, gamma=scale, kernel=poly, score=0.071, total=   1.4s\n",
            "[CV] C=1.0, gamma=scale, kernel=poly .................................\n",
            "[CV] ..... C=1.0, gamma=scale, kernel=poly, score=0.090, total=   1.4s\n",
            "[CV] C=1.0, gamma=scale, kernel=poly .................................\n",
            "[CV] ..... C=1.0, gamma=scale, kernel=poly, score=0.017, total=   1.4s\n",
            "[CV] C=1.0, gamma=scale, kernel=poly .................................\n",
            "[CV] ..... C=1.0, gamma=scale, kernel=poly, score=0.033, total=   1.5s\n",
            "[CV] C=1.0, gamma=scale, kernel=rbf ..................................\n",
            "[CV] ...... C=1.0, gamma=scale, kernel=rbf, score=0.163, total=   1.7s\n",
            "[CV] C=1.0, gamma=scale, kernel=rbf ..................................\n",
            "[CV] ...... C=1.0, gamma=scale, kernel=rbf, score=0.169, total=   1.7s\n",
            "[CV] C=1.0, gamma=scale, kernel=rbf ..................................\n",
            "[CV] ...... C=1.0, gamma=scale, kernel=rbf, score=0.180, total=   1.8s\n",
            "[CV] C=1.0, gamma=scale, kernel=rbf ..................................\n",
            "[CV] ...... C=1.0, gamma=scale, kernel=rbf, score=0.172, total=   1.9s\n",
            "[CV] C=1.0, gamma=scale, kernel=rbf ..................................\n",
            "[CV] ...... C=1.0, gamma=scale, kernel=rbf, score=0.216, total=   2.0s\n",
            "[CV] C=1.0, gamma=scale, kernel=rbf ..................................\n",
            "[CV] ...... C=1.0, gamma=scale, kernel=rbf, score=0.151, total=   1.8s\n",
            "[CV] C=1.0, gamma=scale, kernel=rbf ..................................\n",
            "[CV] ...... C=1.0, gamma=scale, kernel=rbf, score=0.188, total=   1.8s\n",
            "[CV] C=1.0, gamma=scale, kernel=rbf ..................................\n",
            "[CV] ...... C=1.0, gamma=scale, kernel=rbf, score=0.202, total=   1.7s\n",
            "[CV] C=1.0, gamma=scale, kernel=rbf ..................................\n",
            "[CV] ...... C=1.0, gamma=scale, kernel=rbf, score=0.145, total=   1.7s\n",
            "[CV] C=1.0, gamma=scale, kernel=rbf ..................................\n",
            "[CV] ...... C=1.0, gamma=scale, kernel=rbf, score=0.163, total=   1.9s\n",
            "[CV] C=1.0, gamma=scale, kernel=sigmoid ..............................\n",
            "[CV] .. C=1.0, gamma=scale, kernel=sigmoid, score=0.267, total=   1.9s\n",
            "[CV] C=1.0, gamma=scale, kernel=sigmoid ..............................\n",
            "[CV] .. C=1.0, gamma=scale, kernel=sigmoid, score=0.272, total=   1.9s\n",
            "[CV] C=1.0, gamma=scale, kernel=sigmoid ..............................\n",
            "[CV] .. C=1.0, gamma=scale, kernel=sigmoid, score=0.287, total=   1.9s\n",
            "[CV] C=1.0, gamma=scale, kernel=sigmoid ..............................\n",
            "[CV] .. C=1.0, gamma=scale, kernel=sigmoid, score=0.284, total=   1.9s\n",
            "[CV] C=1.0, gamma=scale, kernel=sigmoid ..............................\n",
            "[CV] .. C=1.0, gamma=scale, kernel=sigmoid, score=0.335, total=   1.9s\n",
            "[CV] C=1.0, gamma=scale, kernel=sigmoid ..............................\n",
            "[CV] .. C=1.0, gamma=scale, kernel=sigmoid, score=0.255, total=   1.9s\n",
            "[CV] C=1.0, gamma=scale, kernel=sigmoid ..............................\n",
            "[CV] .. C=1.0, gamma=scale, kernel=sigmoid, score=0.285, total=   1.9s\n",
            "[CV] C=1.0, gamma=scale, kernel=sigmoid ..............................\n",
            "[CV] .. C=1.0, gamma=scale, kernel=sigmoid, score=0.296, total=   1.9s\n",
            "[CV] C=1.0, gamma=scale, kernel=sigmoid ..............................\n",
            "[CV] .. C=1.0, gamma=scale, kernel=sigmoid, score=0.258, total=   1.9s\n",
            "[CV] C=1.0, gamma=scale, kernel=sigmoid ..............................\n",
            "[CV] .. C=1.0, gamma=scale, kernel=sigmoid, score=0.278, total=   2.0s\n",
            "[CV] C=1.0, gamma=auto, kernel=poly ..................................\n",
            "[CV] ...... C=1.0, gamma=auto, kernel=poly, score=0.039, total=   1.4s\n",
            "[CV] C=1.0, gamma=auto, kernel=poly ..................................\n",
            "[CV] ...... C=1.0, gamma=auto, kernel=poly, score=0.043, total=   1.3s\n",
            "[CV] C=1.0, gamma=auto, kernel=poly ..................................\n",
            "[CV] ...... C=1.0, gamma=auto, kernel=poly, score=0.052, total=   1.3s\n",
            "[CV] C=1.0, gamma=auto, kernel=poly ..................................\n",
            "[CV] ...... C=1.0, gamma=auto, kernel=poly, score=0.037, total=   1.3s\n",
            "[CV] C=1.0, gamma=auto, kernel=poly ..................................\n",
            "[CV] ...... C=1.0, gamma=auto, kernel=poly, score=0.097, total=   1.4s\n",
            "[CV] C=1.0, gamma=auto, kernel=poly ..................................\n",
            "[CV] ...... C=1.0, gamma=auto, kernel=poly, score=0.007, total=   1.5s\n",
            "[CV] C=1.0, gamma=auto, kernel=poly ..................................\n",
            "[CV] ...... C=1.0, gamma=auto, kernel=poly, score=0.071, total=   1.3s\n",
            "[CV] C=1.0, gamma=auto, kernel=poly ..................................\n",
            "[CV] ...... C=1.0, gamma=auto, kernel=poly, score=0.090, total=   1.4s\n",
            "[CV] C=1.0, gamma=auto, kernel=poly ..................................\n",
            "[CV] ...... C=1.0, gamma=auto, kernel=poly, score=0.017, total=   1.5s\n",
            "[CV] C=1.0, gamma=auto, kernel=poly ..................................\n",
            "[CV] ...... C=1.0, gamma=auto, kernel=poly, score=0.034, total=   1.5s\n",
            "[CV] C=1.0, gamma=auto, kernel=rbf ...................................\n",
            "[CV] ....... C=1.0, gamma=auto, kernel=rbf, score=0.162, total=   1.8s\n",
            "[CV] C=1.0, gamma=auto, kernel=rbf ...................................\n",
            "[CV] ....... C=1.0, gamma=auto, kernel=rbf, score=0.169, total=   1.9s\n",
            "[CV] C=1.0, gamma=auto, kernel=rbf ...................................\n",
            "[CV] ....... C=1.0, gamma=auto, kernel=rbf, score=0.180, total=   1.8s\n",
            "[CV] C=1.0, gamma=auto, kernel=rbf ...................................\n",
            "[CV] ....... C=1.0, gamma=auto, kernel=rbf, score=0.172, total=   1.8s\n",
            "[CV] C=1.0, gamma=auto, kernel=rbf ...................................\n",
            "[CV] ....... C=1.0, gamma=auto, kernel=rbf, score=0.216, total=   1.8s\n",
            "[CV] C=1.0, gamma=auto, kernel=rbf ...................................\n",
            "[CV] ....... C=1.0, gamma=auto, kernel=rbf, score=0.152, total=   1.7s\n",
            "[CV] C=1.0, gamma=auto, kernel=rbf ...................................\n",
            "[CV] ....... C=1.0, gamma=auto, kernel=rbf, score=0.188, total=   1.7s\n",
            "[CV] C=1.0, gamma=auto, kernel=rbf ...................................\n",
            "[CV] ....... C=1.0, gamma=auto, kernel=rbf, score=0.202, total=   1.6s\n",
            "[CV] C=1.0, gamma=auto, kernel=rbf ...................................\n",
            "[CV] ....... C=1.0, gamma=auto, kernel=rbf, score=0.145, total=   1.8s\n",
            "[CV] C=1.0, gamma=auto, kernel=rbf ...................................\n",
            "[CV] ....... C=1.0, gamma=auto, kernel=rbf, score=0.163, total=   1.8s\n",
            "[CV] C=1.0, gamma=auto, kernel=sigmoid ...............................\n",
            "[CV] ... C=1.0, gamma=auto, kernel=sigmoid, score=0.268, total=   2.2s\n",
            "[CV] C=1.0, gamma=auto, kernel=sigmoid ...............................\n",
            "[CV] ... C=1.0, gamma=auto, kernel=sigmoid, score=0.272, total=   2.2s\n",
            "[CV] C=1.0, gamma=auto, kernel=sigmoid ...............................\n",
            "[CV] ... C=1.0, gamma=auto, kernel=sigmoid, score=0.288, total=   2.1s\n",
            "[CV] C=1.0, gamma=auto, kernel=sigmoid ...............................\n"
          ]
        },
        {
          "name": "stdout",
          "output_type": "stream",
          "text": [
            "[CV] ... C=1.0, gamma=auto, kernel=sigmoid, score=0.283, total=   1.8s\n",
            "[CV] C=1.0, gamma=auto, kernel=sigmoid ...............................\n",
            "[CV] ... C=1.0, gamma=auto, kernel=sigmoid, score=0.335, total=   1.8s\n",
            "[CV] C=1.0, gamma=auto, kernel=sigmoid ...............................\n",
            "[CV] ... C=1.0, gamma=auto, kernel=sigmoid, score=0.254, total=   1.9s\n",
            "[CV] C=1.0, gamma=auto, kernel=sigmoid ...............................\n",
            "[CV] ... C=1.0, gamma=auto, kernel=sigmoid, score=0.285, total=   1.8s\n",
            "[CV] C=1.0, gamma=auto, kernel=sigmoid ...............................\n",
            "[CV] ... C=1.0, gamma=auto, kernel=sigmoid, score=0.295, total=   1.7s\n",
            "[CV] C=1.0, gamma=auto, kernel=sigmoid ...............................\n",
            "[CV] ... C=1.0, gamma=auto, kernel=sigmoid, score=0.258, total=   1.8s\n",
            "[CV] C=1.0, gamma=auto, kernel=sigmoid ...............................\n",
            "[CV] ... C=1.0, gamma=auto, kernel=sigmoid, score=0.278, total=   2.0s\n",
            "[CV] C=0.1, gamma=scale, kernel=poly .................................\n",
            "[CV] .... C=0.1, gamma=scale, kernel=poly, score=-0.096, total=   1.5s\n",
            "[CV] C=0.1, gamma=scale, kernel=poly .................................\n",
            "[CV] .... C=0.1, gamma=scale, kernel=poly, score=-0.085, total=   1.5s\n",
            "[CV] C=0.1, gamma=scale, kernel=poly .................................\n",
            "[CV] .... C=0.1, gamma=scale, kernel=poly, score=-0.082, total=   1.5s\n",
            "[CV] C=0.1, gamma=scale, kernel=poly .................................\n",
            "[CV] .... C=0.1, gamma=scale, kernel=poly, score=-0.100, total=   1.5s\n",
            "[CV] C=0.1, gamma=scale, kernel=poly .................................\n",
            "[CV] .... C=0.1, gamma=scale, kernel=poly, score=-0.051, total=   1.5s\n",
            "[CV] C=0.1, gamma=scale, kernel=poly .................................\n",
            "[CV] .... C=0.1, gamma=scale, kernel=poly, score=-0.110, total=   1.6s\n",
            "[CV] C=0.1, gamma=scale, kernel=poly .................................\n",
            "[CV] .... C=0.1, gamma=scale, kernel=poly, score=-0.058, total=   1.5s\n",
            "[CV] C=0.1, gamma=scale, kernel=poly .................................\n",
            "[CV] .... C=0.1, gamma=scale, kernel=poly, score=-0.044, total=   1.5s\n",
            "[CV] C=0.1, gamma=scale, kernel=poly .................................\n",
            "[CV] .... C=0.1, gamma=scale, kernel=poly, score=-0.115, total=   1.5s\n",
            "[CV] C=0.1, gamma=scale, kernel=poly .................................\n",
            "[CV] .... C=0.1, gamma=scale, kernel=poly, score=-0.109, total=   1.4s\n",
            "[CV] C=0.1, gamma=scale, kernel=rbf ..................................\n",
            "[CV] ..... C=0.1, gamma=scale, kernel=rbf, score=-0.078, total=   1.8s\n",
            "[CV] C=0.1, gamma=scale, kernel=rbf ..................................\n",
            "[CV] ..... C=0.1, gamma=scale, kernel=rbf, score=-0.068, total=   1.9s\n",
            "[CV] C=0.1, gamma=scale, kernel=rbf ..................................\n",
            "[CV] ..... C=0.1, gamma=scale, kernel=rbf, score=-0.063, total=   1.7s\n",
            "[CV] C=0.1, gamma=scale, kernel=rbf ..................................\n",
            "[CV] ..... C=0.1, gamma=scale, kernel=rbf, score=-0.081, total=   1.7s\n",
            "[CV] C=0.1, gamma=scale, kernel=rbf ..................................\n",
            "[CV] ..... C=0.1, gamma=scale, kernel=rbf, score=-0.038, total=   1.9s\n",
            "[CV] C=0.1, gamma=scale, kernel=rbf ..................................\n",
            "[CV] ..... C=0.1, gamma=scale, kernel=rbf, score=-0.089, total=   1.8s\n",
            "[CV] C=0.1, gamma=scale, kernel=rbf ..................................\n",
            "[CV] ..... C=0.1, gamma=scale, kernel=rbf, score=-0.043, total=   1.9s\n",
            "[CV] C=0.1, gamma=scale, kernel=rbf ..................................\n",
            "[CV] ..... C=0.1, gamma=scale, kernel=rbf, score=-0.031, total=   2.3s\n",
            "[CV] C=0.1, gamma=scale, kernel=rbf ..................................\n",
            "[CV] ..... C=0.1, gamma=scale, kernel=rbf, score=-0.097, total=   2.2s\n",
            "[CV] C=0.1, gamma=scale, kernel=rbf ..................................\n",
            "[CV] ..... C=0.1, gamma=scale, kernel=rbf, score=-0.090, total=   2.0s\n",
            "[CV] C=0.1, gamma=scale, kernel=sigmoid ..............................\n",
            "[CV] . C=0.1, gamma=scale, kernel=sigmoid, score=-0.040, total=   2.2s\n",
            "[CV] C=0.1, gamma=scale, kernel=sigmoid ..............................\n",
            "[CV] . C=0.1, gamma=scale, kernel=sigmoid, score=-0.031, total=   2.0s\n",
            "[CV] C=0.1, gamma=scale, kernel=sigmoid ..............................\n",
            "[CV] . C=0.1, gamma=scale, kernel=sigmoid, score=-0.026, total=   2.1s\n",
            "[CV] C=0.1, gamma=scale, kernel=sigmoid ..............................\n",
            "[CV] . C=0.1, gamma=scale, kernel=sigmoid, score=-0.042, total=   2.3s\n",
            "[CV] C=0.1, gamma=scale, kernel=sigmoid ..............................\n",
            "[CV] .. C=0.1, gamma=scale, kernel=sigmoid, score=0.008, total=   2.2s\n",
            "[CV] C=0.1, gamma=scale, kernel=sigmoid ..............................\n",
            "[CV] . C=0.1, gamma=scale, kernel=sigmoid, score=-0.052, total=   2.1s\n",
            "[CV] C=0.1, gamma=scale, kernel=sigmoid ..............................\n",
            "[CV] . C=0.1, gamma=scale, kernel=sigmoid, score=-0.007, total=   2.3s\n",
            "[CV] C=0.1, gamma=scale, kernel=sigmoid ..............................\n",
            "[CV] .. C=0.1, gamma=scale, kernel=sigmoid, score=0.006, total=   2.3s\n",
            "[CV] C=0.1, gamma=scale, kernel=sigmoid ..............................\n",
            "[CV] . C=0.1, gamma=scale, kernel=sigmoid, score=-0.058, total=   2.1s\n",
            "[CV] C=0.1, gamma=scale, kernel=sigmoid ..............................\n",
            "[CV] . C=0.1, gamma=scale, kernel=sigmoid, score=-0.049, total=   2.0s\n",
            "[CV] C=0.1, gamma=auto, kernel=poly ..................................\n",
            "[CV] ..... C=0.1, gamma=auto, kernel=poly, score=-0.096, total=   1.3s\n",
            "[CV] C=0.1, gamma=auto, kernel=poly ..................................\n",
            "[CV] ..... C=0.1, gamma=auto, kernel=poly, score=-0.085, total=   1.3s\n",
            "[CV] C=0.1, gamma=auto, kernel=poly ..................................\n",
            "[CV] ..... C=0.1, gamma=auto, kernel=poly, score=-0.082, total=   1.4s\n",
            "[CV] C=0.1, gamma=auto, kernel=poly ..................................\n",
            "[CV] ..... C=0.1, gamma=auto, kernel=poly, score=-0.100, total=   1.4s\n",
            "[CV] C=0.1, gamma=auto, kernel=poly ..................................\n",
            "[CV] ..... C=0.1, gamma=auto, kernel=poly, score=-0.051, total=   1.5s\n",
            "[CV] C=0.1, gamma=auto, kernel=poly ..................................\n",
            "[CV] ..... C=0.1, gamma=auto, kernel=poly, score=-0.110, total=   1.3s\n",
            "[CV] C=0.1, gamma=auto, kernel=poly ..................................\n",
            "[CV] ..... C=0.1, gamma=auto, kernel=poly, score=-0.058, total=   1.2s\n",
            "[CV] C=0.1, gamma=auto, kernel=poly ..................................\n",
            "[CV] ..... C=0.1, gamma=auto, kernel=poly, score=-0.044, total=   1.3s\n",
            "[CV] C=0.1, gamma=auto, kernel=poly ..................................\n",
            "[CV] ..... C=0.1, gamma=auto, kernel=poly, score=-0.115, total=   1.3s\n",
            "[CV] C=0.1, gamma=auto, kernel=poly ..................................\n",
            "[CV] ..... C=0.1, gamma=auto, kernel=poly, score=-0.109, total=   1.3s\n",
            "[CV] C=0.1, gamma=auto, kernel=rbf ...................................\n",
            "[CV] ...... C=0.1, gamma=auto, kernel=rbf, score=-0.078, total=   1.7s\n",
            "[CV] C=0.1, gamma=auto, kernel=rbf ...................................\n",
            "[CV] ...... C=0.1, gamma=auto, kernel=rbf, score=-0.068, total=   1.6s\n",
            "[CV] C=0.1, gamma=auto, kernel=rbf ...................................\n",
            "[CV] ...... C=0.1, gamma=auto, kernel=rbf, score=-0.063, total=   1.6s\n",
            "[CV] C=0.1, gamma=auto, kernel=rbf ...................................\n",
            "[CV] ...... C=0.1, gamma=auto, kernel=rbf, score=-0.081, total=   1.6s\n",
            "[CV] C=0.1, gamma=auto, kernel=rbf ...................................\n",
            "[CV] ...... C=0.1, gamma=auto, kernel=rbf, score=-0.038, total=   1.7s\n",
            "[CV] C=0.1, gamma=auto, kernel=rbf ...................................\n",
            "[CV] ...... C=0.1, gamma=auto, kernel=rbf, score=-0.089, total=   1.6s\n",
            "[CV] C=0.1, gamma=auto, kernel=rbf ...................................\n",
            "[CV] ...... C=0.1, gamma=auto, kernel=rbf, score=-0.043, total=   1.6s\n",
            "[CV] C=0.1, gamma=auto, kernel=rbf ...................................\n",
            "[CV] ...... C=0.1, gamma=auto, kernel=rbf, score=-0.031, total=   1.8s\n",
            "[CV] C=0.1, gamma=auto, kernel=rbf ...................................\n",
            "[CV] ...... C=0.1, gamma=auto, kernel=rbf, score=-0.097, total=   1.9s\n",
            "[CV] C=0.1, gamma=auto, kernel=rbf ...................................\n",
            "[CV] ...... C=0.1, gamma=auto, kernel=rbf, score=-0.090, total=   1.8s\n",
            "[CV] C=0.1, gamma=auto, kernel=sigmoid ...............................\n",
            "[CV] .. C=0.1, gamma=auto, kernel=sigmoid, score=-0.040, total=   2.0s\n",
            "[CV] C=0.1, gamma=auto, kernel=sigmoid ...............................\n"
          ]
        },
        {
          "name": "stdout",
          "output_type": "stream",
          "text": [
            "[CV] .. C=0.1, gamma=auto, kernel=sigmoid, score=-0.031, total=   1.8s\n",
            "[CV] C=0.1, gamma=auto, kernel=sigmoid ...............................\n",
            "[CV] .. C=0.1, gamma=auto, kernel=sigmoid, score=-0.026, total=   2.0s\n",
            "[CV] C=0.1, gamma=auto, kernel=sigmoid ...............................\n",
            "[CV] .. C=0.1, gamma=auto, kernel=sigmoid, score=-0.042, total=   1.9s\n",
            "[CV] C=0.1, gamma=auto, kernel=sigmoid ...............................\n",
            "[CV] ... C=0.1, gamma=auto, kernel=sigmoid, score=0.008, total=   2.0s\n",
            "[CV] C=0.1, gamma=auto, kernel=sigmoid ...............................\n",
            "[CV] .. C=0.1, gamma=auto, kernel=sigmoid, score=-0.052, total=   1.9s\n",
            "[CV] C=0.1, gamma=auto, kernel=sigmoid ...............................\n",
            "[CV] .. C=0.1, gamma=auto, kernel=sigmoid, score=-0.007, total=   2.1s\n",
            "[CV] C=0.1, gamma=auto, kernel=sigmoid ...............................\n",
            "[CV] ... C=0.1, gamma=auto, kernel=sigmoid, score=0.006, total=   2.0s\n",
            "[CV] C=0.1, gamma=auto, kernel=sigmoid ...............................\n",
            "[CV] .. C=0.1, gamma=auto, kernel=sigmoid, score=-0.058, total=   1.9s\n",
            "[CV] C=0.1, gamma=auto, kernel=sigmoid ...............................\n",
            "[CV] .. C=0.1, gamma=auto, kernel=sigmoid, score=-0.049, total=   1.8s\n",
            "[CV] C=0.01, gamma=scale, kernel=poly ................................\n",
            "[CV] ... C=0.01, gamma=scale, kernel=poly, score=-0.115, total=   1.7s\n",
            "[CV] C=0.01, gamma=scale, kernel=poly ................................\n",
            "[CV] ... C=0.01, gamma=scale, kernel=poly, score=-0.102, total=   2.1s\n",
            "[CV] C=0.01, gamma=scale, kernel=poly ................................\n",
            "[CV] ... C=0.01, gamma=scale, kernel=poly, score=-0.100, total=   1.5s\n",
            "[CV] C=0.01, gamma=scale, kernel=poly ................................\n",
            "[CV] ... C=0.01, gamma=scale, kernel=poly, score=-0.119, total=   1.4s\n",
            "[CV] C=0.01, gamma=scale, kernel=poly ................................\n",
            "[CV] ... C=0.01, gamma=scale, kernel=poly, score=-0.074, total=   1.5s\n",
            "[CV] C=0.01, gamma=scale, kernel=poly ................................\n",
            "[CV] ... C=0.01, gamma=scale, kernel=poly, score=-0.124, total=   1.7s\n",
            "[CV] C=0.01, gamma=scale, kernel=poly ................................\n",
            "[CV] ... C=0.01, gamma=scale, kernel=poly, score=-0.075, total=   1.7s\n",
            "[CV] C=0.01, gamma=scale, kernel=poly ................................\n",
            "[CV] ... C=0.01, gamma=scale, kernel=poly, score=-0.063, total=   1.7s\n",
            "[CV] C=0.01, gamma=scale, kernel=poly ................................\n",
            "[CV] ... C=0.01, gamma=scale, kernel=poly, score=-0.135, total=   1.5s\n",
            "[CV] C=0.01, gamma=scale, kernel=poly ................................\n",
            "[CV] ... C=0.01, gamma=scale, kernel=poly, score=-0.128, total=   1.4s\n",
            "[CV] C=0.01, gamma=scale, kernel=rbf .................................\n",
            "[CV] .... C=0.01, gamma=scale, kernel=rbf, score=-0.113, total=   1.8s\n",
            "[CV] C=0.01, gamma=scale, kernel=rbf .................................\n",
            "[CV] .... C=0.01, gamma=scale, kernel=rbf, score=-0.102, total=   1.8s\n",
            "[CV] C=0.01, gamma=scale, kernel=rbf .................................\n",
            "[CV] .... C=0.01, gamma=scale, kernel=rbf, score=-0.098, total=   1.7s\n",
            "[CV] C=0.01, gamma=scale, kernel=rbf .................................\n",
            "[CV] .... C=0.01, gamma=scale, kernel=rbf, score=-0.118, total=   1.8s\n",
            "[CV] C=0.01, gamma=scale, kernel=rbf .................................\n",
            "[CV] .... C=0.01, gamma=scale, kernel=rbf, score=-0.073, total=   1.7s\n",
            "[CV] C=0.01, gamma=scale, kernel=rbf .................................\n",
            "[CV] .... C=0.01, gamma=scale, kernel=rbf, score=-0.122, total=   1.7s\n",
            "[CV] C=0.01, gamma=scale, kernel=rbf .................................\n",
            "[CV] .... C=0.01, gamma=scale, kernel=rbf, score=-0.073, total=   1.7s\n",
            "[CV] C=0.01, gamma=scale, kernel=rbf .................................\n",
            "[CV] .... C=0.01, gamma=scale, kernel=rbf, score=-0.062, total=   1.7s\n",
            "[CV] C=0.01, gamma=scale, kernel=rbf .................................\n",
            "[CV] .... C=0.01, gamma=scale, kernel=rbf, score=-0.133, total=   1.7s\n",
            "[CV] C=0.01, gamma=scale, kernel=rbf .................................\n",
            "[CV] .... C=0.01, gamma=scale, kernel=rbf, score=-0.127, total=   1.8s\n",
            "[CV] C=0.01, gamma=scale, kernel=sigmoid .............................\n",
            "[CV]  C=0.01, gamma=scale, kernel=sigmoid, score=-0.110, total=   1.9s\n",
            "[CV] C=0.01, gamma=scale, kernel=sigmoid .............................\n",
            "[CV]  C=0.01, gamma=scale, kernel=sigmoid, score=-0.097, total=   2.0s\n",
            "[CV] C=0.01, gamma=scale, kernel=sigmoid .............................\n",
            "[CV]  C=0.01, gamma=scale, kernel=sigmoid, score=-0.094, total=   2.0s\n",
            "[CV] C=0.01, gamma=scale, kernel=sigmoid .............................\n",
            "[CV]  C=0.01, gamma=scale, kernel=sigmoid, score=-0.114, total=   1.9s\n",
            "[CV] C=0.01, gamma=scale, kernel=sigmoid .............................\n",
            "[CV]  C=0.01, gamma=scale, kernel=sigmoid, score=-0.068, total=   2.0s\n",
            "[CV] C=0.01, gamma=scale, kernel=sigmoid .............................\n",
            "[CV]  C=0.01, gamma=scale, kernel=sigmoid, score=-0.119, total=   1.9s\n",
            "[CV] C=0.01, gamma=scale, kernel=sigmoid .............................\n",
            "[CV]  C=0.01, gamma=scale, kernel=sigmoid, score=-0.069, total=   1.9s\n",
            "[CV] C=0.01, gamma=scale, kernel=sigmoid .............................\n",
            "[CV]  C=0.01, gamma=scale, kernel=sigmoid, score=-0.058, total=   2.0s\n",
            "[CV] C=0.01, gamma=scale, kernel=sigmoid .............................\n",
            "[CV]  C=0.01, gamma=scale, kernel=sigmoid, score=-0.128, total=   1.9s\n",
            "[CV] C=0.01, gamma=scale, kernel=sigmoid .............................\n",
            "[CV]  C=0.01, gamma=scale, kernel=sigmoid, score=-0.123, total=   1.9s\n",
            "[CV] C=0.01, gamma=auto, kernel=poly .................................\n",
            "[CV] .... C=0.01, gamma=auto, kernel=poly, score=-0.115, total=   1.4s\n",
            "[CV] C=0.01, gamma=auto, kernel=poly .................................\n",
            "[CV] .... C=0.01, gamma=auto, kernel=poly, score=-0.102, total=   1.3s\n",
            "[CV] C=0.01, gamma=auto, kernel=poly .................................\n",
            "[CV] .... C=0.01, gamma=auto, kernel=poly, score=-0.100, total=   1.3s\n",
            "[CV] C=0.01, gamma=auto, kernel=poly .................................\n",
            "[CV] .... C=0.01, gamma=auto, kernel=poly, score=-0.119, total=   1.3s\n",
            "[CV] C=0.01, gamma=auto, kernel=poly .................................\n",
            "[CV] .... C=0.01, gamma=auto, kernel=poly, score=-0.074, total=   1.3s\n",
            "[CV] C=0.01, gamma=auto, kernel=poly .................................\n",
            "[CV] .... C=0.01, gamma=auto, kernel=poly, score=-0.124, total=   1.3s\n",
            "[CV] C=0.01, gamma=auto, kernel=poly .................................\n",
            "[CV] .... C=0.01, gamma=auto, kernel=poly, score=-0.075, total=   1.3s\n",
            "[CV] C=0.01, gamma=auto, kernel=poly .................................\n",
            "[CV] .... C=0.01, gamma=auto, kernel=poly, score=-0.063, total=   1.3s\n",
            "[CV] C=0.01, gamma=auto, kernel=poly .................................\n",
            "[CV] .... C=0.01, gamma=auto, kernel=poly, score=-0.135, total=   1.3s\n",
            "[CV] C=0.01, gamma=auto, kernel=poly .................................\n",
            "[CV] .... C=0.01, gamma=auto, kernel=poly, score=-0.128, total=   1.3s\n",
            "[CV] C=0.01, gamma=auto, kernel=rbf ..................................\n",
            "[CV] ..... C=0.01, gamma=auto, kernel=rbf, score=-0.113, total=   1.6s\n",
            "[CV] C=0.01, gamma=auto, kernel=rbf ..................................\n",
            "[CV] ..... C=0.01, gamma=auto, kernel=rbf, score=-0.102, total=   1.6s\n",
            "[CV] C=0.01, gamma=auto, kernel=rbf ..................................\n",
            "[CV] ..... C=0.01, gamma=auto, kernel=rbf, score=-0.098, total=   1.7s\n",
            "[CV] C=0.01, gamma=auto, kernel=rbf ..................................\n",
            "[CV] ..... C=0.01, gamma=auto, kernel=rbf, score=-0.118, total=   1.6s\n",
            "[CV] C=0.01, gamma=auto, kernel=rbf ..................................\n",
            "[CV] ..... C=0.01, gamma=auto, kernel=rbf, score=-0.073, total=   1.7s\n",
            "[CV] C=0.01, gamma=auto, kernel=rbf ..................................\n",
            "[CV] ..... C=0.01, gamma=auto, kernel=rbf, score=-0.122, total=   1.9s\n",
            "[CV] C=0.01, gamma=auto, kernel=rbf ..................................\n",
            "[CV] ..... C=0.01, gamma=auto, kernel=rbf, score=-0.073, total=   1.8s\n",
            "[CV] C=0.01, gamma=auto, kernel=rbf ..................................\n",
            "[CV] ..... C=0.01, gamma=auto, kernel=rbf, score=-0.062, total=   1.8s\n",
            "[CV] C=0.01, gamma=auto, kernel=rbf ..................................\n",
            "[CV] ..... C=0.01, gamma=auto, kernel=rbf, score=-0.133, total=   1.7s\n",
            "[CV] C=0.01, gamma=auto, kernel=rbf ..................................\n"
          ]
        },
        {
          "name": "stdout",
          "output_type": "stream",
          "text": [
            "[CV] ..... C=0.01, gamma=auto, kernel=rbf, score=-0.127, total=   1.7s\n",
            "[CV] C=0.01, gamma=auto, kernel=sigmoid ..............................\n",
            "[CV] . C=0.01, gamma=auto, kernel=sigmoid, score=-0.110, total=   1.9s\n",
            "[CV] C=0.01, gamma=auto, kernel=sigmoid ..............................\n",
            "[CV] . C=0.01, gamma=auto, kernel=sigmoid, score=-0.097, total=   1.8s\n",
            "[CV] C=0.01, gamma=auto, kernel=sigmoid ..............................\n",
            "[CV] . C=0.01, gamma=auto, kernel=sigmoid, score=-0.094, total=   1.9s\n",
            "[CV] C=0.01, gamma=auto, kernel=sigmoid ..............................\n",
            "[CV] . C=0.01, gamma=auto, kernel=sigmoid, score=-0.114, total=   1.9s\n",
            "[CV] C=0.01, gamma=auto, kernel=sigmoid ..............................\n",
            "[CV] . C=0.01, gamma=auto, kernel=sigmoid, score=-0.068, total=   2.0s\n",
            "[CV] C=0.01, gamma=auto, kernel=sigmoid ..............................\n",
            "[CV] . C=0.01, gamma=auto, kernel=sigmoid, score=-0.119, total=   2.0s\n",
            "[CV] C=0.01, gamma=auto, kernel=sigmoid ..............................\n",
            "[CV] . C=0.01, gamma=auto, kernel=sigmoid, score=-0.069, total=   2.5s\n",
            "[CV] C=0.01, gamma=auto, kernel=sigmoid ..............................\n",
            "[CV] . C=0.01, gamma=auto, kernel=sigmoid, score=-0.058, total=   1.9s\n",
            "[CV] C=0.01, gamma=auto, kernel=sigmoid ..............................\n",
            "[CV] . C=0.01, gamma=auto, kernel=sigmoid, score=-0.128, total=   1.9s\n",
            "[CV] C=0.01, gamma=auto, kernel=sigmoid ..............................\n",
            "[CV] . C=0.01, gamma=auto, kernel=sigmoid, score=-0.123, total=   1.9s\n"
          ]
        },
        {
          "name": "stderr",
          "output_type": "stream",
          "text": [
            "[Parallel(n_jobs=1)]: Done 420 out of 420 | elapsed: 11.9min finished\n"
          ]
        },
        {
          "data": {
            "text/plain": [
              "{'C': 50, 'gamma': 'scale', 'kernel': 'rbf'}"
            ]
          },
          "execution_count": 41,
          "metadata": {},
          "output_type": "execute_result"
        }
      ],
      "source": [
        "svm_svr = SVR()\n",
        "parameters = {\"kernel\": ['poly', 'rbf', 'sigmoid'], \n",
        "              \"C\": [50, 25, 10, 5, 1.0, 0.1, 0.01], \n",
        "              \"gamma\": ['scale', 'auto']}\n",
        "\n",
        "tuned_parameters = [\n",
        "    {\"kernel\": [\"rbf\"], \"gamma\": [1e-3, 1e-4], \"C\": [1, 10, 100, 1000]},\n",
        "    {\"kernel\": [\"linear\"], \"C\": [1, 10, 100, 1000]},\n",
        "]\n",
        "\n",
        "\n",
        "grid_search = GridSearchCV(estimator=svm_svr,\n",
        "                           param_grid=parameters,\n",
        "                           cv=10)\n",
        "\n",
        "grid_search.fit(x_train, y_train)\n",
        "grid_search.best_params_"
      ]
    },
    {
      "cell_type": "markdown",
      "metadata": {
        "id": "wCo5Mu3I-Igw"
      },
      "source": [
        "#### Perform the model"
      ]
    },
    {
      "cell_type": "code",
      "execution_count": null,
      "metadata": {
        "colab": {
          "base_uri": "https://localhost:8080/"
        },
        "id": "cHTgZ2_2-Igw",
        "outputId": "6c0cb8aa-91c9-40b5-8e8a-a41b935eb9ce"
      },
      "outputs": [
        {
          "output_type": "stream",
          "name": "stdout",
          "text": [
            "R2 = 0.7512580906011369\n",
            "Mean squared error = 101482.90745508758\n",
            "Root mean squared error = 318.56382006607026\n"
          ]
        }
      ],
      "source": [
        "svm_svr = SVR(C=50, gamma='scale', kernel='rbf').fit(x_train, y_train)\n",
        "\n",
        "# Prediction\n",
        "y_prediction_svm_svr = svm_svr.predict(x_test)\n",
        "\n",
        "# Score\n",
        "r2_svm_svr = r2_score(y_test, y_prediction_svm_svr)\n",
        "MSE_svm_svr = mean_squared_error(y_test, y_prediction_svm_svr)\n",
        "print(\"R2 =\", r2_svm_svr)\n",
        "print(\"Mean squared error =\", MSE_svm_svr)\n",
        "print(\"Root mean squared error =\", np.sqrt(mean_squared_error(y_test, y_prediction_svm_svr)))"
      ]
    },
    {
      "cell_type": "markdown",
      "metadata": {
        "id": "bA-fyRIY-Igx"
      },
      "source": [
        "### KNN"
      ]
    },
    {
      "cell_type": "markdown",
      "metadata": {
        "id": "ooqyO_5s-Igx"
      },
      "source": [
        "#### Cross-Validation"
      ]
    },
    {
      "cell_type": "code",
      "execution_count": null,
      "metadata": {
        "id": "nuNdhZ8m-Igx",
        "outputId": "64223337-2be7-49ad-b6e0-0babc9ede65c"
      },
      "outputs": [
        {
          "data": {
            "text/plain": [
              "{'metric': 'manhattan', 'n_neighbors': 5, 'weights': 'distance'}"
            ]
          },
          "execution_count": 39,
          "metadata": {},
          "output_type": "execute_result"
        }
      ],
      "source": [
        "knn_reg = KNeighborsRegressor()\n",
        "parameters = {\"n_neighbors\" : range(3, 25), \"weights\":['uniform', 'distance'], \"metric\":['euclidean', 'manhattan', 'minkowski']}\n",
        "\n",
        "\n",
        "grid_search = GridSearchCV(estimator = knn_reg,\n",
        "                          param_grid = parameters,\n",
        "                          cv = 10)\n",
        "\n",
        "grid_search.fit(x_train, y_train)\n",
        "grid_search.best_params_"
      ]
    },
    {
      "cell_type": "markdown",
      "metadata": {
        "id": "JXMIZUo1-Igx"
      },
      "source": [
        "#### Perform the model"
      ]
    },
    {
      "cell_type": "code",
      "execution_count": null,
      "metadata": {
        "colab": {
          "base_uri": "https://localhost:8080/"
        },
        "id": "-vGvgJJt-Igx",
        "outputId": "ed3e1f1e-4571-4f03-85b6-5972889e0bdc"
      },
      "outputs": [
        {
          "output_type": "stream",
          "name": "stdout",
          "text": [
            "R2 = 0.8195184097995944\n",
            "Mean squared error = 73633.73771600757\n",
            "Root mean squared error = 271.3553716365452\n"
          ]
        }
      ],
      "source": [
        "knn_reg = KNeighborsRegressor(n_neighbors=5, metric='manhattan', weights='distance').fit(x_train, y_train)\n",
        "\n",
        "# Prediction\n",
        "y_prediction_knn_reg = knn_reg.predict(x_test)\n",
        "\n",
        "# Score\n",
        "r2_knn_reg = r2_score(y_test, y_prediction_knn_reg)\n",
        "MSE_knn_reg = mean_squared_error(y_test, y_prediction_knn_reg)\n",
        "print(\"R2 =\", r2_knn_reg)\n",
        "print(\"Mean squared error =\", MSE_knn_reg)\n",
        "print(\"Root mean squared error =\", np.sqrt(mean_squared_error(y_test, y_prediction_knn_reg)))"
      ]
    },
    {
      "cell_type": "markdown",
      "metadata": {
        "id": "ZUQdvlNv-Igy"
      },
      "source": [
        "### Decision Tree Regression"
      ]
    },
    {
      "cell_type": "markdown",
      "metadata": {
        "id": "_jfv3dC8-Igz"
      },
      "source": [
        "#### Cross-Validation"
      ]
    },
    {
      "cell_type": "code",
      "execution_count": null,
      "metadata": {
        "colab": {
          "base_uri": "https://localhost:8080/"
        },
        "id": "FEoEBtuR-Igz",
        "outputId": "2be1951c-8677-49e8-f7d6-f16ef80b4e1d"
      },
      "outputs": [
        {
          "output_type": "execute_result",
          "data": {
            "text/plain": [
              "{'max_depth': 50}"
            ]
          },
          "metadata": {},
          "execution_count": 32
        }
      ],
      "source": [
        "decision_tree_reg = DecisionTreeRegressor()\n",
        "parameters = {\"max_depth\" : np.array([5, 10, 20, 50, 100, 200, 500])}\n",
        "\n",
        "\n",
        "grid_search = GridSearchCV(estimator = decision_tree_reg,\n",
        "                          param_grid = parameters,\n",
        "                          cv = 10)\n",
        "\n",
        "grid_search.fit(x_train, y_train)\n",
        "grid_search.best_params_"
      ]
    },
    {
      "cell_type": "markdown",
      "metadata": {
        "id": "-VHQzQ0L-Igz"
      },
      "source": [
        "#### Perform the model"
      ]
    },
    {
      "cell_type": "code",
      "execution_count": null,
      "metadata": {
        "colab": {
          "base_uri": "https://localhost:8080/"
        },
        "id": "jwmfjz8P-Igz",
        "outputId": "6f66ed4b-24e8-4f92-d43d-d2d59bc81352"
      },
      "outputs": [
        {
          "output_type": "stream",
          "name": "stdout",
          "text": [
            "R2 = 0.8407342061743907\n",
            "Mean squared error = 64978.01618804832\n",
            "Root mean squared error = 254.90785823126035\n"
          ]
        }
      ],
      "source": [
        "tree_reg = DecisionTreeRegressor(max_depth=10).fit(x_train, y_train)\n",
        "\n",
        "# Prediction\n",
        "y_prediction_tree_reg = tree_reg.predict(x_test)\n",
        "\n",
        "# Score\n",
        "r2_tree_reg = r2_score(y_test, y_prediction_tree_reg)\n",
        "MSE_tree_reg = mean_squared_error(y_test, y_prediction_tree_reg)\n",
        "print(\"R2 =\", r2_tree_reg)\n",
        "print(\"Mean squared error =\", MSE_tree_reg)\n",
        "print(\"Root mean squared error =\", np.sqrt(mean_squared_error(y_test, y_prediction_tree_reg)))"
      ]
    },
    {
      "cell_type": "markdown",
      "metadata": {
        "id": "YlFDnUOW-Ig0"
      },
      "source": [
        "### Random Forest "
      ]
    },
    {
      "cell_type": "markdown",
      "metadata": {
        "id": "Pmv4FyX9-Ig0"
      },
      "source": [
        "#### Cross-Validation"
      ]
    },
    {
      "cell_type": "code",
      "execution_count": null,
      "metadata": {
        "colab": {
          "base_uri": "https://localhost:8080/"
        },
        "id": "29ps5nxY-Ig0",
        "outputId": "5101c1e2-5c29-4775-944a-620917c77b4e"
      },
      "outputs": [
        {
          "output_type": "error",
          "ename": "KeyboardInterrupt",
          "evalue": "ignored",
          "traceback": [
            "\u001b[0;31m---------------------------------------------------------------------------\u001b[0m",
            "\u001b[0;31mKeyboardInterrupt\u001b[0m                         Traceback (most recent call last)",
            "\u001b[0;32m<ipython-input-34-17c7400111c7>\u001b[0m in \u001b[0;36m<module>\u001b[0;34m()\u001b[0m\n\u001b[1;32m      9\u001b[0m                           cv = 10)\n\u001b[1;32m     10\u001b[0m \u001b[0;34m\u001b[0m\u001b[0m\n\u001b[0;32m---> 11\u001b[0;31m \u001b[0mgrid_search\u001b[0m\u001b[0;34m.\u001b[0m\u001b[0mfit\u001b[0m\u001b[0;34m(\u001b[0m\u001b[0mx_train\u001b[0m\u001b[0;34m,\u001b[0m \u001b[0my_train\u001b[0m\u001b[0;34m)\u001b[0m\u001b[0;34m\u001b[0m\u001b[0;34m\u001b[0m\u001b[0m\n\u001b[0m\u001b[1;32m     12\u001b[0m \u001b[0mgrid_search\u001b[0m\u001b[0;34m.\u001b[0m\u001b[0mbest_params_\u001b[0m\u001b[0;34m\u001b[0m\u001b[0;34m\u001b[0m\u001b[0m\n",
            "\u001b[0;32m/usr/local/lib/python3.7/dist-packages/sklearn/model_selection/_search.py\u001b[0m in \u001b[0;36mfit\u001b[0;34m(self, X, y, groups, **fit_params)\u001b[0m\n\u001b[1;32m    889\u001b[0m                 \u001b[0;32mreturn\u001b[0m \u001b[0mresults\u001b[0m\u001b[0;34m\u001b[0m\u001b[0;34m\u001b[0m\u001b[0m\n\u001b[1;32m    890\u001b[0m \u001b[0;34m\u001b[0m\u001b[0m\n\u001b[0;32m--> 891\u001b[0;31m             \u001b[0mself\u001b[0m\u001b[0;34m.\u001b[0m\u001b[0m_run_search\u001b[0m\u001b[0;34m(\u001b[0m\u001b[0mevaluate_candidates\u001b[0m\u001b[0;34m)\u001b[0m\u001b[0;34m\u001b[0m\u001b[0;34m\u001b[0m\u001b[0m\n\u001b[0m\u001b[1;32m    892\u001b[0m \u001b[0;34m\u001b[0m\u001b[0m\n\u001b[1;32m    893\u001b[0m             \u001b[0;31m# multimetric is determined here because in the case of a callable\u001b[0m\u001b[0;34m\u001b[0m\u001b[0;34m\u001b[0m\u001b[0;34m\u001b[0m\u001b[0m\n",
            "\u001b[0;32m/usr/local/lib/python3.7/dist-packages/sklearn/model_selection/_search.py\u001b[0m in \u001b[0;36m_run_search\u001b[0;34m(self, evaluate_candidates)\u001b[0m\n\u001b[1;32m   1390\u001b[0m     \u001b[0;32mdef\u001b[0m \u001b[0m_run_search\u001b[0m\u001b[0;34m(\u001b[0m\u001b[0mself\u001b[0m\u001b[0;34m,\u001b[0m \u001b[0mevaluate_candidates\u001b[0m\u001b[0;34m)\u001b[0m\u001b[0;34m:\u001b[0m\u001b[0;34m\u001b[0m\u001b[0;34m\u001b[0m\u001b[0m\n\u001b[1;32m   1391\u001b[0m         \u001b[0;34m\"\"\"Search all candidates in param_grid\"\"\"\u001b[0m\u001b[0;34m\u001b[0m\u001b[0;34m\u001b[0m\u001b[0m\n\u001b[0;32m-> 1392\u001b[0;31m         \u001b[0mevaluate_candidates\u001b[0m\u001b[0;34m(\u001b[0m\u001b[0mParameterGrid\u001b[0m\u001b[0;34m(\u001b[0m\u001b[0mself\u001b[0m\u001b[0;34m.\u001b[0m\u001b[0mparam_grid\u001b[0m\u001b[0;34m)\u001b[0m\u001b[0;34m)\u001b[0m\u001b[0;34m\u001b[0m\u001b[0;34m\u001b[0m\u001b[0m\n\u001b[0m\u001b[1;32m   1393\u001b[0m \u001b[0;34m\u001b[0m\u001b[0m\n\u001b[1;32m   1394\u001b[0m \u001b[0;34m\u001b[0m\u001b[0m\n",
            "\u001b[0;32m/usr/local/lib/python3.7/dist-packages/sklearn/model_selection/_search.py\u001b[0m in \u001b[0;36mevaluate_candidates\u001b[0;34m(candidate_params, cv, more_results)\u001b[0m\n\u001b[1;32m    849\u001b[0m                     )\n\u001b[1;32m    850\u001b[0m                     for (cand_idx, parameters), (split_idx, (train, test)) in product(\n\u001b[0;32m--> 851\u001b[0;31m                         \u001b[0menumerate\u001b[0m\u001b[0;34m(\u001b[0m\u001b[0mcandidate_params\u001b[0m\u001b[0;34m)\u001b[0m\u001b[0;34m,\u001b[0m \u001b[0menumerate\u001b[0m\u001b[0;34m(\u001b[0m\u001b[0mcv\u001b[0m\u001b[0;34m.\u001b[0m\u001b[0msplit\u001b[0m\u001b[0;34m(\u001b[0m\u001b[0mX\u001b[0m\u001b[0;34m,\u001b[0m \u001b[0my\u001b[0m\u001b[0;34m,\u001b[0m \u001b[0mgroups\u001b[0m\u001b[0;34m)\u001b[0m\u001b[0;34m)\u001b[0m\u001b[0;34m\u001b[0m\u001b[0;34m\u001b[0m\u001b[0m\n\u001b[0m\u001b[1;32m    852\u001b[0m                     )\n\u001b[1;32m    853\u001b[0m                 )\n",
            "\u001b[0;32m/usr/local/lib/python3.7/dist-packages/joblib/parallel.py\u001b[0m in \u001b[0;36m__call__\u001b[0;34m(self, iterable)\u001b[0m\n\u001b[1;32m   1044\u001b[0m                 \u001b[0mself\u001b[0m\u001b[0;34m.\u001b[0m\u001b[0m_iterating\u001b[0m \u001b[0;34m=\u001b[0m \u001b[0mself\u001b[0m\u001b[0;34m.\u001b[0m\u001b[0m_original_iterator\u001b[0m \u001b[0;32mis\u001b[0m \u001b[0;32mnot\u001b[0m \u001b[0;32mNone\u001b[0m\u001b[0;34m\u001b[0m\u001b[0;34m\u001b[0m\u001b[0m\n\u001b[1;32m   1045\u001b[0m \u001b[0;34m\u001b[0m\u001b[0m\n\u001b[0;32m-> 1046\u001b[0;31m             \u001b[0;32mwhile\u001b[0m \u001b[0mself\u001b[0m\u001b[0;34m.\u001b[0m\u001b[0mdispatch_one_batch\u001b[0m\u001b[0;34m(\u001b[0m\u001b[0miterator\u001b[0m\u001b[0;34m)\u001b[0m\u001b[0;34m:\u001b[0m\u001b[0;34m\u001b[0m\u001b[0;34m\u001b[0m\u001b[0m\n\u001b[0m\u001b[1;32m   1047\u001b[0m                 \u001b[0;32mpass\u001b[0m\u001b[0;34m\u001b[0m\u001b[0;34m\u001b[0m\u001b[0m\n\u001b[1;32m   1048\u001b[0m \u001b[0;34m\u001b[0m\u001b[0m\n",
            "\u001b[0;32m/usr/local/lib/python3.7/dist-packages/joblib/parallel.py\u001b[0m in \u001b[0;36mdispatch_one_batch\u001b[0;34m(self, iterator)\u001b[0m\n\u001b[1;32m    859\u001b[0m                 \u001b[0;32mreturn\u001b[0m \u001b[0;32mFalse\u001b[0m\u001b[0;34m\u001b[0m\u001b[0;34m\u001b[0m\u001b[0m\n\u001b[1;32m    860\u001b[0m             \u001b[0;32melse\u001b[0m\u001b[0;34m:\u001b[0m\u001b[0;34m\u001b[0m\u001b[0;34m\u001b[0m\u001b[0m\n\u001b[0;32m--> 861\u001b[0;31m                 \u001b[0mself\u001b[0m\u001b[0;34m.\u001b[0m\u001b[0m_dispatch\u001b[0m\u001b[0;34m(\u001b[0m\u001b[0mtasks\u001b[0m\u001b[0;34m)\u001b[0m\u001b[0;34m\u001b[0m\u001b[0;34m\u001b[0m\u001b[0m\n\u001b[0m\u001b[1;32m    862\u001b[0m                 \u001b[0;32mreturn\u001b[0m \u001b[0;32mTrue\u001b[0m\u001b[0;34m\u001b[0m\u001b[0;34m\u001b[0m\u001b[0m\n\u001b[1;32m    863\u001b[0m \u001b[0;34m\u001b[0m\u001b[0m\n",
            "\u001b[0;32m/usr/local/lib/python3.7/dist-packages/joblib/parallel.py\u001b[0m in \u001b[0;36m_dispatch\u001b[0;34m(self, batch)\u001b[0m\n\u001b[1;32m    777\u001b[0m         \u001b[0;32mwith\u001b[0m \u001b[0mself\u001b[0m\u001b[0;34m.\u001b[0m\u001b[0m_lock\u001b[0m\u001b[0;34m:\u001b[0m\u001b[0;34m\u001b[0m\u001b[0;34m\u001b[0m\u001b[0m\n\u001b[1;32m    778\u001b[0m             \u001b[0mjob_idx\u001b[0m \u001b[0;34m=\u001b[0m \u001b[0mlen\u001b[0m\u001b[0;34m(\u001b[0m\u001b[0mself\u001b[0m\u001b[0;34m.\u001b[0m\u001b[0m_jobs\u001b[0m\u001b[0;34m)\u001b[0m\u001b[0;34m\u001b[0m\u001b[0;34m\u001b[0m\u001b[0m\n\u001b[0;32m--> 779\u001b[0;31m             \u001b[0mjob\u001b[0m \u001b[0;34m=\u001b[0m \u001b[0mself\u001b[0m\u001b[0;34m.\u001b[0m\u001b[0m_backend\u001b[0m\u001b[0;34m.\u001b[0m\u001b[0mapply_async\u001b[0m\u001b[0;34m(\u001b[0m\u001b[0mbatch\u001b[0m\u001b[0;34m,\u001b[0m \u001b[0mcallback\u001b[0m\u001b[0;34m=\u001b[0m\u001b[0mcb\u001b[0m\u001b[0;34m)\u001b[0m\u001b[0;34m\u001b[0m\u001b[0;34m\u001b[0m\u001b[0m\n\u001b[0m\u001b[1;32m    780\u001b[0m             \u001b[0;31m# A job can complete so quickly than its callback is\u001b[0m\u001b[0;34m\u001b[0m\u001b[0;34m\u001b[0m\u001b[0;34m\u001b[0m\u001b[0m\n\u001b[1;32m    781\u001b[0m             \u001b[0;31m# called before we get here, causing self._jobs to\u001b[0m\u001b[0;34m\u001b[0m\u001b[0;34m\u001b[0m\u001b[0;34m\u001b[0m\u001b[0m\n",
            "\u001b[0;32m/usr/local/lib/python3.7/dist-packages/joblib/_parallel_backends.py\u001b[0m in \u001b[0;36mapply_async\u001b[0;34m(self, func, callback)\u001b[0m\n\u001b[1;32m    206\u001b[0m     \u001b[0;32mdef\u001b[0m \u001b[0mapply_async\u001b[0m\u001b[0;34m(\u001b[0m\u001b[0mself\u001b[0m\u001b[0;34m,\u001b[0m \u001b[0mfunc\u001b[0m\u001b[0;34m,\u001b[0m \u001b[0mcallback\u001b[0m\u001b[0;34m=\u001b[0m\u001b[0;32mNone\u001b[0m\u001b[0;34m)\u001b[0m\u001b[0;34m:\u001b[0m\u001b[0;34m\u001b[0m\u001b[0;34m\u001b[0m\u001b[0m\n\u001b[1;32m    207\u001b[0m         \u001b[0;34m\"\"\"Schedule a func to be run\"\"\"\u001b[0m\u001b[0;34m\u001b[0m\u001b[0;34m\u001b[0m\u001b[0m\n\u001b[0;32m--> 208\u001b[0;31m         \u001b[0mresult\u001b[0m \u001b[0;34m=\u001b[0m \u001b[0mImmediateResult\u001b[0m\u001b[0;34m(\u001b[0m\u001b[0mfunc\u001b[0m\u001b[0;34m)\u001b[0m\u001b[0;34m\u001b[0m\u001b[0;34m\u001b[0m\u001b[0m\n\u001b[0m\u001b[1;32m    209\u001b[0m         \u001b[0;32mif\u001b[0m \u001b[0mcallback\u001b[0m\u001b[0;34m:\u001b[0m\u001b[0;34m\u001b[0m\u001b[0;34m\u001b[0m\u001b[0m\n\u001b[1;32m    210\u001b[0m             \u001b[0mcallback\u001b[0m\u001b[0;34m(\u001b[0m\u001b[0mresult\u001b[0m\u001b[0;34m)\u001b[0m\u001b[0;34m\u001b[0m\u001b[0;34m\u001b[0m\u001b[0m\n",
            "\u001b[0;32m/usr/local/lib/python3.7/dist-packages/joblib/_parallel_backends.py\u001b[0m in \u001b[0;36m__init__\u001b[0;34m(self, batch)\u001b[0m\n\u001b[1;32m    570\u001b[0m         \u001b[0;31m# Don't delay the application, to avoid keeping the input\u001b[0m\u001b[0;34m\u001b[0m\u001b[0;34m\u001b[0m\u001b[0;34m\u001b[0m\u001b[0m\n\u001b[1;32m    571\u001b[0m         \u001b[0;31m# arguments in memory\u001b[0m\u001b[0;34m\u001b[0m\u001b[0;34m\u001b[0m\u001b[0;34m\u001b[0m\u001b[0m\n\u001b[0;32m--> 572\u001b[0;31m         \u001b[0mself\u001b[0m\u001b[0;34m.\u001b[0m\u001b[0mresults\u001b[0m \u001b[0;34m=\u001b[0m \u001b[0mbatch\u001b[0m\u001b[0;34m(\u001b[0m\u001b[0;34m)\u001b[0m\u001b[0;34m\u001b[0m\u001b[0;34m\u001b[0m\u001b[0m\n\u001b[0m\u001b[1;32m    573\u001b[0m \u001b[0;34m\u001b[0m\u001b[0m\n\u001b[1;32m    574\u001b[0m     \u001b[0;32mdef\u001b[0m \u001b[0mget\u001b[0m\u001b[0;34m(\u001b[0m\u001b[0mself\u001b[0m\u001b[0;34m)\u001b[0m\u001b[0;34m:\u001b[0m\u001b[0;34m\u001b[0m\u001b[0;34m\u001b[0m\u001b[0m\n",
            "\u001b[0;32m/usr/local/lib/python3.7/dist-packages/joblib/parallel.py\u001b[0m in \u001b[0;36m__call__\u001b[0;34m(self)\u001b[0m\n\u001b[1;32m    261\u001b[0m         \u001b[0;32mwith\u001b[0m \u001b[0mparallel_backend\u001b[0m\u001b[0;34m(\u001b[0m\u001b[0mself\u001b[0m\u001b[0;34m.\u001b[0m\u001b[0m_backend\u001b[0m\u001b[0;34m,\u001b[0m \u001b[0mn_jobs\u001b[0m\u001b[0;34m=\u001b[0m\u001b[0mself\u001b[0m\u001b[0;34m.\u001b[0m\u001b[0m_n_jobs\u001b[0m\u001b[0;34m)\u001b[0m\u001b[0;34m:\u001b[0m\u001b[0;34m\u001b[0m\u001b[0;34m\u001b[0m\u001b[0m\n\u001b[1;32m    262\u001b[0m             return [func(*args, **kwargs)\n\u001b[0;32m--> 263\u001b[0;31m                     for func, args, kwargs in self.items]\n\u001b[0m\u001b[1;32m    264\u001b[0m \u001b[0;34m\u001b[0m\u001b[0m\n\u001b[1;32m    265\u001b[0m     \u001b[0;32mdef\u001b[0m \u001b[0m__reduce__\u001b[0m\u001b[0;34m(\u001b[0m\u001b[0mself\u001b[0m\u001b[0;34m)\u001b[0m\u001b[0;34m:\u001b[0m\u001b[0;34m\u001b[0m\u001b[0;34m\u001b[0m\u001b[0m\n",
            "\u001b[0;32m/usr/local/lib/python3.7/dist-packages/joblib/parallel.py\u001b[0m in \u001b[0;36m<listcomp>\u001b[0;34m(.0)\u001b[0m\n\u001b[1;32m    261\u001b[0m         \u001b[0;32mwith\u001b[0m \u001b[0mparallel_backend\u001b[0m\u001b[0;34m(\u001b[0m\u001b[0mself\u001b[0m\u001b[0;34m.\u001b[0m\u001b[0m_backend\u001b[0m\u001b[0;34m,\u001b[0m \u001b[0mn_jobs\u001b[0m\u001b[0;34m=\u001b[0m\u001b[0mself\u001b[0m\u001b[0;34m.\u001b[0m\u001b[0m_n_jobs\u001b[0m\u001b[0;34m)\u001b[0m\u001b[0;34m:\u001b[0m\u001b[0;34m\u001b[0m\u001b[0;34m\u001b[0m\u001b[0m\n\u001b[1;32m    262\u001b[0m             return [func(*args, **kwargs)\n\u001b[0;32m--> 263\u001b[0;31m                     for func, args, kwargs in self.items]\n\u001b[0m\u001b[1;32m    264\u001b[0m \u001b[0;34m\u001b[0m\u001b[0m\n\u001b[1;32m    265\u001b[0m     \u001b[0;32mdef\u001b[0m \u001b[0m__reduce__\u001b[0m\u001b[0;34m(\u001b[0m\u001b[0mself\u001b[0m\u001b[0;34m)\u001b[0m\u001b[0;34m:\u001b[0m\u001b[0;34m\u001b[0m\u001b[0;34m\u001b[0m\u001b[0m\n",
            "\u001b[0;32m/usr/local/lib/python3.7/dist-packages/sklearn/utils/fixes.py\u001b[0m in \u001b[0;36m__call__\u001b[0;34m(self, *args, **kwargs)\u001b[0m\n\u001b[1;32m    209\u001b[0m     \u001b[0;32mdef\u001b[0m \u001b[0m__call__\u001b[0m\u001b[0;34m(\u001b[0m\u001b[0mself\u001b[0m\u001b[0;34m,\u001b[0m \u001b[0;34m*\u001b[0m\u001b[0margs\u001b[0m\u001b[0;34m,\u001b[0m \u001b[0;34m**\u001b[0m\u001b[0mkwargs\u001b[0m\u001b[0;34m)\u001b[0m\u001b[0;34m:\u001b[0m\u001b[0;34m\u001b[0m\u001b[0;34m\u001b[0m\u001b[0m\n\u001b[1;32m    210\u001b[0m         \u001b[0;32mwith\u001b[0m \u001b[0mconfig_context\u001b[0m\u001b[0;34m(\u001b[0m\u001b[0;34m**\u001b[0m\u001b[0mself\u001b[0m\u001b[0;34m.\u001b[0m\u001b[0mconfig\u001b[0m\u001b[0;34m)\u001b[0m\u001b[0;34m:\u001b[0m\u001b[0;34m\u001b[0m\u001b[0;34m\u001b[0m\u001b[0m\n\u001b[0;32m--> 211\u001b[0;31m             \u001b[0;32mreturn\u001b[0m \u001b[0mself\u001b[0m\u001b[0;34m.\u001b[0m\u001b[0mfunction\u001b[0m\u001b[0;34m(\u001b[0m\u001b[0;34m*\u001b[0m\u001b[0margs\u001b[0m\u001b[0;34m,\u001b[0m \u001b[0;34m**\u001b[0m\u001b[0mkwargs\u001b[0m\u001b[0;34m)\u001b[0m\u001b[0;34m\u001b[0m\u001b[0;34m\u001b[0m\u001b[0m\n\u001b[0m\u001b[1;32m    212\u001b[0m \u001b[0;34m\u001b[0m\u001b[0m\n\u001b[1;32m    213\u001b[0m \u001b[0;34m\u001b[0m\u001b[0m\n",
            "\u001b[0;32m/usr/local/lib/python3.7/dist-packages/sklearn/model_selection/_validation.py\u001b[0m in \u001b[0;36m_fit_and_score\u001b[0;34m(estimator, X, y, scorer, train, test, verbose, parameters, fit_params, return_train_score, return_parameters, return_n_test_samples, return_times, return_estimator, split_progress, candidate_progress, error_score)\u001b[0m\n\u001b[1;32m    679\u001b[0m             \u001b[0mestimator\u001b[0m\u001b[0;34m.\u001b[0m\u001b[0mfit\u001b[0m\u001b[0;34m(\u001b[0m\u001b[0mX_train\u001b[0m\u001b[0;34m,\u001b[0m \u001b[0;34m**\u001b[0m\u001b[0mfit_params\u001b[0m\u001b[0;34m)\u001b[0m\u001b[0;34m\u001b[0m\u001b[0;34m\u001b[0m\u001b[0m\n\u001b[1;32m    680\u001b[0m         \u001b[0;32melse\u001b[0m\u001b[0;34m:\u001b[0m\u001b[0;34m\u001b[0m\u001b[0;34m\u001b[0m\u001b[0m\n\u001b[0;32m--> 681\u001b[0;31m             \u001b[0mestimator\u001b[0m\u001b[0;34m.\u001b[0m\u001b[0mfit\u001b[0m\u001b[0;34m(\u001b[0m\u001b[0mX_train\u001b[0m\u001b[0;34m,\u001b[0m \u001b[0my_train\u001b[0m\u001b[0;34m,\u001b[0m \u001b[0;34m**\u001b[0m\u001b[0mfit_params\u001b[0m\u001b[0;34m)\u001b[0m\u001b[0;34m\u001b[0m\u001b[0;34m\u001b[0m\u001b[0m\n\u001b[0m\u001b[1;32m    682\u001b[0m \u001b[0;34m\u001b[0m\u001b[0m\n\u001b[1;32m    683\u001b[0m     \u001b[0;32mexcept\u001b[0m \u001b[0mException\u001b[0m\u001b[0;34m:\u001b[0m\u001b[0;34m\u001b[0m\u001b[0;34m\u001b[0m\u001b[0m\n",
            "\u001b[0;32m/usr/local/lib/python3.7/dist-packages/sklearn/ensemble/_forest.py\u001b[0m in \u001b[0;36mfit\u001b[0;34m(self, X, y, sample_weight)\u001b[0m\n\u001b[1;32m    457\u001b[0m                     \u001b[0mn_samples_bootstrap\u001b[0m\u001b[0;34m=\u001b[0m\u001b[0mn_samples_bootstrap\u001b[0m\u001b[0;34m,\u001b[0m\u001b[0;34m\u001b[0m\u001b[0;34m\u001b[0m\u001b[0m\n\u001b[1;32m    458\u001b[0m                 )\n\u001b[0;32m--> 459\u001b[0;31m                 \u001b[0;32mfor\u001b[0m \u001b[0mi\u001b[0m\u001b[0;34m,\u001b[0m \u001b[0mt\u001b[0m \u001b[0;32min\u001b[0m \u001b[0menumerate\u001b[0m\u001b[0;34m(\u001b[0m\u001b[0mtrees\u001b[0m\u001b[0;34m)\u001b[0m\u001b[0;34m\u001b[0m\u001b[0;34m\u001b[0m\u001b[0m\n\u001b[0m\u001b[1;32m    460\u001b[0m             )\n\u001b[1;32m    461\u001b[0m \u001b[0;34m\u001b[0m\u001b[0m\n",
            "\u001b[0;32m/usr/local/lib/python3.7/dist-packages/joblib/parallel.py\u001b[0m in \u001b[0;36m__call__\u001b[0;34m(self, iterable)\u001b[0m\n\u001b[1;32m   1044\u001b[0m                 \u001b[0mself\u001b[0m\u001b[0;34m.\u001b[0m\u001b[0m_iterating\u001b[0m \u001b[0;34m=\u001b[0m \u001b[0mself\u001b[0m\u001b[0;34m.\u001b[0m\u001b[0m_original_iterator\u001b[0m \u001b[0;32mis\u001b[0m \u001b[0;32mnot\u001b[0m \u001b[0;32mNone\u001b[0m\u001b[0;34m\u001b[0m\u001b[0;34m\u001b[0m\u001b[0m\n\u001b[1;32m   1045\u001b[0m \u001b[0;34m\u001b[0m\u001b[0m\n\u001b[0;32m-> 1046\u001b[0;31m             \u001b[0;32mwhile\u001b[0m \u001b[0mself\u001b[0m\u001b[0;34m.\u001b[0m\u001b[0mdispatch_one_batch\u001b[0m\u001b[0;34m(\u001b[0m\u001b[0miterator\u001b[0m\u001b[0;34m)\u001b[0m\u001b[0;34m:\u001b[0m\u001b[0;34m\u001b[0m\u001b[0;34m\u001b[0m\u001b[0m\n\u001b[0m\u001b[1;32m   1047\u001b[0m                 \u001b[0;32mpass\u001b[0m\u001b[0;34m\u001b[0m\u001b[0;34m\u001b[0m\u001b[0m\n\u001b[1;32m   1048\u001b[0m \u001b[0;34m\u001b[0m\u001b[0m\n",
            "\u001b[0;32m/usr/local/lib/python3.7/dist-packages/joblib/parallel.py\u001b[0m in \u001b[0;36mdispatch_one_batch\u001b[0;34m(self, iterator)\u001b[0m\n\u001b[1;32m    859\u001b[0m                 \u001b[0;32mreturn\u001b[0m \u001b[0;32mFalse\u001b[0m\u001b[0;34m\u001b[0m\u001b[0;34m\u001b[0m\u001b[0m\n\u001b[1;32m    860\u001b[0m             \u001b[0;32melse\u001b[0m\u001b[0;34m:\u001b[0m\u001b[0;34m\u001b[0m\u001b[0;34m\u001b[0m\u001b[0m\n\u001b[0;32m--> 861\u001b[0;31m                 \u001b[0mself\u001b[0m\u001b[0;34m.\u001b[0m\u001b[0m_dispatch\u001b[0m\u001b[0;34m(\u001b[0m\u001b[0mtasks\u001b[0m\u001b[0;34m)\u001b[0m\u001b[0;34m\u001b[0m\u001b[0;34m\u001b[0m\u001b[0m\n\u001b[0m\u001b[1;32m    862\u001b[0m                 \u001b[0;32mreturn\u001b[0m \u001b[0;32mTrue\u001b[0m\u001b[0;34m\u001b[0m\u001b[0;34m\u001b[0m\u001b[0m\n\u001b[1;32m    863\u001b[0m \u001b[0;34m\u001b[0m\u001b[0m\n",
            "\u001b[0;32m/usr/local/lib/python3.7/dist-packages/joblib/parallel.py\u001b[0m in \u001b[0;36m_dispatch\u001b[0;34m(self, batch)\u001b[0m\n\u001b[1;32m    777\u001b[0m         \u001b[0;32mwith\u001b[0m \u001b[0mself\u001b[0m\u001b[0;34m.\u001b[0m\u001b[0m_lock\u001b[0m\u001b[0;34m:\u001b[0m\u001b[0;34m\u001b[0m\u001b[0;34m\u001b[0m\u001b[0m\n\u001b[1;32m    778\u001b[0m             \u001b[0mjob_idx\u001b[0m \u001b[0;34m=\u001b[0m \u001b[0mlen\u001b[0m\u001b[0;34m(\u001b[0m\u001b[0mself\u001b[0m\u001b[0;34m.\u001b[0m\u001b[0m_jobs\u001b[0m\u001b[0;34m)\u001b[0m\u001b[0;34m\u001b[0m\u001b[0;34m\u001b[0m\u001b[0m\n\u001b[0;32m--> 779\u001b[0;31m             \u001b[0mjob\u001b[0m \u001b[0;34m=\u001b[0m \u001b[0mself\u001b[0m\u001b[0;34m.\u001b[0m\u001b[0m_backend\u001b[0m\u001b[0;34m.\u001b[0m\u001b[0mapply_async\u001b[0m\u001b[0;34m(\u001b[0m\u001b[0mbatch\u001b[0m\u001b[0;34m,\u001b[0m \u001b[0mcallback\u001b[0m\u001b[0;34m=\u001b[0m\u001b[0mcb\u001b[0m\u001b[0;34m)\u001b[0m\u001b[0;34m\u001b[0m\u001b[0;34m\u001b[0m\u001b[0m\n\u001b[0m\u001b[1;32m    780\u001b[0m             \u001b[0;31m# A job can complete so quickly than its callback is\u001b[0m\u001b[0;34m\u001b[0m\u001b[0;34m\u001b[0m\u001b[0;34m\u001b[0m\u001b[0m\n\u001b[1;32m    781\u001b[0m             \u001b[0;31m# called before we get here, causing self._jobs to\u001b[0m\u001b[0;34m\u001b[0m\u001b[0;34m\u001b[0m\u001b[0;34m\u001b[0m\u001b[0m\n",
            "\u001b[0;32m/usr/local/lib/python3.7/dist-packages/joblib/_parallel_backends.py\u001b[0m in \u001b[0;36mapply_async\u001b[0;34m(self, func, callback)\u001b[0m\n\u001b[1;32m    206\u001b[0m     \u001b[0;32mdef\u001b[0m \u001b[0mapply_async\u001b[0m\u001b[0;34m(\u001b[0m\u001b[0mself\u001b[0m\u001b[0;34m,\u001b[0m \u001b[0mfunc\u001b[0m\u001b[0;34m,\u001b[0m \u001b[0mcallback\u001b[0m\u001b[0;34m=\u001b[0m\u001b[0;32mNone\u001b[0m\u001b[0;34m)\u001b[0m\u001b[0;34m:\u001b[0m\u001b[0;34m\u001b[0m\u001b[0;34m\u001b[0m\u001b[0m\n\u001b[1;32m    207\u001b[0m         \u001b[0;34m\"\"\"Schedule a func to be run\"\"\"\u001b[0m\u001b[0;34m\u001b[0m\u001b[0;34m\u001b[0m\u001b[0m\n\u001b[0;32m--> 208\u001b[0;31m         \u001b[0mresult\u001b[0m \u001b[0;34m=\u001b[0m \u001b[0mImmediateResult\u001b[0m\u001b[0;34m(\u001b[0m\u001b[0mfunc\u001b[0m\u001b[0;34m)\u001b[0m\u001b[0;34m\u001b[0m\u001b[0;34m\u001b[0m\u001b[0m\n\u001b[0m\u001b[1;32m    209\u001b[0m         \u001b[0;32mif\u001b[0m \u001b[0mcallback\u001b[0m\u001b[0;34m:\u001b[0m\u001b[0;34m\u001b[0m\u001b[0;34m\u001b[0m\u001b[0m\n\u001b[1;32m    210\u001b[0m             \u001b[0mcallback\u001b[0m\u001b[0;34m(\u001b[0m\u001b[0mresult\u001b[0m\u001b[0;34m)\u001b[0m\u001b[0;34m\u001b[0m\u001b[0;34m\u001b[0m\u001b[0m\n",
            "\u001b[0;32m/usr/local/lib/python3.7/dist-packages/joblib/_parallel_backends.py\u001b[0m in \u001b[0;36m__init__\u001b[0;34m(self, batch)\u001b[0m\n\u001b[1;32m    570\u001b[0m         \u001b[0;31m# Don't delay the application, to avoid keeping the input\u001b[0m\u001b[0;34m\u001b[0m\u001b[0;34m\u001b[0m\u001b[0;34m\u001b[0m\u001b[0m\n\u001b[1;32m    571\u001b[0m         \u001b[0;31m# arguments in memory\u001b[0m\u001b[0;34m\u001b[0m\u001b[0;34m\u001b[0m\u001b[0;34m\u001b[0m\u001b[0m\n\u001b[0;32m--> 572\u001b[0;31m         \u001b[0mself\u001b[0m\u001b[0;34m.\u001b[0m\u001b[0mresults\u001b[0m \u001b[0;34m=\u001b[0m \u001b[0mbatch\u001b[0m\u001b[0;34m(\u001b[0m\u001b[0;34m)\u001b[0m\u001b[0;34m\u001b[0m\u001b[0;34m\u001b[0m\u001b[0m\n\u001b[0m\u001b[1;32m    573\u001b[0m \u001b[0;34m\u001b[0m\u001b[0m\n\u001b[1;32m    574\u001b[0m     \u001b[0;32mdef\u001b[0m \u001b[0mget\u001b[0m\u001b[0;34m(\u001b[0m\u001b[0mself\u001b[0m\u001b[0;34m)\u001b[0m\u001b[0;34m:\u001b[0m\u001b[0;34m\u001b[0m\u001b[0;34m\u001b[0m\u001b[0m\n",
            "\u001b[0;32m/usr/local/lib/python3.7/dist-packages/joblib/parallel.py\u001b[0m in \u001b[0;36m__call__\u001b[0;34m(self)\u001b[0m\n\u001b[1;32m    261\u001b[0m         \u001b[0;32mwith\u001b[0m \u001b[0mparallel_backend\u001b[0m\u001b[0;34m(\u001b[0m\u001b[0mself\u001b[0m\u001b[0;34m.\u001b[0m\u001b[0m_backend\u001b[0m\u001b[0;34m,\u001b[0m \u001b[0mn_jobs\u001b[0m\u001b[0;34m=\u001b[0m\u001b[0mself\u001b[0m\u001b[0;34m.\u001b[0m\u001b[0m_n_jobs\u001b[0m\u001b[0;34m)\u001b[0m\u001b[0;34m:\u001b[0m\u001b[0;34m\u001b[0m\u001b[0;34m\u001b[0m\u001b[0m\n\u001b[1;32m    262\u001b[0m             return [func(*args, **kwargs)\n\u001b[0;32m--> 263\u001b[0;31m                     for func, args, kwargs in self.items]\n\u001b[0m\u001b[1;32m    264\u001b[0m \u001b[0;34m\u001b[0m\u001b[0m\n\u001b[1;32m    265\u001b[0m     \u001b[0;32mdef\u001b[0m \u001b[0m__reduce__\u001b[0m\u001b[0;34m(\u001b[0m\u001b[0mself\u001b[0m\u001b[0;34m)\u001b[0m\u001b[0;34m:\u001b[0m\u001b[0;34m\u001b[0m\u001b[0;34m\u001b[0m\u001b[0m\n",
            "\u001b[0;32m/usr/local/lib/python3.7/dist-packages/joblib/parallel.py\u001b[0m in \u001b[0;36m<listcomp>\u001b[0;34m(.0)\u001b[0m\n\u001b[1;32m    261\u001b[0m         \u001b[0;32mwith\u001b[0m \u001b[0mparallel_backend\u001b[0m\u001b[0;34m(\u001b[0m\u001b[0mself\u001b[0m\u001b[0;34m.\u001b[0m\u001b[0m_backend\u001b[0m\u001b[0;34m,\u001b[0m \u001b[0mn_jobs\u001b[0m\u001b[0;34m=\u001b[0m\u001b[0mself\u001b[0m\u001b[0;34m.\u001b[0m\u001b[0m_n_jobs\u001b[0m\u001b[0;34m)\u001b[0m\u001b[0;34m:\u001b[0m\u001b[0;34m\u001b[0m\u001b[0;34m\u001b[0m\u001b[0m\n\u001b[1;32m    262\u001b[0m             return [func(*args, **kwargs)\n\u001b[0;32m--> 263\u001b[0;31m                     for func, args, kwargs in self.items]\n\u001b[0m\u001b[1;32m    264\u001b[0m \u001b[0;34m\u001b[0m\u001b[0m\n\u001b[1;32m    265\u001b[0m     \u001b[0;32mdef\u001b[0m \u001b[0m__reduce__\u001b[0m\u001b[0;34m(\u001b[0m\u001b[0mself\u001b[0m\u001b[0;34m)\u001b[0m\u001b[0;34m:\u001b[0m\u001b[0;34m\u001b[0m\u001b[0;34m\u001b[0m\u001b[0m\n",
            "\u001b[0;32m/usr/local/lib/python3.7/dist-packages/sklearn/utils/fixes.py\u001b[0m in \u001b[0;36m__call__\u001b[0;34m(self, *args, **kwargs)\u001b[0m\n\u001b[1;32m    209\u001b[0m     \u001b[0;32mdef\u001b[0m \u001b[0m__call__\u001b[0m\u001b[0;34m(\u001b[0m\u001b[0mself\u001b[0m\u001b[0;34m,\u001b[0m \u001b[0;34m*\u001b[0m\u001b[0margs\u001b[0m\u001b[0;34m,\u001b[0m \u001b[0;34m**\u001b[0m\u001b[0mkwargs\u001b[0m\u001b[0;34m)\u001b[0m\u001b[0;34m:\u001b[0m\u001b[0;34m\u001b[0m\u001b[0;34m\u001b[0m\u001b[0m\n\u001b[1;32m    210\u001b[0m         \u001b[0;32mwith\u001b[0m \u001b[0mconfig_context\u001b[0m\u001b[0;34m(\u001b[0m\u001b[0;34m**\u001b[0m\u001b[0mself\u001b[0m\u001b[0;34m.\u001b[0m\u001b[0mconfig\u001b[0m\u001b[0;34m)\u001b[0m\u001b[0;34m:\u001b[0m\u001b[0;34m\u001b[0m\u001b[0;34m\u001b[0m\u001b[0m\n\u001b[0;32m--> 211\u001b[0;31m             \u001b[0;32mreturn\u001b[0m \u001b[0mself\u001b[0m\u001b[0;34m.\u001b[0m\u001b[0mfunction\u001b[0m\u001b[0;34m(\u001b[0m\u001b[0;34m*\u001b[0m\u001b[0margs\u001b[0m\u001b[0;34m,\u001b[0m \u001b[0;34m**\u001b[0m\u001b[0mkwargs\u001b[0m\u001b[0;34m)\u001b[0m\u001b[0;34m\u001b[0m\u001b[0;34m\u001b[0m\u001b[0m\n\u001b[0m\u001b[1;32m    212\u001b[0m \u001b[0;34m\u001b[0m\u001b[0m\n\u001b[1;32m    213\u001b[0m \u001b[0;34m\u001b[0m\u001b[0m\n",
            "\u001b[0;32m/usr/local/lib/python3.7/dist-packages/sklearn/ensemble/_forest.py\u001b[0m in \u001b[0;36m_parallel_build_trees\u001b[0;34m(tree, forest, X, y, sample_weight, tree_idx, n_trees, verbose, class_weight, n_samples_bootstrap)\u001b[0m\n\u001b[1;32m    183\u001b[0m             \u001b[0mcurr_sample_weight\u001b[0m \u001b[0;34m*=\u001b[0m \u001b[0mcompute_sample_weight\u001b[0m\u001b[0;34m(\u001b[0m\u001b[0;34m\"balanced\"\u001b[0m\u001b[0;34m,\u001b[0m \u001b[0my\u001b[0m\u001b[0;34m,\u001b[0m \u001b[0mindices\u001b[0m\u001b[0;34m=\u001b[0m\u001b[0mindices\u001b[0m\u001b[0;34m)\u001b[0m\u001b[0;34m\u001b[0m\u001b[0;34m\u001b[0m\u001b[0m\n\u001b[1;32m    184\u001b[0m \u001b[0;34m\u001b[0m\u001b[0m\n\u001b[0;32m--> 185\u001b[0;31m         \u001b[0mtree\u001b[0m\u001b[0;34m.\u001b[0m\u001b[0mfit\u001b[0m\u001b[0;34m(\u001b[0m\u001b[0mX\u001b[0m\u001b[0;34m,\u001b[0m \u001b[0my\u001b[0m\u001b[0;34m,\u001b[0m \u001b[0msample_weight\u001b[0m\u001b[0;34m=\u001b[0m\u001b[0mcurr_sample_weight\u001b[0m\u001b[0;34m,\u001b[0m \u001b[0mcheck_input\u001b[0m\u001b[0;34m=\u001b[0m\u001b[0;32mFalse\u001b[0m\u001b[0;34m)\u001b[0m\u001b[0;34m\u001b[0m\u001b[0;34m\u001b[0m\u001b[0m\n\u001b[0m\u001b[1;32m    186\u001b[0m     \u001b[0;32melse\u001b[0m\u001b[0;34m:\u001b[0m\u001b[0;34m\u001b[0m\u001b[0;34m\u001b[0m\u001b[0m\n\u001b[1;32m    187\u001b[0m         \u001b[0mtree\u001b[0m\u001b[0;34m.\u001b[0m\u001b[0mfit\u001b[0m\u001b[0;34m(\u001b[0m\u001b[0mX\u001b[0m\u001b[0;34m,\u001b[0m \u001b[0my\u001b[0m\u001b[0;34m,\u001b[0m \u001b[0msample_weight\u001b[0m\u001b[0;34m=\u001b[0m\u001b[0msample_weight\u001b[0m\u001b[0;34m,\u001b[0m \u001b[0mcheck_input\u001b[0m\u001b[0;34m=\u001b[0m\u001b[0;32mFalse\u001b[0m\u001b[0;34m)\u001b[0m\u001b[0;34m\u001b[0m\u001b[0;34m\u001b[0m\u001b[0m\n",
            "\u001b[0;32m/usr/local/lib/python3.7/dist-packages/sklearn/tree/_classes.py\u001b[0m in \u001b[0;36mfit\u001b[0;34m(self, X, y, sample_weight, check_input, X_idx_sorted)\u001b[0m\n\u001b[1;32m   1318\u001b[0m             \u001b[0msample_weight\u001b[0m\u001b[0;34m=\u001b[0m\u001b[0msample_weight\u001b[0m\u001b[0;34m,\u001b[0m\u001b[0;34m\u001b[0m\u001b[0;34m\u001b[0m\u001b[0m\n\u001b[1;32m   1319\u001b[0m             \u001b[0mcheck_input\u001b[0m\u001b[0;34m=\u001b[0m\u001b[0mcheck_input\u001b[0m\u001b[0;34m,\u001b[0m\u001b[0;34m\u001b[0m\u001b[0;34m\u001b[0m\u001b[0m\n\u001b[0;32m-> 1320\u001b[0;31m             \u001b[0mX_idx_sorted\u001b[0m\u001b[0;34m=\u001b[0m\u001b[0mX_idx_sorted\u001b[0m\u001b[0;34m,\u001b[0m\u001b[0;34m\u001b[0m\u001b[0;34m\u001b[0m\u001b[0m\n\u001b[0m\u001b[1;32m   1321\u001b[0m         )\n\u001b[1;32m   1322\u001b[0m         \u001b[0;32mreturn\u001b[0m \u001b[0mself\u001b[0m\u001b[0;34m\u001b[0m\u001b[0;34m\u001b[0m\u001b[0m\n",
            "\u001b[0;32m/usr/local/lib/python3.7/dist-packages/sklearn/tree/_classes.py\u001b[0m in \u001b[0;36mfit\u001b[0;34m(self, X, y, sample_weight, check_input, X_idx_sorted)\u001b[0m\n\u001b[1;32m    418\u001b[0m             )\n\u001b[1;32m    419\u001b[0m \u001b[0;34m\u001b[0m\u001b[0m\n\u001b[0;32m--> 420\u001b[0;31m         \u001b[0mbuilder\u001b[0m\u001b[0;34m.\u001b[0m\u001b[0mbuild\u001b[0m\u001b[0;34m(\u001b[0m\u001b[0mself\u001b[0m\u001b[0;34m.\u001b[0m\u001b[0mtree_\u001b[0m\u001b[0;34m,\u001b[0m \u001b[0mX\u001b[0m\u001b[0;34m,\u001b[0m \u001b[0my\u001b[0m\u001b[0;34m,\u001b[0m \u001b[0msample_weight\u001b[0m\u001b[0;34m)\u001b[0m\u001b[0;34m\u001b[0m\u001b[0;34m\u001b[0m\u001b[0m\n\u001b[0m\u001b[1;32m    421\u001b[0m \u001b[0;34m\u001b[0m\u001b[0m\n\u001b[1;32m    422\u001b[0m         \u001b[0;32mif\u001b[0m \u001b[0mself\u001b[0m\u001b[0;34m.\u001b[0m\u001b[0mn_outputs_\u001b[0m \u001b[0;34m==\u001b[0m \u001b[0;36m1\u001b[0m \u001b[0;32mand\u001b[0m \u001b[0mis_classifier\u001b[0m\u001b[0;34m(\u001b[0m\u001b[0mself\u001b[0m\u001b[0;34m)\u001b[0m\u001b[0;34m:\u001b[0m\u001b[0;34m\u001b[0m\u001b[0;34m\u001b[0m\u001b[0m\n",
            "\u001b[0;31mKeyboardInterrupt\u001b[0m: "
          ]
        }
      ],
      "source": [
        "rf_reg = RandomForestRegressor()\n",
        "\n",
        "parameters = {'n_estimators': [10, 25], 'max_features': [5, 10, 15], \n",
        " 'max_depth': [10, 50, 100], 'bootstrap': [True, False]}\n",
        "\n",
        "\n",
        "grid_search = GridSearchCV(estimator = rf_reg,\n",
        "                          param_grid = parameters, \n",
        "                          cv = 10)\n",
        "\n",
        "grid_search.fit(x_train, y_train)\n",
        "grid_search.best_params_"
      ]
    },
    {
      "cell_type": "markdown",
      "metadata": {
        "id": "dWff0C5K-Ig0"
      },
      "source": [
        "#### Perform the model"
      ]
    },
    {
      "cell_type": "code",
      "execution_count": null,
      "metadata": {
        "colab": {
          "base_uri": "https://localhost:8080/"
        },
        "id": "XxOvI2OO-Ig0",
        "outputId": "e372c464-f3b3-4284-8f2f-61bf5439345d"
      },
      "outputs": [
        {
          "output_type": "stream",
          "name": "stdout",
          "text": [
            "R2 = 0.9328410787210777\n",
            "Mean squared error = 27399.816176547905\n",
            "Root mean squared error = 165.52889831249377\n"
          ]
        }
      ],
      "source": [
        "rf_reg = RandomForestRegressor(bootstrap=False, max_depth=100, max_features=15, n_estimators=25).fit(x_train, y_train)\n",
        "\n",
        "# Prediction\n",
        "y_prediction_rf_reg = rf_reg.predict(x_test)\n",
        "\n",
        "# Score\n",
        "r2_rf_reg = r2_score(y_test, y_prediction_rf_reg)\n",
        "MSE_rf_reg = mean_squared_error(y_test, y_prediction_rf_reg)\n",
        "print(\"R2 =\", r2_rf_reg)\n",
        "print(\"Mean squared error =\", MSE_rf_reg)\n",
        "print(\"Root mean squared error =\", np.sqrt(mean_squared_error(y_test, y_prediction_rf_reg)))"
      ]
    },
    {
      "cell_type": "markdown",
      "metadata": {
        "id": "0upDBwr5-Ig2"
      },
      "source": [
        "### Gradient Boosting Regressor"
      ]
    },
    {
      "cell_type": "markdown",
      "metadata": {
        "id": "0AWE09GG-Ig2"
      },
      "source": [
        "#### Cross-Validation"
      ]
    },
    {
      "cell_type": "code",
      "execution_count": null,
      "metadata": {
        "colab": {
          "base_uri": "https://localhost:8080/"
        },
        "id": "xl5Bu2m0-Ig2",
        "outputId": "ffbf07a4-c9cd-4696-d916-36c18aac4ed0"
      },
      "outputs": [
        {
          "output_type": "execute_result",
          "data": {
            "text/plain": [
              "{'learning_rate': 0.1, 'max_depth': 4, 'n_estimators': 500, 'subsample': 0.75}"
            ]
          },
          "metadata": {},
          "execution_count": 19
        }
      ],
      "source": [
        "grad_boosting_reg = GradientBoostingRegressor()\n",
        "parameters = {'n_estimators':[10,100,500],\n",
        "              'learning_rate':[.001,0.01,.1],\n",
        "              'max_depth':[1,2,4],\n",
        "              'subsample':[.5,.75,1]}\n",
        "\n",
        "grid_search = GridSearchCV(estimator=grad_boosting_reg,\n",
        "                           param_grid=parameters,\n",
        "                           cv=5)\n",
        "\n",
        "grid_search.fit(x_train, y_train)\n",
        "grid_search.best_params_"
      ]
    },
    {
      "cell_type": "markdown",
      "metadata": {
        "id": "VUZ3nRKl-Ig2"
      },
      "source": [
        "#### Perform the model"
      ]
    },
    {
      "cell_type": "code",
      "execution_count": null,
      "metadata": {
        "colab": {
          "base_uri": "https://localhost:8080/"
        },
        "id": "PMOOtThb-Ig3",
        "outputId": "c4248f54-1fd3-418b-cfa7-29e296414528"
      },
      "outputs": [
        {
          "output_type": "stream",
          "name": "stdout",
          "text": [
            "R2 = 0.93864852815214\n",
            "Mean squared error = 25030.465331783176\n",
            "Root mean squared error = 158.2101935141449\n"
          ]
        }
      ],
      "source": [
        "grad_boosting_reg = GradientBoostingRegressor(learning_rate=0.1, max_depth=4, n_estimators=500, subsample=0.75).fit(x_train, y_train)\n",
        "\n",
        "# Prediction\n",
        "y_prediction_grad_boosting_reg = grad_boosting_reg.predict(x_test)\n",
        "\n",
        "# Score\n",
        "r2_grad_boosting_reg = r2_score(y_test, y_prediction_grad_boosting_reg)\n",
        "MSE_grad_boosting_reg = mean_squared_error(y_test, y_prediction_grad_boosting_reg)\n",
        "print(\"R2 =\", r2_grad_boosting_reg)\n",
        "print(\"Mean squared error =\", MSE_grad_boosting_reg)\n",
        "print(\"Root mean squared error =\", np.sqrt(mean_squared_error(y_test, y_prediction_grad_boosting_reg)))"
      ]
    },
    {
      "cell_type": "code",
      "execution_count": null,
      "metadata": {
        "id": "JCbmcYru-Ig3"
      },
      "outputs": [],
      "source": [
        ""
      ]
    },
    {
      "cell_type": "code",
      "execution_count": null,
      "metadata": {
        "id": "vrcGks2w-Ig3"
      },
      "outputs": [],
      "source": [
        ""
      ]
    },
    {
      "cell_type": "code",
      "execution_count": null,
      "metadata": {
        "id": "4HlcQfpP-Ig3"
      },
      "outputs": [],
      "source": [
        ""
      ]
    },
    {
      "cell_type": "code",
      "execution_count": null,
      "metadata": {
        "id": "nA_2yefw-Ig3"
      },
      "outputs": [],
      "source": [
        ""
      ]
    },
    {
      "cell_type": "code",
      "execution_count": null,
      "metadata": {
        "id": "0ackQlrd-Ig4"
      },
      "outputs": [],
      "source": [
        ""
      ]
    },
    {
      "cell_type": "markdown",
      "metadata": {
        "id": "L07RWI08-Ig4"
      },
      "source": [
        "### Neural Network Regression"
      ]
    },
    {
      "cell_type": "code",
      "execution_count": null,
      "metadata": {
        "id": "0vhuxHeN-Ig4",
        "outputId": "c8f8f1ed-bdfe-4cf8-d9c2-b0122909440a"
      },
      "outputs": [
        {
          "name": "stdout",
          "output_type": "stream",
          "text": [
            "R2 = 0.8863461250694694\n",
            "Mean squared error = 46369.04854256881\n",
            "Root mean squared error = 215.33473603338783\n"
          ]
        }
      ],
      "source": [
        "neural_network_reg = MLPRegressor(random_state=1, max_iter=5000).fit(x_train, y_train)\n",
        "\n",
        "# Prediction\n",
        "y_prediction_neural_network_reg = neural_network_reg.predict(x_test)\n",
        "\n",
        "# Score\n",
        "r2 = r2_score(y_test, y_prediction_neural_network_reg)\n",
        "print(\"R2 =\", r2)\n",
        "print(\"Mean squared error =\", mean_squared_error(y_test, y_prediction_neural_network_reg))\n",
        "print(\"Root mean squared error =\", np.sqrt(mean_squared_error(y_test, y_prediction_neural_network_reg)))"
      ]
    },
    {
      "cell_type": "code",
      "execution_count": null,
      "metadata": {
        "id": "Z90f6cGO-Ig5",
        "outputId": "e9b05182-3f7a-465a-b559-287692eba225"
      },
      "outputs": [
        {
          "name": "stdout",
          "output_type": "stream",
          "text": [
            "R2 = 0.9173278550751389\n",
            "Mean squared error = 33728.97495560359\n",
            "Root mean squared error = 183.65449887112374\n"
          ]
        }
      ],
      "source": [
        "# with hidden_layer_sizes=(64,64,64), activation=\"relu\"\n",
        "\n",
        "neural_network_reg = MLPRegressor(random_state=1, max_iter=5000, hidden_layer_sizes=(64,64,64), activation=\"relu\").fit(x_train, y_train)\n",
        "\n",
        "# Prediction\n",
        "y_prediction_neural_network_reg = neural_network_reg.predict(x_test)\n",
        "\n",
        "# Score\n",
        "r2 = r2_score(y_test, y_prediction_neural_network_reg)\n",
        "\n",
        "print(\"R2 =\", r2)\n",
        "print(\"Mean squared error =\", mean_squared_error(y_test, y_prediction_neural_network_reg))\n",
        "print(\"Root mean squared error =\", np.sqrt(mean_squared_error(y_test, y_prediction_neural_network_reg)))"
      ]
    },
    {
      "cell_type": "code",
      "source": [
        "# with hidden_layer_sizes=(64,64,64), activation=\"tanh\"\n",
        "\n",
        "neural_network_reg = MLPRegressor(random_state=1, max_iter=5000, hidden_layer_sizes=(64,64,64), activation=\"tanh\").fit(x_train, y_train)\n",
        "\n",
        "# Prediction\n",
        "y_prediction_neural_network_reg = neural_network_reg.predict(x_test)\n",
        "\n",
        "# Score\n",
        "r2 = r2_score(y_test, y_prediction_neural_network_reg)\n",
        "\n",
        "print(\"R2 =\", r2)\n",
        "print(\"Mean squared error =\", mean_squared_error(y_test, y_prediction_neural_network_reg))\n",
        "print(\"Root mean squared error =\", np.sqrt(mean_squared_error(y_test, y_prediction_neural_network_reg)))"
      ],
      "metadata": {
        "colab": {
          "base_uri": "https://localhost:8080/"
        },
        "id": "EnLWXZ7NLt1C",
        "outputId": "841bf9a6-e3c5-4aba-b13b-6ad6947cd498"
      },
      "execution_count": null,
      "outputs": [
        {
          "output_type": "stream",
          "name": "stdout",
          "text": [
            "R2 = 0.9103900794028674\n",
            "Mean squared error = 36559.48167718824\n",
            "Root mean squared error = 191.20533903944272\n"
          ]
        }
      ]
    },
    {
      "cell_type": "code",
      "source": [
        "# with hidden_layer_sizes=(64,64,64), activation=\"logistic\"\n",
        "\n",
        "neural_network_reg = MLPRegressor(random_state=1, max_iter=5000, hidden_layer_sizes=(64,64,64), activation=\"logistic\").fit(x_train, y_train)\n",
        "\n",
        "# Prediction\n",
        "y_prediction_neural_network_reg = neural_network_reg.predict(x_test)\n",
        "\n",
        "# Score\n",
        "r2 = r2_score(y_test, y_prediction_neural_network_reg)\n",
        "\n",
        "print(\"R2 =\", r2)\n",
        "print(\"Mean squared error =\", mean_squared_error(y_test, y_prediction_neural_network_reg))\n",
        "print(\"Root mean squared error =\", np.sqrt(mean_squared_error(y_test, y_prediction_neural_network_reg)))"
      ],
      "metadata": {
        "colab": {
          "base_uri": "https://localhost:8080/"
        },
        "id": "-k0tEbIbNFeh",
        "outputId": "88ee5a28-c691-4f22-e751-05a1067861fb"
      },
      "execution_count": null,
      "outputs": [
        {
          "output_type": "stream",
          "name": "stdout",
          "text": [
            "R2 = 0.9096740811388817\n",
            "Mean squared error = 36851.5980549135\n",
            "Root mean squared error = 191.96770055119558\n"
          ]
        }
      ]
    },
    {
      "cell_type": "code",
      "execution_count": null,
      "metadata": {
        "id": "Z1IX1GeW-Ig5"
      },
      "outputs": [],
      "source": [
        "à lancer -> prend loooooooongtemps"
      ]
    },
    {
      "cell_type": "code",
      "execution_count": null,
      "metadata": {
        "colab": {
          "base_uri": "https://localhost:8080/"
        },
        "id": "V9VZGuLm-Ig6",
        "outputId": "a015c3ae-d85b-494f-fefb-8db712c6b96c"
      },
      "outputs": [
        {
          "output_type": "stream",
          "name": "stderr",
          "text": [
            "/usr/local/lib/python3.7/dist-packages/sklearn/neural_network/_multilayer_perceptron.py:699: UserWarning: Training interrupted by user.\n",
            "  warnings.warn(\"Training interrupted by user.\")\n",
            "/usr/local/lib/python3.7/dist-packages/sklearn/neural_network/_multilayer_perceptron.py:699: UserWarning: Training interrupted by user.\n",
            "  warnings.warn(\"Training interrupted by user.\")\n",
            "/usr/local/lib/python3.7/dist-packages/sklearn/neural_network/_multilayer_perceptron.py:699: UserWarning: Training interrupted by user.\n",
            "  warnings.warn(\"Training interrupted by user.\")\n",
            "/usr/local/lib/python3.7/dist-packages/sklearn/neural_network/_multilayer_perceptron.py:699: UserWarning: Training interrupted by user.\n",
            "  warnings.warn(\"Training interrupted by user.\")\n",
            "/usr/local/lib/python3.7/dist-packages/sklearn/neural_network/_multilayer_perceptron.py:699: UserWarning: Training interrupted by user.\n",
            "  warnings.warn(\"Training interrupted by user.\")\n",
            "/usr/local/lib/python3.7/dist-packages/sklearn/neural_network/_multilayer_perceptron.py:699: UserWarning: Training interrupted by user.\n",
            "  warnings.warn(\"Training interrupted by user.\")\n",
            "/usr/local/lib/python3.7/dist-packages/sklearn/neural_network/_multilayer_perceptron.py:699: UserWarning: Training interrupted by user.\n",
            "  warnings.warn(\"Training interrupted by user.\")\n",
            "/usr/local/lib/python3.7/dist-packages/sklearn/neural_network/_multilayer_perceptron.py:699: UserWarning: Training interrupted by user.\n",
            "  warnings.warn(\"Training interrupted by user.\")\n",
            "/usr/local/lib/python3.7/dist-packages/sklearn/neural_network/_multilayer_perceptron.py:699: UserWarning: Training interrupted by user.\n",
            "  warnings.warn(\"Training interrupted by user.\")\n",
            "/usr/local/lib/python3.7/dist-packages/sklearn/neural_network/_multilayer_perceptron.py:699: UserWarning: Training interrupted by user.\n",
            "  warnings.warn(\"Training interrupted by user.\")\n",
            "/usr/local/lib/python3.7/dist-packages/sklearn/neural_network/_multilayer_perceptron.py:699: UserWarning: Training interrupted by user.\n",
            "  warnings.warn(\"Training interrupted by user.\")\n",
            "/usr/local/lib/python3.7/dist-packages/sklearn/neural_network/_multilayer_perceptron.py:699: UserWarning: Training interrupted by user.\n",
            "  warnings.warn(\"Training interrupted by user.\")\n",
            "/usr/local/lib/python3.7/dist-packages/sklearn/neural_network/_multilayer_perceptron.py:699: UserWarning: Training interrupted by user.\n",
            "  warnings.warn(\"Training interrupted by user.\")\n",
            "/usr/local/lib/python3.7/dist-packages/sklearn/neural_network/_multilayer_perceptron.py:699: UserWarning: Training interrupted by user.\n",
            "  warnings.warn(\"Training interrupted by user.\")\n",
            "/usr/local/lib/python3.7/dist-packages/sklearn/neural_network/_multilayer_perceptron.py:699: UserWarning: Training interrupted by user.\n",
            "  warnings.warn(\"Training interrupted by user.\")\n"
          ]
        }
      ],
      "source": [
        "neural_network_reg = MLPRegressor(random_state=1, max_iter=5000)\n",
        "parameters = {'hidden_layer_sizes': [(50, 50, 50), (50, 100, 50), (64, 64, 64)],\n",
        "   'activation': ['relu'],\n",
        "   'alpha': [0.0001, 0.05],\n",
        "   'learning_rate': ['constant', 'adaptive'],\n",
        "   'solver': ['adam']}\n",
        "\n",
        "\n",
        "grid_search = GridSearchCV(estimator = neural_network_reg,\n",
        "                          param_grid = parameters,\n",
        "                          cv = 10)\n",
        "\n",
        "grid_search.fit(x_train, y_train)\n",
        "grid_search.best_params_"
      ]
    },
    {
      "cell_type": "code",
      "execution_count": null,
      "metadata": {
        "id": "0UZSXrVp-Ig6"
      },
      "outputs": [],
      "source": [
        ""
      ]
    },
    {
      "cell_type": "markdown",
      "source": [
        "### Comparison of models"
      ],
      "metadata": {
        "id": "RXqbmwLgGMsu"
      }
    },
    {
      "cell_type": "code",
      "execution_count": null,
      "metadata": {
        "colab": {
          "base_uri": "https://localhost:8080/",
          "height": 300
        },
        "id": "cYzXLd3R-Ig7",
        "outputId": "b9574ea4-adc8-4be2-db34-0829b60ec871"
      },
      "outputs": [
        {
          "output_type": "execute_result",
          "data": {
            "text/html": [
              "\n",
              "  <div id=\"df-8b0bbbfc-a614-4529-9a07-50423b34b4e9\">\n",
              "    <div class=\"colab-df-container\">\n",
              "      <div>\n",
              "<style scoped>\n",
              "    .dataframe tbody tr th:only-of-type {\n",
              "        vertical-align: middle;\n",
              "    }\n",
              "\n",
              "    .dataframe tbody tr th {\n",
              "        vertical-align: top;\n",
              "    }\n",
              "\n",
              "    .dataframe thead th {\n",
              "        text-align: right;\n",
              "    }\n",
              "</style>\n",
              "<table border=\"1\" class=\"dataframe\">\n",
              "  <thead>\n",
              "    <tr style=\"text-align: right;\">\n",
              "      <th></th>\n",
              "      <th>MSE</th>\n",
              "    </tr>\n",
              "  </thead>\n",
              "  <tbody>\n",
              "    <tr>\n",
              "      <th>Gradient Boosting Regressor</th>\n",
              "      <td>25030.465332</td>\n",
              "    </tr>\n",
              "    <tr>\n",
              "      <th>Random Forest</th>\n",
              "      <td>27399.816177</td>\n",
              "    </tr>\n",
              "    <tr>\n",
              "      <th>Decision Tree Regression</th>\n",
              "      <td>64978.016188</td>\n",
              "    </tr>\n",
              "    <tr>\n",
              "      <th>KNN</th>\n",
              "      <td>73633.737716</td>\n",
              "    </tr>\n",
              "    <tr>\n",
              "      <th>SVR</th>\n",
              "      <td>101482.907455</td>\n",
              "    </tr>\n",
              "    <tr>\n",
              "      <th>Lasso Regression</th>\n",
              "      <td>164871.795096</td>\n",
              "    </tr>\n",
              "    <tr>\n",
              "      <th>Ridge Regression</th>\n",
              "      <td>164972.036156</td>\n",
              "    </tr>\n",
              "    <tr>\n",
              "      <th>Linear Regression</th>\n",
              "      <td>165006.972099</td>\n",
              "    </tr>\n",
              "  </tbody>\n",
              "</table>\n",
              "</div>\n",
              "      <button class=\"colab-df-convert\" onclick=\"convertToInteractive('df-8b0bbbfc-a614-4529-9a07-50423b34b4e9')\"\n",
              "              title=\"Convert this dataframe to an interactive table.\"\n",
              "              style=\"display:none;\">\n",
              "        \n",
              "  <svg xmlns=\"http://www.w3.org/2000/svg\" height=\"24px\"viewBox=\"0 0 24 24\"\n",
              "       width=\"24px\">\n",
              "    <path d=\"M0 0h24v24H0V0z\" fill=\"none\"/>\n",
              "    <path d=\"M18.56 5.44l.94 2.06.94-2.06 2.06-.94-2.06-.94-.94-2.06-.94 2.06-2.06.94zm-11 1L8.5 8.5l.94-2.06 2.06-.94-2.06-.94L8.5 2.5l-.94 2.06-2.06.94zm10 10l.94 2.06.94-2.06 2.06-.94-2.06-.94-.94-2.06-.94 2.06-2.06.94z\"/><path d=\"M17.41 7.96l-1.37-1.37c-.4-.4-.92-.59-1.43-.59-.52 0-1.04.2-1.43.59L10.3 9.45l-7.72 7.72c-.78.78-.78 2.05 0 2.83L4 21.41c.39.39.9.59 1.41.59.51 0 1.02-.2 1.41-.59l7.78-7.78 2.81-2.81c.8-.78.8-2.07 0-2.86zM5.41 20L4 18.59l7.72-7.72 1.47 1.35L5.41 20z\"/>\n",
              "  </svg>\n",
              "      </button>\n",
              "      \n",
              "  <style>\n",
              "    .colab-df-container {\n",
              "      display:flex;\n",
              "      flex-wrap:wrap;\n",
              "      gap: 12px;\n",
              "    }\n",
              "\n",
              "    .colab-df-convert {\n",
              "      background-color: #E8F0FE;\n",
              "      border: none;\n",
              "      border-radius: 50%;\n",
              "      cursor: pointer;\n",
              "      display: none;\n",
              "      fill: #1967D2;\n",
              "      height: 32px;\n",
              "      padding: 0 0 0 0;\n",
              "      width: 32px;\n",
              "    }\n",
              "\n",
              "    .colab-df-convert:hover {\n",
              "      background-color: #E2EBFA;\n",
              "      box-shadow: 0px 1px 2px rgba(60, 64, 67, 0.3), 0px 1px 3px 1px rgba(60, 64, 67, 0.15);\n",
              "      fill: #174EA6;\n",
              "    }\n",
              "\n",
              "    [theme=dark] .colab-df-convert {\n",
              "      background-color: #3B4455;\n",
              "      fill: #D2E3FC;\n",
              "    }\n",
              "\n",
              "    [theme=dark] .colab-df-convert:hover {\n",
              "      background-color: #434B5C;\n",
              "      box-shadow: 0px 1px 3px 1px rgba(0, 0, 0, 0.15);\n",
              "      filter: drop-shadow(0px 1px 2px rgba(0, 0, 0, 0.3));\n",
              "      fill: #FFFFFF;\n",
              "    }\n",
              "  </style>\n",
              "\n",
              "      <script>\n",
              "        const buttonEl =\n",
              "          document.querySelector('#df-8b0bbbfc-a614-4529-9a07-50423b34b4e9 button.colab-df-convert');\n",
              "        buttonEl.style.display =\n",
              "          google.colab.kernel.accessAllowed ? 'block' : 'none';\n",
              "\n",
              "        async function convertToInteractive(key) {\n",
              "          const element = document.querySelector('#df-8b0bbbfc-a614-4529-9a07-50423b34b4e9');\n",
              "          const dataTable =\n",
              "            await google.colab.kernel.invokeFunction('convertToInteractive',\n",
              "                                                     [key], {});\n",
              "          if (!dataTable) return;\n",
              "\n",
              "          const docLinkHtml = 'Like what you see? Visit the ' +\n",
              "            '<a target=\"_blank\" href=https://colab.research.google.com/notebooks/data_table.ipynb>data table notebook</a>'\n",
              "            + ' to learn more about interactive tables.';\n",
              "          element.innerHTML = '';\n",
              "          dataTable['output_type'] = 'display_data';\n",
              "          await google.colab.output.renderOutput(dataTable, element);\n",
              "          const docLink = document.createElement('div');\n",
              "          docLink.innerHTML = docLinkHtml;\n",
              "          element.appendChild(docLink);\n",
              "        }\n",
              "      </script>\n",
              "    </div>\n",
              "  </div>\n",
              "  "
            ],
            "text/plain": [
              "                                       MSE\n",
              "Gradient Boosting Regressor   25030.465332\n",
              "Random Forest                 27399.816177\n",
              "Decision Tree Regression      64978.016188\n",
              "KNN                           73633.737716\n",
              "SVR                          101482.907455\n",
              "Lasso Regression             164871.795096\n",
              "Ridge Regression             164972.036156\n",
              "Linear Regression            165006.972099"
            ]
          },
          "metadata": {},
          "execution_count": 45
        }
      ],
      "source": [
        "MSE_models = [MSE_linear_reg, MSE_ridge_reg, MSE_lasso_reg, MSE_svm_svr, MSE_knn_reg, MSE_tree_reg, MSE_rf_reg, MSE_grad_boosting_reg]\n",
        "names_models = [\"Linear Regression\", \"Ridge Regression\", \"Lasso Regression\", \"SVR\", \"KNN\", \"Decision Tree Regression\", \"Random Forest\", \"Gradient Boosting Regressor\"]\n",
        "comparison = pd.DataFrame(MSE_models, index = names_models, columns = [\"MSE\"])\n",
        "comparison.sort_values(by=\"MSE\")"
      ]
    },
    {
      "cell_type": "code",
      "source": [
        "fig, ax = plt.subplots(figsize=(18,6))\n",
        "plt.bar(comparison.index, comparison[\"MSE\"], color=['blue', 'orange', 'green', 'red', 'purple', 'brown', 'pink', 'grey'])\n",
        "#We add the legends and title \n",
        "plt.xlabel(\"Model\", fontsize= 12)\n",
        "plt.ylabel(\"MSE\", fontsize= 12)\n",
        "plt.title(\"Comparison of model scores\", fontsize= 15)"
      ],
      "metadata": {
        "colab": {
          "base_uri": "https://localhost:8080/",
          "height": 339
        },
        "id": "PWgAo8muSzhE",
        "outputId": "6738ca4d-2e98-4073-fc8b-29fb59b29a20"
      },
      "execution_count": null,
      "outputs": [
        {
          "output_type": "execute_result",
          "data": {
            "text/plain": [
              "Text(0.5, 1.0, 'Comparison of model scores')"
            ]
          },
          "metadata": {},
          "execution_count": 59
        },
        {
          "output_type": "display_data",
          "data": {
            "image/png": "[encoded data removed]",
            "text/plain": [
              "<Figure size 1296x432 with 1 Axes>"
            ]
          },
          "metadata": {
            "needs_background": "light"
          }
        }
      ]
    },
    {
      "cell_type": "markdown",
      "source": [
        "The best result is obtained with the gradient boosting regressor model."
      ],
      "metadata": {
        "id": "VMeF4cuaTcS5"
      }
    },
    {
      "cell_type": "code",
      "source": [
        ""
      ],
      "metadata": {
        "id": "MNrMYyeyUbGD"
      },
      "execution_count": null,
      "outputs": []
    },
    {
      "cell_type": "code",
      "source": [
        ""
      ],
      "metadata": {
        "id": "Seg7bkdVUbMD"
      },
      "execution_count": null,
      "outputs": []
    },
    {
      "cell_type": "code",
      "source": [
        ""
      ],
      "metadata": {
        "id": "gp49NGc5UbTf"
      },
      "execution_count": null,
      "outputs": []
    },
    {
      "cell_type": "markdown",
      "source": [
        "# Flask Application"
      ],
      "metadata": {
        "id": "VN6jkbMGUfOi"
      }
    },
    {
      "cell_type": "code",
      "source": [
        "!pip install flask-ngrok\n",
        "!pip install pyngrok==4.1.1\n",
        "#!ngrok authtoken 22jg9dgfJ2Vrf9hIs8I8fppLe24_4vre3wAhAg3T7F9ArM2Nr"
      ],
      "metadata": {
        "id": "MT7XDppsUbdx"
      },
      "execution_count": null,
      "outputs": []
    },
    {
      "cell_type": "code",
      "source": [
        "!ngrok authtoken 231aDBrawch35gOZZoCIMc5Z8Lb_5nmGDpG4oTEUY1ich83VN"
      ],
      "metadata": {
        "colab": {
          "base_uri": "https://localhost:8080/"
        },
        "id": "aDkMvEB2f8Cx",
        "outputId": "168105cd-b5a1-407e-e65b-d7e5a2ff5ede"
      },
      "execution_count": 7,
      "outputs": [
        {
          "output_type": "stream",
          "name": "stdout",
          "text": [
            "Authtoken saved to configuration file: /root/.ngrok2/ngrok.yml\n"
          ]
        }
      ]
    },
    {
      "cell_type": "code",
      "source": [
        "import pickle\n",
        "from os import name\n",
        "from flask_ngrok import run_with_ngrok\n",
        "from flask import Flask, request, render_template, redirect, url_for"
      ],
      "metadata": {
        "id": "tUGSgI9MWqN4"
      },
      "execution_count": 3,
      "outputs": []
    },
    {
      "cell_type": "code",
      "source": [
        "from os import name \n",
        "from flask_ngrok import run_with_ngrok\n",
        "from flask import Flask, request, render_template, redirect, url_for\n",
        "\n",
        "app = Flask(__name__, template_folder='/content', static_folder='/content/static')\n",
        "\n",
        "run_with_ngrok(app)\n",
        "\n",
        "@app.route('/')\n",
        "def home():\n",
        "    return render_template(\"index_accueil.html\")\n",
        "\n",
        "@app.route('/getpred',methods=['POST']) \n",
        "def getpred():\n",
        "    return render_template(\"index_accueil.html\", output=\"ok\")\n",
        "\n",
        "app.run()\n",
        "\n",
        "if __name__ == \"__main__\":\n",
        "    app.run()\n"
      ],
      "metadata": {
        "colab": {
          "base_uri": "https://localhost:8080/"
        },
        "id": "-3pnfYa0d6yJ",
        "outputId": "9b8e1af7-46cb-4c08-812e-57a68c17dc88"
      },
      "execution_count": 26,
      "outputs": [
        {
          "output_type": "stream",
          "name": "stdout",
          "text": [
            " * Serving Flask app \"__main__\" (lazy loading)\n",
            " * Environment: production\n",
            "\u001b[31m   WARNING: This is a development server. Do not use it in a production deployment.\u001b[0m\n",
            "\u001b[2m   Use a production WSGI server instead.\u001b[0m\n",
            " * Debug mode: off\n"
          ]
        },
        {
          "output_type": "stream",
          "name": "stderr",
          "text": [
            " * Running on http://127.0.0.1:5000/ (Press CTRL+C to quit)\n"
          ]
        },
        {
          "output_type": "stream",
          "name": "stdout",
          "text": [
            " * Running on http://3144-104-196-208-105.ngrok.io\n",
            " * Traffic stats available on http://127.0.0.1:4040\n"
          ]
        },
        {
          "output_type": "stream",
          "name": "stderr",
          "text": [
            "127.0.0.1 - - [31/Dec/2021 00:23:41] \"\u001b[37mGET / HTTP/1.1\u001b[0m\" 200 -\n",
            "127.0.0.1 - - [31/Dec/2021 00:23:41] \"\u001b[37mGET /static/css/style.css HTTP/1.1\u001b[0m\" 200 -\n",
            "127.0.0.1 - - [31/Dec/2021 00:23:42] \"\u001b[33mGET /favicon.ico HTTP/1.1\u001b[0m\" 404 -\n"
          ]
        },
        {
          "output_type": "stream",
          "name": "stdout",
          "text": [
            " * Serving Flask app \"__main__\" (lazy loading)\n",
            " * Environment: production\n",
            "\u001b[31m   WARNING: This is a development server. Do not use it in a production deployment.\u001b[0m\n",
            "\u001b[2m   Use a production WSGI server instead.\u001b[0m\n",
            " * Debug mode: off\n"
          ]
        },
        {
          "output_type": "stream",
          "name": "stderr",
          "text": [
            " * Running on http://127.0.0.1:5000/ (Press CTRL+C to quit)\n"
          ]
        }
      ]
    },
    {
      "cell_type": "code",
      "source": [
        ""
      ],
      "metadata": {
        "id": "UkIDwXcZd62i"
      },
      "execution_count": null,
      "outputs": []
    },
    {
      "cell_type": "code",
      "source": [
        ""
      ],
      "metadata": {
        "id": "_Dk5OjitWr_b"
      },
      "execution_count": null,
      "outputs": []
    },
    {
      "cell_type": "code",
      "source": [
        "app = Flask(__name__, template_folder='/content', static_folder='/content/static')\n",
        "\n",
        "run_with_ngrok(app)\n",
        "\n",
        "model_RF_all = pickle.load(open('/content/model_RF_all.pkl', 'rb'))\n",
        "model_RF_bin = pickle.load(open('/content/model_RF_bin.pkl', 'rb'))\n",
        "\n",
        "\n",
        "@app.route('/')\n",
        "def home():\n",
        "    return render_template(\"index_accueil.html\")\n",
        "\n",
        "@app.route('/Binary_prediction',methods=['POST'])\n",
        "def Binary_prediction(): \n",
        "  return render_template(\"binary_classification.html\")\n",
        "\n",
        "@app.route('/All_classes_prediction',methods=['POST'])\n",
        "def All_classes_prediction(): \n",
        "  return render_template(\"all_classes.html\")\n",
        "\n",
        "@app.route('/get_binary_prediction',methods=['POST'])\n",
        "def get_binary_prediction():    \n",
        "\n",
        "    input = [x for x in request.form.values()]\n",
        "    input.append(\"\")\n",
        "\n",
        "    x = Create_data_for_prediction(input)\n",
        "\n",
        "    prediction = model_RF_bin.predict(x)\n",
        "\n",
        "    return render_template(\"binary_classification.html\", output='Predicted obesity level category : {}'.format(prediction))\n",
        "\n",
        "@app.route('/get_all_classes_prediction',methods=['POST'])\n",
        "def get_all_classes_prediction():    \n",
        "\n",
        "    input = [x for x in request.form.values()]\n",
        "    input.append(\"\")\n",
        "\n",
        "    x = Create_data_for_prediction(input)\n",
        "\n",
        "    prediction = model_RF_all.predict(x)\n",
        "\n",
        "    return render_template(\"all_classes_result.html\", output='Predicted obesity level category : {}'.format(prediction))\n",
        "\n",
        "app.run()\n",
        "\n",
        "\n",
        "if __name__ == \"__main__\":\n",
        "    app.run()"
      ],
      "metadata": {
        "id": "b8_EfQc9WsBG"
      },
      "execution_count": null,
      "outputs": []
    }
  ],
  "metadata": {
    "kernelspec": {
      "display_name": "Python 3",
      "language": "python",
      "name": "python3"
    },
    "language_info": {
      "codemirror_mode": {
        "name": "ipython",
        "version": 3
      },
      "file_extension": ".py",
      "mimetype": "text/x-python",
      "name": "python",
      "nbconvert_exporter": "python",
      "pygments_lexer": "ipython3",
      "version": "3.7.4"
    },
    "colab": {
      "name": "Modeling.ipynb",
      "provenance": [],
      "collapsed_sections": [
        "PgLm3ejv-Igp",
        "1a-tOAuQ-Igq",
        "NVyY3mbt-Igq",
        "VGTyAFHA-Igs",
        "Ft8Wn0YF-Igt",
        "9tbtDEpu-Igt",
        "Z-RNEvoB-Igu",
        "jevN9D0r-Igv",
        "Xylnpc0Q-Igv",
        "wCo5Mu3I-Igw",
        "bA-fyRIY-Igx",
        "ooqyO_5s-Igx",
        "ZUQdvlNv-Igy",
        "_jfv3dC8-Igz",
        "YlFDnUOW-Ig0",
        "Pmv4FyX9-Ig0",
        "dWff0C5K-Ig0",
        "0upDBwr5-Ig2",
        "0AWE09GG-Ig2",
        "VUZ3nRKl-Ig2"
      ],
      "include_colab_link": true
    }
  },
  "nbformat": 4,
  "nbformat_minor": 0
}